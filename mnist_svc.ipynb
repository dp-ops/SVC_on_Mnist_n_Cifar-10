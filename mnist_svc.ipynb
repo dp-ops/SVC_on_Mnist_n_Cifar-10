{
 "cells": [
  {
   "cell_type": "markdown",
   "metadata": {},
   "source": [
    "To dataset to phrame apo: https://cs.nyu.edu/~roweis/data.html\n",
    "\n",
    "Exei 60k training sample kai 10k test samples"
   ]
  },
  {
   "cell_type": "code",
   "execution_count": 1,
   "metadata": {},
   "outputs": [],
   "source": [
    "import scipy.io\n",
    "import time \n",
    "import numpy as np\n",
    "import pandas as pd\n",
    "import matplotlib.pyplot as plt\n",
    "\n",
    "mat_data = scipy.io.loadmat(\"C:\\\\Users\\\\dimos\\\\PyProjecks\\\\Project_SVMs\\\\mnist_all.mat\")"
   ]
  },
  {
   "cell_type": "code",
   "execution_count": 2,
   "metadata": {},
   "outputs": [],
   "source": [
    "def load_data(mat_data, key_prefix):\n",
    "    data = []\n",
    "    labels = []\n",
    "    for i in range(10):\n",
    "        data.append(mat_data[f'{key_prefix}{i}'])\n",
    "        labels.append(np.full(mat_data[f'{key_prefix}{i}'].shape[0], i))\n",
    "    return np.vstack(data), np.hstack(labels)"
   ]
  },
  {
   "cell_type": "code",
   "execution_count": 3,
   "metadata": {},
   "outputs": [],
   "source": [
    "# 28x28 pixel einai oi eikones\n",
    "\n",
    "train_data, train_labels = load_data(mat_data, 'train')\n",
    "test_data, test_labels = load_data(mat_data, 'test')\n"
   ]
  },
  {
   "cell_type": "code",
   "execution_count": 4,
   "metadata": {},
   "outputs": [
    {
     "name": "stdout",
     "output_type": "stream",
     "text": [
      "(60000, 784)\n",
      "(60000,)\n",
      "(10000, 784)\n",
      "(10000,)\n"
     ]
    }
   ],
   "source": [
    "print(train_data.shape)\n",
    "print(train_labels.shape)\n",
    "print(test_data.shape)\n",
    "print(test_labels.shape)"
   ]
  },
  {
   "cell_type": "markdown",
   "metadata": {},
   "source": [
    "### Mini dataset to apply the svm"
   ]
  },
  {
   "cell_type": "code",
   "execution_count": 5,
   "metadata": {},
   "outputs": [],
   "source": [
    "def load_data_mini(mat_data, key_prefix, L):\n",
    "    data = []\n",
    "    labels = []\n",
    "    for i in range(10):\n",
    "        digit_data = mat_data[f'{key_prefix}{i}']\n",
    "        num_samples = min(L, digit_data.shape[0])\n",
    "        sampled_data = digit_data[:num_samples]\n",
    "        sampled_labels = np.full(num_samples, i)\n",
    "        data.append(sampled_data)\n",
    "        labels.append(sampled_labels)\n",
    "    return np.vstack(data), np.hstack(labels)"
   ]
  },
  {
   "cell_type": "code",
   "execution_count": 6,
   "metadata": {},
   "outputs": [
    {
     "name": "stdout",
     "output_type": "stream",
     "text": [
      "(5000, 784)\n",
      "(5000,)\n"
     ]
    }
   ],
   "source": [
    "X_mini, y_mini = load_data_mini(mat_data, 'train', 500)\n",
    "print(X_mini.shape)\n",
    "print(y_mini.shape)"
   ]
  },
  {
   "cell_type": "code",
   "execution_count": 7,
   "metadata": {},
   "outputs": [
    {
     "name": "stdout",
     "output_type": "stream",
     "text": [
      "(5000, 28, 28)\n"
     ]
    },
    {
     "data": {
      "image/png": "[encoded data removed]",
      "text/plain": [
       "<Figure size 640x480 with 4 Axes>"
      ]
     },
     "metadata": {},
     "output_type": "display_data"
    }
   ],
   "source": [
    "# show some images \n",
    "X = X_mini.reshape(X_mini.shape[0],28,-1)\n",
    "print(X.shape)\n",
    "\n",
    "plt.subplot(221)\n",
    "plt.imshow(X[100])\n",
    "plt.axis('off')\n",
    "plt.title(y_mini[100])\n",
    "plt.subplot(222)\n",
    "plt.imshow(X[700])\n",
    "plt.axis('off')\n",
    "plt.title(y_mini[700])\n",
    "plt.subplot(223)\n",
    "plt.imshow(X[2000])\n",
    "plt.axis('off')\n",
    "plt.title(y_mini[2000])\n",
    "plt.subplot(224)\n",
    "plt.imshow(X[4000])\n",
    "plt.axis('off')\n",
    "plt.title(y_mini[4000])\n",
    "\n",
    "plt.show()"
   ]
  },
  {
   "cell_type": "markdown",
   "metadata": {},
   "source": [
    "Normalizing the dataset in vector form "
   ]
  },
  {
   "cell_type": "code",
   "execution_count": 8,
   "metadata": {},
   "outputs": [
    {
     "name": "stdout",
     "output_type": "stream",
     "text": [
      "(5000, 784)\n",
      "(5000,)\n"
     ]
    }
   ],
   "source": [
    "print(X_mini.shape)\n",
    "print(y_mini.shape)\n",
    "\n",
    "def normal(X_mini):\n",
    "    #dedomeno oti einai gray scale eikones, max(xi)=255, min(xi)=0\n",
    "    X_norm = 2*(X_mini/255) - 1\n",
    "    return X_norm\n",
    "\n",
    "X_mini_n = normal(X_mini)\n"
   ]
  },
  {
   "cell_type": "code",
   "execution_count": 9,
   "metadata": {},
   "outputs": [
    {
     "name": "stdout",
     "output_type": "stream",
     "text": [
      "1.0\n",
      "-0.7373607402961179\n"
     ]
    }
   ],
   "source": [
    "max_value = np.max(X_mini_n)\n",
    "mean_value = np.mean(X_mini_n)\n",
    "print(max_value)\n",
    "print(mean_value)"
   ]
  },
  {
   "cell_type": "markdown",
   "metadata": {},
   "source": [
    "### Linear SVM"
   ]
  },
  {
   "cell_type": "code",
   "execution_count": 10,
   "metadata": {},
   "outputs": [],
   "source": [
    "test_data_n = normal(test_data)"
   ]
  },
  {
   "cell_type": "code",
   "execution_count": 11,
   "metadata": {},
   "outputs": [],
   "source": [
    "from sklearn.svm import SVC\n",
    "\n",
    "def svm_linear(c):\n",
    "    svc = SVC(kernel= 'linear', C = c)\n",
    "    svc.fit(X_mini_n, y_mini)\n",
    "\n",
    "    #pred values and accuracy on training\n",
    "    y_pred_train = svc.predict(X_mini_n)\n",
    "    acc_train = np.mean(y_pred_train == y_mini)\n",
    "    acc_train_linear.append(acc_train)\n",
    "    print('Train accuracy: {0:f}'.format(acc_train))\n",
    "\n",
    "    #pred values and accuracy on test\n",
    "    y_pred_test = svc.predict(test_data_n)\n",
    "    acc_test = np.mean(y_pred_test == test_labels)\n",
    "    acc_test_linear.append(acc_test)\n",
    "    print('Test accuracy: {0:f}'.format(acc_test))\n",
    "    print(f'This accuracy scores are for C: {c}')"
   ]
  },
  {
   "cell_type": "code",
   "execution_count": 56,
   "metadata": {},
   "outputs": [
    {
     "name": "stdout",
     "output_type": "stream",
     "text": [
      "Train accuracy: 0.865400\n",
      "Test accuracy: 0.860200\n",
      "This accuracy scores are for C: 0.0001\n",
      "Train accuracy: 0.932200\n",
      "Test accuracy: 0.911400\n",
      "This accuracy scores are for C: 0.001\n",
      "Train accuracy: 0.967200\n",
      "Test accuracy: 0.925200\n",
      "This accuracy scores are for C: 0.01\n",
      "Train accuracy: 0.997800\n",
      "Test accuracy: 0.915900\n",
      "This accuracy scores are for C: 0.1\n",
      "Train accuracy: 1.000000\n",
      "Test accuracy: 0.912200\n",
      "This accuracy scores are for C: 1\n",
      "Train accuracy: 1.000000\n",
      "Test accuracy: 0.912200\n",
      "This accuracy scores are for C: 10\n",
      "Train accuracy: 1.000000\n",
      "Test accuracy: 0.912200\n",
      "This accuracy scores are for C: 100\n",
      "duration was: 33.47\n"
     ]
    },
    {
     "data": {
      "image/png": "[encoded data removed]",
      "text/plain": [
       "<Figure size 640x480 with 1 Axes>"
      ]
     },
     "metadata": {},
     "output_type": "display_data"
    }
   ],
   "source": [
    "c_linear = [0.0001, 0.001, 0.01, 0.1, 1, 10, 100]\n",
    "acc_train_linear = []\n",
    "acc_test_linear = []\n",
    "\n",
    "s_time = time.time()\n",
    "for c in c_linear:\n",
    "    svm_linear(c)\n",
    "f_time = time.time()\n",
    "dur = f_time - s_time\n",
    "print(f'duration was: {dur:.2f}')\n",
    "\n",
    "plt.plot(c_linear, acc_train_linear, '.-', color='red')\n",
    "plt.plot(c_linear, acc_test_linear, '.-', color='blue')\n",
    "plt.xlabel('c')\n",
    "plt.ylabel('acc')\n",
    "plt.title('Acc vs c for traing and test data')\n",
    "plt.grid()"
   ]
  },
  {
   "cell_type": "code",
   "execution_count": 57,
   "metadata": {},
   "outputs": [
    {
     "name": "stdout",
     "output_type": "stream",
     "text": [
      "Train accuracy: 0.865400\n",
      "Test accuracy: 0.860200\n",
      "This accuracy scores are for C: 0.0001\n",
      "Train accuracy: 0.932200\n",
      "Test accuracy: 0.911400\n",
      "This accuracy scores are for C: 0.001\n",
      "Train accuracy: 0.967200\n",
      "Test accuracy: 0.925200\n",
      "This accuracy scores are for C: 0.01\n",
      "Train accuracy: 0.997800\n",
      "Test accuracy: 0.915900\n",
      "This accuracy scores are for C: 0.1\n",
      "Train accuracy: 1.000000\n",
      "Test accuracy: 0.912200\n",
      "This accuracy scores are for C: 1\n",
      "duration was: 31.58\n"
     ]
    },
    {
     "data": {
      "image/png": "[encoded data removed]",
      "text/plain": [
       "<Figure size 640x480 with 1 Axes>"
      ]
     },
     "metadata": {},
     "output_type": "display_data"
    }
   ],
   "source": [
    "c_linear = [0.0001, 0.001, 0.01, 0.1, 1]\n",
    "acc_train_linear = []\n",
    "acc_test_linear = []\n",
    "\n",
    "s_time = time.time()\n",
    "for c in c_linear:\n",
    "    svm_linear(c)\n",
    "f_time = time.time()\n",
    "dur = f_time - s_time\n",
    "print(f'duration was: {dur:.2f}')\n",
    "\n",
    "plt.plot(c_linear, acc_train_linear, '.-', color='red')\n",
    "plt.plot(c_linear, acc_test_linear, '.-', color='blue')\n",
    "plt.xlabel('c')\n",
    "plt.ylabel('acc')\n",
    "plt.title('Acc vs c for traing and test data')\n",
    "plt.grid()"
   ]
  },
  {
   "cell_type": "markdown",
   "metadata": {},
   "source": [
    "### SVM poly "
   ]
  },
  {
   "cell_type": "code",
   "execution_count": 12,
   "metadata": {},
   "outputs": [],
   "source": [
    "from sklearn.svm import SVC\n",
    "\n",
    "def svc_poly(c):\n",
    "    svc_poly = SVC(kernel= 'poly', C = c)\n",
    "    svc_poly.fit(X_mini_n, y_mini)\n",
    "\n",
    "    #pred values and accuracy on training\n",
    "    y_pred_train = svc_poly.predict(X_mini_n)\n",
    "    acc_train = np.mean(y_pred_train == y_mini)\n",
    "    acc_train_poly.append(acc_train)\n",
    "    print('Train accuracy: {0:f}'.format(acc_train))\n",
    "\n",
    "    #pred values and accuracy on test\n",
    "    y_pred_test = svc_poly.predict(test_data_n)\n",
    "    acc_test = np.mean(y_pred_test == test_labels)\n",
    "    acc_test_poly.append(acc_test)\n",
    "    print('Test accuracy: {0:f}'.format(acc_test))\n",
    "    print(f'This accuracy scores are for C: {c}')"
   ]
  },
  {
   "cell_type": "code",
   "execution_count": 59,
   "metadata": {},
   "outputs": [
    {
     "name": "stdout",
     "output_type": "stream",
     "text": [
      "Train accuracy: 0.790600\n",
      "Test accuracy: 0.794900\n",
      "This accuracy scores are for C: 0.0001\n",
      "Train accuracy: 0.828600\n",
      "Test accuracy: 0.824200\n",
      "This accuracy scores are for C: 0.001\n",
      "Train accuracy: 0.931000\n",
      "Test accuracy: 0.912700\n",
      "This accuracy scores are for C: 0.01\n",
      "Train accuracy: 0.980600\n",
      "Test accuracy: 0.945200\n",
      "This accuracy scores are for C: 0.1\n",
      "Train accuracy: 0.999800\n",
      "Test accuracy: 0.949300\n",
      "This accuracy scores are for C: 1\n",
      "Train accuracy: 1.000000\n",
      "Test accuracy: 0.949400\n",
      "This accuracy scores are for C: 10\n",
      "Train accuracy: 1.000000\n",
      "Test accuracy: 0.949400\n",
      "This accuracy scores are for C: 100\n",
      "duration was: 64.51\n"
     ]
    },
    {
     "data": {
      "image/png": "[encoded data removed]",
      "text/plain": [
       "<Figure size 640x480 with 1 Axes>"
      ]
     },
     "metadata": {},
     "output_type": "display_data"
    }
   ],
   "source": [
    "c_poly = [0.0001, 0.001, 0.01, 0.1, 1, 10, 100]\n",
    "acc_train_poly = []\n",
    "acc_test_poly = []\n",
    "\n",
    "s_time = time.time()\n",
    "for c in c_poly:\n",
    "    svc_poly(c)\n",
    "f_time = time.time()\n",
    "dur = f_time - s_time\n",
    "print(f'duration was: {dur:.2f}')\n",
    "\n",
    "plt.plot(c_poly, acc_train_poly, '.-', color='red')\n",
    "plt.plot(c_poly, acc_test_poly, '.-', color='blue')\n",
    "plt.xlabel('c')\n",
    "plt.ylabel('acc')\n",
    "plt.title('Acc vs c for traing and test data')\n",
    "plt.grid()"
   ]
  },
  {
   "cell_type": "code",
   "execution_count": 36,
   "metadata": {},
   "outputs": [
    {
     "name": "stdout",
     "output_type": "stream",
     "text": [
      "Train accuracy: 0.790600\n",
      "Test accuracy: 0.794900\n",
      "This accuracy scores are for C: 0.0001\n",
      "Train accuracy: 0.791600\n",
      "Test accuracy: 0.797200\n",
      "This accuracy scores are for C: 0.0005\n",
      "Train accuracy: 0.828600\n",
      "Test accuracy: 0.824200\n",
      "This accuracy scores are for C: 0.001\n",
      "Train accuracy: 0.912800\n",
      "Test accuracy: 0.900600\n",
      "This accuracy scores are for C: 0.005\n",
      "Train accuracy: 0.931000\n",
      "Test accuracy: 0.912700\n",
      "This accuracy scores are for C: 0.01\n",
      "Train accuracy: 0.966200\n",
      "Test accuracy: 0.939200\n",
      "This accuracy scores are for C: 0.05\n",
      "Train accuracy: 0.980600\n",
      "Test accuracy: 0.945200\n",
      "This accuracy scores are for C: 0.1\n",
      "Train accuracy: 0.998800\n",
      "Test accuracy: 0.950400\n",
      "This accuracy scores are for C: 0.5\n",
      "Train accuracy: 0.999800\n",
      "Test accuracy: 0.949300\n",
      "This accuracy scores are for C: 1\n",
      "duration was: 88.25\n"
     ]
    },
    {
     "data": {
      "image/png": "[encoded data removed]",
      "text/plain": [
       "<Figure size 640x480 with 1 Axes>"
      ]
     },
     "metadata": {},
     "output_type": "display_data"
    }
   ],
   "source": [
    "#gia na doyme poies time einia kales eos 1\n",
    "acc_train_poly = []\n",
    "acc_test_poly = []\n",
    "\n",
    "c_poly_optimize = [0.0001, 0.0005, 0.001, 0.005, 0.01, 0.05, 0.1, 0.5, 1]\n",
    "s_time = time.time()\n",
    "for c in c_poly_optimize:\n",
    "    svc_poly(c)\n",
    "f_time = time.time()\n",
    "dur = f_time - s_time\n",
    "print(f'duration was: {dur:.2f}')\n",
    "\n",
    "plt.plot(c_poly_optimize, acc_train_poly, '.-', color='red')\n",
    "plt.plot(c_poly_optimize, acc_test_poly, '.-', color='blue')\n",
    "plt.xlabel('c')\n",
    "plt.ylabel('acc')\n",
    "plt.title('Acc vs c for traing and test data')\n",
    "plt.grid()"
   ]
  },
  {
   "cell_type": "markdown",
   "metadata": {},
   "source": [
    "### SVC rbf"
   ]
  },
  {
   "cell_type": "code",
   "execution_count": 13,
   "metadata": {},
   "outputs": [],
   "source": [
    "from sklearn.svm import SVC\n",
    "\n",
    "def svc_rbf(c, g):\n",
    "    svc_rbf = SVC(kernel='rbf', C=c, gamma=g)\n",
    "    svc_rbf.fit(X_mini_n, y_mini)\n",
    "\n",
    "    #pred values and accuracy on train\n",
    "    y_pred_train = svc_rbf.predict(X_mini_n)\n",
    "    acc_train = np.mean(y_pred_train == y_mini)\n",
    "    acc_train_rbf.append(acc_train)\n",
    "    print('Train accuracy: {0:f}'.format(acc_train))\n",
    "\n",
    "    #pred values and accuracy on test\n",
    "    y_pred_test = svc_rbf.predict(test_data_n)\n",
    "    acc_test = np.mean(y_pred_test == test_labels)\n",
    "    acc_test_rbf.append(acc_test)\n",
    "    print('Test accuracy: {0:f}'.format(acc_test))\n",
    "    print(f'The C is: {c} and the gamma is: {g}')\n",
    "\n",
    "    return acc_train, acc_test"
   ]
  },
  {
   "cell_type": "code",
   "execution_count": 63,
   "metadata": {},
   "outputs": [
    {
     "name": "stdout",
     "output_type": "stream",
     "text": [
      "Train accuracy: 0.766600\n",
      "Test accuracy: 0.770900\n",
      "The C is: 0.0001 and the gamma is: auto\n",
      "Train accuracy: 0.766600\n",
      "Test accuracy: 0.770900\n",
      "The C is: 0.001 and the gamma is: auto\n",
      "Train accuracy: 0.768200\n",
      "Test accuracy: 0.771800\n",
      "The C is: 0.01 and the gamma is: auto\n",
      "Train accuracy: 0.904000\n",
      "Test accuracy: 0.894700\n",
      "The C is: 0.1 and the gamma is: auto\n",
      "Train accuracy: 0.958400\n",
      "Test accuracy: 0.934400\n",
      "The C is: 1 and the gamma is: auto\n",
      "Train accuracy: 0.997800\n",
      "Test accuracy: 0.946600\n",
      "The C is: 10 and the gamma is: auto\n",
      "Train accuracy: 1.000000\n",
      "Test accuracy: 0.945800\n",
      "The C is: 100 and the gamma is: auto\n",
      "Durration: 151.09\n"
     ]
    },
    {
     "data": {
      "image/png": "[encoded data removed]",
      "text/plain": [
       "<Figure size 640x480 with 1 Axes>"
      ]
     },
     "metadata": {},
     "output_type": "display_data"
    }
   ],
   "source": [
    "c_rbf= [0.0001, 0.001, 0.01, 0.1, 1, 10, 100]\n",
    "acc_train_rbf = []\n",
    "acc_test_rbf = []\n",
    "\n",
    "s_time = time.time()\n",
    "for c in c_rbf:\n",
    "    svc_rbf(c, 'auto')\n",
    "f_time = time.time()\n",
    "dur = f_time - s_time\n",
    "print(f'Durration: {dur:.2f}')\n",
    "\n",
    "plt.plot(c_rbf, acc_train_rbf, '.-', color='red')\n",
    "plt.plot(c_rbf, acc_test_rbf, '.-', color='blue')\n",
    "plt.xlabel('c')\n",
    "plt.ylabel('acc')\n",
    "plt.title('Acc vs c for traing and test data')\n",
    "plt.grid()"
   ]
  },
  {
   "cell_type": "code",
   "execution_count": 28,
   "metadata": {},
   "outputs": [
    {
     "name": "stdout",
     "output_type": "stream",
     "text": [
      "Train accuracy: 0.766600\n",
      "Test accuracy: 0.770900\n",
      "The C is: 0.0001 and the gamma is: auto\n",
      "Train accuracy: 0.766600\n",
      "Test accuracy: 0.770900\n",
      "The C is: 0.001 and the gamma is: auto\n",
      "Train accuracy: 0.768200\n",
      "Test accuracy: 0.771800\n",
      "The C is: 0.01 and the gamma is: auto\n",
      "Train accuracy: 0.872600\n",
      "Test accuracy: 0.864700\n",
      "The C is: 0.05 and the gamma is: auto\n",
      "Train accuracy: 0.904000\n",
      "Test accuracy: 0.894700\n",
      "The C is: 0.1 and the gamma is: auto\n",
      "Train accuracy: 0.945400\n",
      "Test accuracy: 0.923800\n",
      "The C is: 0.5 and the gamma is: auto\n",
      "Train accuracy: 0.958400\n",
      "Test accuracy: 0.934400\n",
      "The C is: 1 and the gamma is: auto\n",
      "Train accuracy: 0.991000\n",
      "Test accuracy: 0.945500\n",
      "The C is: 5 and the gamma is: auto\n",
      "Train accuracy: 0.997800\n",
      "Test accuracy: 0.946600\n",
      "The C is: 10 and the gamma is: auto\n",
      "Train accuracy: 0.999200\n",
      "Test accuracy: 0.946800\n",
      "The C is: 20 and the gamma is: auto\n",
      "Durration: 214.49\n"
     ]
    },
    {
     "data": {
      "image/png": "[encoded data removed]",
      "text/plain": [
       "<Figure size 640x480 with 1 Axes>"
      ]
     },
     "metadata": {},
     "output_type": "display_data"
    }
   ],
   "source": [
    "c_rbf= [0.0001, 0.001, 0.01, 0.05, 0.1, 0.5, 1, 5, 10, 20]\n",
    "acc_train_rbf = []\n",
    "acc_test_rbf = []\n",
    "\n",
    "s_time = time.time()\n",
    "for c in c_rbf:\n",
    "    svc_rbf(c, 'auto')\n",
    "f_time = time.time()\n",
    "dur = f_time - s_time\n",
    "print(f'Durration: {dur:.2f}')\n",
    "\n",
    "plt.plot(c_rbf, acc_train_rbf, '.-', color='red')\n",
    "plt.plot(c_rbf, acc_test_rbf, '.-', color='blue')\n",
    "plt.xlabel('c')\n",
    "plt.ylabel('acc')\n",
    "plt.title('Acc vs c for traing and test data')\n",
    "plt.grid()"
   ]
  },
  {
   "cell_type": "code",
   "execution_count": 11,
   "metadata": {},
   "outputs": [],
   "source": [
    "from sklearn.model_selection import train_test_split\n",
    "from sklearn.svm import SVC\n",
    "import numpy as np\n",
    "\n",
    "def hyperpam_tuning(x_train, y_train, c, g):\n",
    "    x_ts, x_val, y_ts, y_val = train_test_split(\n",
    "        x_train, y_train, test_size=0.2, stratify=y_train, random_state=0\n",
    "    )\n",
    "\n",
    "    svc = SVC(kernel='rbf', C=c, gamma=g)\n",
    "    svc.fit(x_ts, y_ts)\n",
    "\n",
    "    #data from training\n",
    "    y_pred_train = svc.predict(x_ts)\n",
    "    acc_train = np.mean(y_pred_train == y_ts)\n",
    "    acc_train_rbf.append(acc_train)\n",
    "    print('Train accuracy: {0:f}'.format(acc_train))\n",
    "\n",
    "    #data from validation\n",
    "    y_pred_val = svc.predict(x_val)\n",
    "    acc_val = np.mean(y_pred_val == y_val)\n",
    "    acc_val_rbf.append(acc_val)\n",
    "    print('Validation accuracy: {0:f}'.format(acc_val))\n",
    "    print(f'The C is: {c} and the gamma is: {g}')\n",
    "\n",
    "    return acc_train, acc_val"
   ]
  },
  {
   "cell_type": "code",
   "execution_count": 12,
   "metadata": {},
   "outputs": [
    {
     "name": "stdout",
     "output_type": "stream",
     "text": [
      "Train accuracy: 0.936250\n",
      "Validation accuracy: 0.917000\n",
      "The C is: 0.5 and the gamma is: 0.001\n",
      "Durration for C:0.5 and gamma: 0.001 is 3.7834110260009766 sec\n",
      "Train accuracy: 0.991500\n",
      "Validation accuracy: 0.946000\n",
      "The C is: 0.5 and the gamma is: 0.01\n",
      "Durration for C:0.5 and gamma: 0.01 is 4.946882486343384 sec\n",
      "Train accuracy: 0.992750\n",
      "Validation accuracy: 0.153000\n",
      "The C is: 0.5 and the gamma is: 0.1\n",
      "Durration for C:0.5 and gamma: 0.1 is 10.254109859466553 sec\n",
      "Train accuracy: 0.949750\n",
      "Validation accuracy: 0.932000\n",
      "The C is: 1 and the gamma is: 0.001\n",
      "Durration for C:1 and gamma: 0.001 is 3.2063939571380615 sec\n",
      "Train accuracy: 0.998500\n",
      "Validation accuracy: 0.952000\n",
      "The C is: 1 and the gamma is: 0.01\n",
      "Durration for C:1 and gamma: 0.01 is 5.090221166610718 sec\n",
      "Train accuracy: 1.000000\n",
      "Validation accuracy: 0.364000\n",
      "The C is: 1 and the gamma is: 0.1\n",
      "Durration for C:1 and gamma: 0.1 is 10.122467994689941 sec\n",
      "Train accuracy: 0.984250\n",
      "Validation accuracy: 0.945000\n",
      "The C is: 5 and the gamma is: 0.001\n",
      "Durration for C:5 and gamma: 0.001 is 2.3393313884735107 sec\n",
      "Train accuracy: 1.000000\n",
      "Validation accuracy: 0.954000\n",
      "The C is: 5 and the gamma is: 0.01\n",
      "Durration for C:5 and gamma: 0.01 is 5.204451322555542 sec\n",
      "Train accuracy: 1.000000\n",
      "Validation accuracy: 0.394000\n",
      "The C is: 5 and the gamma is: 0.1\n",
      "Durration for C:5 and gamma: 0.1 is 10.143611431121826 sec\n",
      "Train accuracy: 0.994750\n",
      "Validation accuracy: 0.945000\n",
      "The C is: 10 and the gamma is: 0.001\n",
      "Durration for C:10 and gamma: 0.001 is 2.302790403366089 sec\n",
      "Train accuracy: 1.000000\n",
      "Validation accuracy: 0.954000\n",
      "The C is: 10 and the gamma is: 0.01\n",
      "Durration for C:10 and gamma: 0.01 is 5.145339727401733 sec\n",
      "Train accuracy: 1.000000\n",
      "Validation accuracy: 0.394000\n",
      "The C is: 10 and the gamma is: 0.1\n",
      "Durration for C:10 and gamma: 0.1 is 10.053759574890137 sec\n",
      "Durration: 1.21 min\n"
     ]
    },
    {
     "data": {
      "text/html": [
       "<div>\n",
       "<style scoped>\n",
       "    .dataframe tbody tr th:only-of-type {\n",
       "        vertical-align: middle;\n",
       "    }\n",
       "\n",
       "    .dataframe tbody tr th {\n",
       "        vertical-align: top;\n",
       "    }\n",
       "\n",
       "    .dataframe thead th {\n",
       "        text-align: right;\n",
       "    }\n",
       "</style>\n",
       "<table border=\"1\" class=\"dataframe\">\n",
       "  <thead>\n",
       "    <tr style=\"text-align: right;\">\n",
       "      <th></th>\n",
       "      <th>C</th>\n",
       "      <th>gamma</th>\n",
       "      <th>acc_train</th>\n",
       "      <th>acc_val</th>\n",
       "    </tr>\n",
       "  </thead>\n",
       "  <tbody>\n",
       "    <tr>\n",
       "      <th>0</th>\n",
       "      <td>0.5</td>\n",
       "      <td>0.001</td>\n",
       "      <td>0.93625</td>\n",
       "      <td>0.917</td>\n",
       "    </tr>\n",
       "    <tr>\n",
       "      <th>1</th>\n",
       "      <td>0.5</td>\n",
       "      <td>0.010</td>\n",
       "      <td>0.99150</td>\n",
       "      <td>0.946</td>\n",
       "    </tr>\n",
       "    <tr>\n",
       "      <th>2</th>\n",
       "      <td>0.5</td>\n",
       "      <td>0.100</td>\n",
       "      <td>0.99275</td>\n",
       "      <td>0.153</td>\n",
       "    </tr>\n",
       "    <tr>\n",
       "      <th>3</th>\n",
       "      <td>1.0</td>\n",
       "      <td>0.001</td>\n",
       "      <td>0.94975</td>\n",
       "      <td>0.932</td>\n",
       "    </tr>\n",
       "    <tr>\n",
       "      <th>4</th>\n",
       "      <td>1.0</td>\n",
       "      <td>0.010</td>\n",
       "      <td>0.99850</td>\n",
       "      <td>0.952</td>\n",
       "    </tr>\n",
       "    <tr>\n",
       "      <th>5</th>\n",
       "      <td>1.0</td>\n",
       "      <td>0.100</td>\n",
       "      <td>1.00000</td>\n",
       "      <td>0.364</td>\n",
       "    </tr>\n",
       "    <tr>\n",
       "      <th>6</th>\n",
       "      <td>5.0</td>\n",
       "      <td>0.001</td>\n",
       "      <td>0.98425</td>\n",
       "      <td>0.945</td>\n",
       "    </tr>\n",
       "    <tr>\n",
       "      <th>7</th>\n",
       "      <td>5.0</td>\n",
       "      <td>0.010</td>\n",
       "      <td>1.00000</td>\n",
       "      <td>0.954</td>\n",
       "    </tr>\n",
       "    <tr>\n",
       "      <th>8</th>\n",
       "      <td>5.0</td>\n",
       "      <td>0.100</td>\n",
       "      <td>1.00000</td>\n",
       "      <td>0.394</td>\n",
       "    </tr>\n",
       "    <tr>\n",
       "      <th>9</th>\n",
       "      <td>10.0</td>\n",
       "      <td>0.001</td>\n",
       "      <td>0.99475</td>\n",
       "      <td>0.945</td>\n",
       "    </tr>\n",
       "    <tr>\n",
       "      <th>10</th>\n",
       "      <td>10.0</td>\n",
       "      <td>0.010</td>\n",
       "      <td>1.00000</td>\n",
       "      <td>0.954</td>\n",
       "    </tr>\n",
       "    <tr>\n",
       "      <th>11</th>\n",
       "      <td>10.0</td>\n",
       "      <td>0.100</td>\n",
       "      <td>1.00000</td>\n",
       "      <td>0.394</td>\n",
       "    </tr>\n",
       "  </tbody>\n",
       "</table>\n",
       "</div>"
      ],
      "text/plain": [
       "       C  gamma  acc_train  acc_val\n",
       "0    0.5  0.001    0.93625    0.917\n",
       "1    0.5  0.010    0.99150    0.946\n",
       "2    0.5  0.100    0.99275    0.153\n",
       "3    1.0  0.001    0.94975    0.932\n",
       "4    1.0  0.010    0.99850    0.952\n",
       "5    1.0  0.100    1.00000    0.364\n",
       "6    5.0  0.001    0.98425    0.945\n",
       "7    5.0  0.010    1.00000    0.954\n",
       "8    5.0  0.100    1.00000    0.394\n",
       "9   10.0  0.001    0.99475    0.945\n",
       "10  10.0  0.010    1.00000    0.954\n",
       "11  10.0  0.100    1.00000    0.394"
      ]
     },
     "execution_count": 12,
     "metadata": {},
     "output_type": "execute_result"
    }
   ],
   "source": [
    "c_rbf = [0.5, 1, 5, 10]\n",
    "gamma = [0.001, 0.01, 0.1]\n",
    "acc_train_rbf = []\n",
    "acc_val_rbf = []\n",
    "results = []\n",
    "\n",
    "s_time_t = time.time()\n",
    "for c in c_rbf:\n",
    "    for g in gamma:\n",
    "        s_time = time.time()\n",
    "        acc_train, acc_val = hyperpam_tuning(X_mini_n, y_mini, c, g)\n",
    "        f_time = time.time()\n",
    "        d= f_time - s_time\n",
    "        print(f'Durration for C:{c} and gamma: {g} is {d} sec')\n",
    "\n",
    "        results.append({'C':c, 'gamma':g, 'acc_train':acc_train, 'acc_val': acc_val})\n",
    "\n",
    "f_time_t = time.time()\n",
    "dur = f_time_t - s_time_t\n",
    "print(f'Durration: {round(dur/60,2)} min')\n",
    "df =pd.DataFrame(results)\n",
    "df"
   ]
  },
  {
   "cell_type": "code",
   "execution_count": null,
   "metadata": {},
   "outputs": [
    {
     "data": {
      "text/plain": [
       "7"
      ]
     },
     "execution_count": 19,
     "metadata": {},
     "output_type": "execute_result"
    }
   ],
   "source": [
    "idmax = df['acc_val'].idxmax()\n",
    "idmax"
   ]
  },
  {
   "cell_type": "code",
   "execution_count": null,
   "metadata": {},
   "outputs": [
    {
     "name": "stdout",
     "output_type": "stream",
     "text": [
      "Fitting time is: 2.0827386379241943\n",
      "Train accuracy: 1.000000\n",
      "Training time: 4.177232503890991\n",
      "Validation accuracy: 0.958400\n",
      "Testing time: 8.05570363998413\n"
     ]
    }
   ],
   "source": [
    "from sklearn.svm import SVC\n",
    "\n",
    "best_model = SVC(kernel='rbf',C=5, gamma=0.01)\n",
    "s_time = time.time()\n",
    "best_model.fit(X_mini_n, y_mini)\n",
    "f_time = time.time()\n",
    "print(f'Fitting time is: {f_time - s_time}')\n",
    "s_t = time.time()\n",
    "y_pred_train = best_model.predict(X_mini_n)\n",
    "acc_train = np.mean(y_pred_train == y_mini)\n",
    "f_t = time.time()\n",
    "print('Train accuracy: {0:f}'.format(acc_train))\n",
    "print(f'Training time: {f_t - s_t}')\n",
    "s_t = time.time()\n",
    "y_pred_test = best_model.predict(test_data_n)\n",
    "acc_test = np.mean(y_pred_test == test_labels)\n",
    "f_t = time.time()\n",
    "print('Test accuracy: {0:f}'.format(acc_test))\n",
    "print(f'Testing time: {f_t - s_t}')"
   ]
  },
  {
   "cell_type": "markdown",
   "metadata": {},
   "source": [
    "### Reduce dimentionality with PCA"
   ]
  },
  {
   "cell_type": "markdown",
   "metadata": {},
   "source": [
    "Λόγο ότι παίρνει μέχρι και 3 λεπτά για την εκπαίδευση ένος SVC στο 1/9 των δεδομένων, θα δοκιμάσω να μειώσω την διάσταση με το PCA να δω αν πάει καθόλου πιο γρήγορα."
   ]
  },
  {
   "cell_type": "code",
   "execution_count": 14,
   "metadata": {},
   "outputs": [],
   "source": [
    "from sklearn.decomposition import PCA\n",
    "\n",
    "pca = PCA(n_components=0.9)\n",
    "pca.fit(X_mini_n)\n",
    "\n",
    "X_mnt = pca.transform(X_mini_n)\n",
    "test_dnt = pca.transform(test_data_n)"
   ]
  },
  {
   "cell_type": "code",
   "execution_count": 15,
   "metadata": {},
   "outputs": [
    {
     "name": "stdout",
     "output_type": "stream",
     "text": [
      "(5000, 85)\n",
      "(5000,)\n",
      "(10000, 85)\n",
      "(10000,)\n",
      "(5000, 784)\n"
     ]
    }
   ],
   "source": [
    "print(X_mnt.shape)\n",
    "print(y_mini.shape)\n",
    "print(test_dnt.shape)\n",
    "print(test_labels.shape)\n",
    "print(X_mini_n.shape)"
   ]
  },
  {
   "cell_type": "markdown",
   "metadata": {},
   "source": [
    "#### linear SVC aplication\n",
    "Χρησιμοποιούμε απεύθείας το διάστημα των C που βρήκαμε από πάνω με κάποιες προσθήκες. Μετά το PCA είναι υπερβολικά πιο γρήγορη η εκτέλεση του SVC πράγραμα που και φαίνεται ότι τα features από (5000, 784) --> (5000, 85)"
   ]
  },
  {
   "cell_type": "code",
   "execution_count": 16,
   "metadata": {},
   "outputs": [],
   "source": [
    "from sklearn.svm import SVC\n",
    "\n",
    "def svm_linear_PCA(c):\n",
    "    svc = SVC(kernel= 'linear', C = c)\n",
    "    svc.fit(X_mnt, y_mini)\n",
    "\n",
    "    #pred values and accuracy on training\n",
    "    y_pred_train = svc.predict(X_mnt)\n",
    "    acc_train = np.mean(y_pred_train == y_mini)\n",
    "    acc_train_linear.append(acc_train)\n",
    "    print('Train accuracy: {0:f}'.format(acc_train))\n",
    "\n",
    "    #pred values and accuracy on test\n",
    "    y_pred_test = svc.predict(test_dnt)\n",
    "    acc_test = np.mean(y_pred_test == test_labels)\n",
    "    acc_test_linear.append(acc_test)\n",
    "    print('Test accuracy: {0:f}'.format(acc_test))\n",
    "    print(f'This accuracy scores are for C: {c}')"
   ]
  },
  {
   "cell_type": "code",
   "execution_count": 17,
   "metadata": {},
   "outputs": [
    {
     "name": "stdout",
     "output_type": "stream",
     "text": [
      "Train accuracy: 0.863200\n",
      "Test accuracy: 0.859800\n",
      "This accuracy scores are for C: 0.0001\n",
      "Train accuracy: 0.925800\n",
      "Test accuracy: 0.909900\n",
      "This accuracy scores are for C: 0.001\n",
      "Train accuracy: 0.955600\n",
      "Test accuracy: 0.923800\n",
      "This accuracy scores are for C: 0.01\n",
      "Train accuracy: 0.978400\n",
      "Test accuracy: 0.913500\n",
      "This accuracy scores are for C: 0.1\n",
      "Train accuracy: 0.993200\n",
      "Test accuracy: 0.899400\n",
      "This accuracy scores are for C: 1\n",
      "Train accuracy: 0.995400\n",
      "Test accuracy: 0.898600\n",
      "This accuracy scores are for C: 2.5\n",
      "Train accuracy: 0.996400\n",
      "Test accuracy: 0.895400\n",
      "This accuracy scores are for C: 5\n",
      "duration was: 7.15\n"
     ]
    },
    {
     "data": {
      "image/png": "[encoded data removed]",
      "text/plain": [
       "<Figure size 640x480 with 1 Axes>"
      ]
     },
     "metadata": {},
     "output_type": "display_data"
    }
   ],
   "source": [
    "c_linear = [0.0001, 0.001, 0.01, 0.1, 1, 2.5, 5]\n",
    "acc_train_linear = []\n",
    "acc_test_linear = []\n",
    "\n",
    "s_time = time.time()\n",
    "for c in c_linear:\n",
    "    svm_linear_PCA(c)\n",
    "f_time = time.time()\n",
    "dur = f_time - s_time\n",
    "print(f'duration was: {dur:.2f}')\n",
    "\n",
    "plt.plot(c_linear, acc_train_linear, '.-', color='red')\n",
    "plt.plot(c_linear, acc_test_linear, '.-', color='blue')\n",
    "plt.xlabel('c')\n",
    "plt.ylabel('acc')\n",
    "plt.suptitle('SVC kernel: Linear', fontsize=16)\n",
    "plt.title('Acc vs c for traing and val data')\n",
    "plt.grid()"
   ]
  },
  {
   "cell_type": "markdown",
   "metadata": {},
   "source": [
    "Επαναλαμβάνω για poly και rbf πάλι στα διαστήματα που έχουμε βρει από πάνω."
   ]
  },
  {
   "cell_type": "code",
   "execution_count": 18,
   "metadata": {},
   "outputs": [],
   "source": [
    "from sklearn.svm import SVC\n",
    "\n",
    "def svc_poly_PCA(c):\n",
    "    svc_poly = SVC(kernel= 'poly', C = c)\n",
    "    svc_poly.fit(X_mnt, y_mini)\n",
    "\n",
    "    #pred values and accuracy on training\n",
    "    y_pred_train = svc_poly.predict(X_mnt)\n",
    "    acc_train = np.mean(y_pred_train == y_mini)\n",
    "    acc_train_poly.append(acc_train)\n",
    "    print('Train accuracy: {0:f}'.format(acc_train))\n",
    "\n",
    "    #pred values and accuracy on test\n",
    "    y_pred_test = svc_poly.predict(test_dnt)\n",
    "    acc_test = np.mean(y_pred_test == test_labels)\n",
    "    acc_test_poly.append(acc_test)\n",
    "    print('Test accuracy: {0:f}'.format(acc_test))\n",
    "    print(f'This accuracy scores are for C: {c}')\n",
    "\n",
    "def svc_rbf_PCA(c, g):\n",
    "    svc_rbf = SVC(kernel='rbf', C=c, gamma=g)\n",
    "    svc_rbf.fit(X_mnt, y_mini)\n",
    "\n",
    "    #pred values and accuracy on train\n",
    "    y_pred_train = svc_rbf.predict(X_mnt)\n",
    "    acc_train = np.mean(y_pred_train == y_mini)\n",
    "    acc_train_rbf.append(acc_train)\n",
    "    print('Train accuracy: {0:f}'.format(acc_train))\n",
    "\n",
    "    #pred values and accuracy on test\n",
    "    y_pred_test = svc_rbf.predict(test_dnt)\n",
    "    acc_test = np.mean(y_pred_test == test_labels)\n",
    "    acc_test_rbf.append(acc_test)\n",
    "    print('Test accuracy: {0:f}'.format(acc_test))\n",
    "    print(f'The C is: {c} and the gamma is: {g}')\n",
    "\n",
    "    return acc_train, acc_test"
   ]
  },
  {
   "cell_type": "code",
   "execution_count": 20,
   "metadata": {},
   "outputs": [
    {
     "name": "stdout",
     "output_type": "stream",
     "text": [
      "Train accuracy: 0.490000\n",
      "Test accuracy: 0.463100\n",
      "This accuracy scores are for C: 0.0001\n",
      "Train accuracy: 0.490000\n",
      "Test accuracy: 0.463100\n",
      "This accuracy scores are for C: 0.0005\n",
      "Train accuracy: 0.490000\n",
      "Test accuracy: 0.463100\n",
      "This accuracy scores are for C: 0.001\n",
      "Train accuracy: 0.502000\n",
      "Test accuracy: 0.472000\n",
      "This accuracy scores are for C: 0.005\n",
      "Train accuracy: 0.524000\n",
      "Test accuracy: 0.487300\n",
      "This accuracy scores are for C: 0.01\n",
      "Train accuracy: 0.819200\n",
      "Test accuracy: 0.782500\n",
      "This accuracy scores are for C: 0.05\n",
      "Train accuracy: 0.914200\n",
      "Test accuracy: 0.876500\n",
      "This accuracy scores are for C: 0.1\n",
      "Train accuracy: 0.986400\n",
      "Test accuracy: 0.950200\n",
      "This accuracy scores are for C: 0.5\n",
      "Train accuracy: 0.994000\n",
      "Test accuracy: 0.955700\n",
      "This accuracy scores are for C: 1\n",
      "Durration: 21.74\n"
     ]
    },
    {
     "data": {
      "image/png": "[encoded data removed]",
      "text/plain": [
       "<Figure size 640x480 with 1 Axes>"
      ]
     },
     "metadata": {},
     "output_type": "display_data"
    }
   ],
   "source": [
    "#gia na doyme poies time einia kales eos 1\n",
    "acc_train_poly = []\n",
    "acc_test_poly = []\n",
    "\n",
    "c_poly_optimize = [0.0001, 0.0005, 0.001, 0.005, 0.01, 0.05, 0.1, 0.5, 1]\n",
    "s_time = time.time()\n",
    "for c in c_poly_optimize:\n",
    "    svc_poly_PCA(c)\n",
    "f_time = time.time()\n",
    "dur = f_time - s_time\n",
    "print(f'Durration: {dur:.2f}')\n",
    "\n",
    "plt.plot(c_poly_optimize, acc_train_poly, '.-', color='red')\n",
    "plt.plot(c_poly_optimize, acc_test_poly, '.-', color='blue')\n",
    "plt.xlabel('c')\n",
    "plt.ylabel('acc')\n",
    "plt.suptitle('SVC kernel: Poly', fontsize=16)\n",
    "plt.title('Acc vs c for traing and val data')\n",
    "plt.grid()"
   ]
  },
  {
   "cell_type": "markdown",
   "metadata": {},
   "source": [
    "Durration difference from poly C check without PCA and with PCA: 88.25 --> 21.14"
   ]
  },
  {
   "cell_type": "code",
   "execution_count": 21,
   "metadata": {},
   "outputs": [
    {
     "name": "stdout",
     "output_type": "stream",
     "text": [
      "Train accuracy: 0.823000\n",
      "Test accuracy: 0.788500\n",
      "The C is: 0.0001 and the gamma is: auto\n",
      "Train accuracy: 0.823000\n",
      "Test accuracy: 0.788500\n",
      "The C is: 0.001 and the gamma is: auto\n",
      "Train accuracy: 0.823000\n",
      "Test accuracy: 0.788500\n",
      "The C is: 0.01 and the gamma is: auto\n",
      "Train accuracy: 0.885000\n",
      "Test accuracy: 0.854600\n",
      "The C is: 0.05 and the gamma is: auto\n",
      "Train accuracy: 0.943200\n",
      "Test accuracy: 0.911700\n",
      "The C is: 0.1 and the gamma is: auto\n",
      "Train accuracy: 0.991200\n",
      "Test accuracy: 0.953600\n",
      "The C is: 0.5 and the gamma is: auto\n",
      "Train accuracy: 0.998000\n",
      "Test accuracy: 0.960300\n",
      "The C is: 1 and the gamma is: auto\n",
      "Train accuracy: 1.000000\n",
      "Test accuracy: 0.962200\n",
      "The C is: 5 and the gamma is: auto\n",
      "Train accuracy: 1.000000\n",
      "Test accuracy: 0.962200\n",
      "The C is: 10 and the gamma is: auto\n",
      "Train accuracy: 1.000000\n",
      "Test accuracy: 0.962200\n",
      "The C is: 20 and the gamma is: auto\n",
      "Durration: 51.93\n"
     ]
    },
    {
     "data": {
      "image/png": "[encoded data removed]",
      "text/plain": [
       "<Figure size 640x480 with 1 Axes>"
      ]
     },
     "metadata": {},
     "output_type": "display_data"
    }
   ],
   "source": [
    "c_rbf= [0.0001, 0.001, 0.01, 0.05, 0.1, 0.5, 1, 5, 10, 20]\n",
    "acc_train_rbf = []\n",
    "acc_test_rbf = []\n",
    "\n",
    "s_time = time.time()\n",
    "for c in c_rbf:\n",
    "    svc_rbf_PCA(c, 'auto')\n",
    "f_time = time.time()\n",
    "dur = f_time - s_time\n",
    "print(f'Durration: {dur:.2f}')\n",
    "\n",
    "plt.plot(c_rbf, acc_train_rbf, '.-', color='red')\n",
    "plt.plot(c_rbf, acc_test_rbf, '.-', color='blue')\n",
    "plt.xlabel('c')\n",
    "plt.ylabel('acc')\n",
    "plt.suptitle('SVC kernel: RBF', fontsize=16)\n",
    "plt.title('Acc vs c for traing and val data')\n",
    "plt.grid()"
   ]
  },
  {
   "cell_type": "code",
   "execution_count": 16,
   "metadata": {},
   "outputs": [
    {
     "name": "stdout",
     "output_type": "stream",
     "text": [
      "Train accuracy: 0.708000\n",
      "Validation accuracy: 0.686000\n",
      "The C is: 0.1 and the gamma is: 0.0001\n",
      "Durration for C:0.1 and gamma: 0.0001 is 2.3641088008880615 sec\n",
      "Train accuracy: 0.886250\n",
      "Validation accuracy: 0.877000\n",
      "The C is: 0.1 and the gamma is: 0.001\n",
      "Durration for C:0.1 and gamma: 0.001 is 1.7711741924285889 sec\n",
      "Train accuracy: 0.944500\n",
      "Validation accuracy: 0.911000\n",
      "The C is: 0.1 and the gamma is: 0.01\n",
      "Durration for C:0.1 and gamma: 0.01 is 1.7553939819335938 sec\n",
      "Train accuracy: 0.941250\n",
      "Validation accuracy: 0.156000\n",
      "The C is: 0.1 and the gamma is: 0.1\n",
      "Durration for C:0.1 and gamma: 0.1 is 2.3772552013397217 sec\n",
      "Train accuracy: 0.847250\n",
      "Validation accuracy: 0.828000\n",
      "The C is: 0.5 and the gamma is: 0.0001\n",
      "Durration for C:0.5 and gamma: 0.0001 is 1.926769733428955 sec\n",
      "Train accuracy: 0.933000\n",
      "Validation accuracy: 0.917000\n",
      "The C is: 0.5 and the gamma is: 0.001\n",
      "Durration for C:0.5 and gamma: 0.001 is 1.1129601001739502 sec\n",
      "Train accuracy: 0.990000\n",
      "Validation accuracy: 0.949000\n",
      "The C is: 0.5 and the gamma is: 0.01\n",
      "Durration for C:0.5 and gamma: 0.01 is 1.3075766563415527 sec\n",
      "Train accuracy: 0.991250\n",
      "Validation accuracy: 0.198000\n",
      "The C is: 0.5 and the gamma is: 0.1\n",
      "Durration for C:0.5 and gamma: 0.1 is 2.358379364013672 sec\n",
      "Train accuracy: 0.886000\n",
      "Validation accuracy: 0.869000\n",
      "The C is: 1 and the gamma is: 0.0001\n",
      "Durration for C:1 and gamma: 0.0001 is 1.6471099853515625 sec\n",
      "Train accuracy: 0.946000\n",
      "Validation accuracy: 0.934000\n",
      "The C is: 1 and the gamma is: 0.001\n",
      "Durration for C:1 and gamma: 0.001 is 0.9227545261383057 sec\n",
      "Train accuracy: 0.996750\n",
      "Validation accuracy: 0.961000\n",
      "The C is: 1 and the gamma is: 0.01\n",
      "Durration for C:1 and gamma: 0.01 is 1.2919645309448242 sec\n",
      "Train accuracy: 1.000000\n",
      "Validation accuracy: 0.480000\n",
      "The C is: 1 and the gamma is: 0.1\n",
      "Durration for C:1 and gamma: 0.1 is 2.427967071533203 sec\n",
      "Train accuracy: 0.913750\n",
      "Validation accuracy: 0.900000\n",
      "The C is: 2.5 and the gamma is: 0.0001\n",
      "Durration for C:2.5 and gamma: 0.0001 is 1.2793030738830566 sec\n",
      "Train accuracy: 0.964250\n",
      "Validation accuracy: 0.938000\n",
      "The C is: 2.5 and the gamma is: 0.001\n",
      "Durration for C:2.5 and gamma: 0.001 is 0.7451019287109375 sec\n",
      "Train accuracy: 1.000000\n",
      "Validation accuracy: 0.962000\n",
      "The C is: 2.5 and the gamma is: 0.01\n",
      "Durration for C:2.5 and gamma: 0.01 is 1.3323190212249756 sec\n",
      "Train accuracy: 1.000000\n",
      "Validation accuracy: 0.520000\n",
      "The C is: 2.5 and the gamma is: 0.1\n",
      "Durration for C:2.5 and gamma: 0.1 is 2.430508852005005 sec\n",
      "Train accuracy: 0.926000\n",
      "Validation accuracy: 0.911000\n",
      "The C is: 5 and the gamma is: 0.0001\n",
      "Durration for C:5 and gamma: 0.0001 is 1.0423400402069092 sec\n",
      "Train accuracy: 0.974750\n",
      "Validation accuracy: 0.938000\n",
      "The C is: 5 and the gamma is: 0.001\n",
      "Durration for C:5 and gamma: 0.001 is 0.6722805500030518 sec\n",
      "Train accuracy: 1.000000\n",
      "Validation accuracy: 0.962000\n",
      "The C is: 5 and the gamma is: 0.01\n",
      "Durration for C:5 and gamma: 0.01 is 1.3224256038665771 sec\n",
      "Train accuracy: 1.000000\n",
      "Validation accuracy: 0.520000\n",
      "The C is: 5 and the gamma is: 0.1\n",
      "Durration for C:5 and gamma: 0.1 is 2.4216420650482178 sec\n",
      "Durration: 0.54 min\n"
     ]
    },
    {
     "data": {
      "text/html": [
       "<div>\n",
       "<style scoped>\n",
       "    .dataframe tbody tr th:only-of-type {\n",
       "        vertical-align: middle;\n",
       "    }\n",
       "\n",
       "    .dataframe tbody tr th {\n",
       "        vertical-align: top;\n",
       "    }\n",
       "\n",
       "    .dataframe thead th {\n",
       "        text-align: right;\n",
       "    }\n",
       "</style>\n",
       "<table border=\"1\" class=\"dataframe\">\n",
       "  <thead>\n",
       "    <tr style=\"text-align: right;\">\n",
       "      <th></th>\n",
       "      <th>C</th>\n",
       "      <th>gamma</th>\n",
       "      <th>acc_train</th>\n",
       "      <th>acc_val</th>\n",
       "    </tr>\n",
       "  </thead>\n",
       "  <tbody>\n",
       "    <tr>\n",
       "      <th>0</th>\n",
       "      <td>0.1</td>\n",
       "      <td>0.0001</td>\n",
       "      <td>0.70800</td>\n",
       "      <td>0.686</td>\n",
       "    </tr>\n",
       "    <tr>\n",
       "      <th>1</th>\n",
       "      <td>0.1</td>\n",
       "      <td>0.0010</td>\n",
       "      <td>0.88625</td>\n",
       "      <td>0.877</td>\n",
       "    </tr>\n",
       "    <tr>\n",
       "      <th>2</th>\n",
       "      <td>0.1</td>\n",
       "      <td>0.0100</td>\n",
       "      <td>0.94450</td>\n",
       "      <td>0.911</td>\n",
       "    </tr>\n",
       "    <tr>\n",
       "      <th>3</th>\n",
       "      <td>0.1</td>\n",
       "      <td>0.1000</td>\n",
       "      <td>0.94125</td>\n",
       "      <td>0.156</td>\n",
       "    </tr>\n",
       "    <tr>\n",
       "      <th>4</th>\n",
       "      <td>0.5</td>\n",
       "      <td>0.0001</td>\n",
       "      <td>0.84725</td>\n",
       "      <td>0.828</td>\n",
       "    </tr>\n",
       "    <tr>\n",
       "      <th>5</th>\n",
       "      <td>0.5</td>\n",
       "      <td>0.0010</td>\n",
       "      <td>0.93300</td>\n",
       "      <td>0.917</td>\n",
       "    </tr>\n",
       "    <tr>\n",
       "      <th>6</th>\n",
       "      <td>0.5</td>\n",
       "      <td>0.0100</td>\n",
       "      <td>0.99000</td>\n",
       "      <td>0.949</td>\n",
       "    </tr>\n",
       "    <tr>\n",
       "      <th>7</th>\n",
       "      <td>0.5</td>\n",
       "      <td>0.1000</td>\n",
       "      <td>0.99125</td>\n",
       "      <td>0.198</td>\n",
       "    </tr>\n",
       "    <tr>\n",
       "      <th>8</th>\n",
       "      <td>1.0</td>\n",
       "      <td>0.0001</td>\n",
       "      <td>0.88600</td>\n",
       "      <td>0.869</td>\n",
       "    </tr>\n",
       "    <tr>\n",
       "      <th>9</th>\n",
       "      <td>1.0</td>\n",
       "      <td>0.0010</td>\n",
       "      <td>0.94600</td>\n",
       "      <td>0.934</td>\n",
       "    </tr>\n",
       "    <tr>\n",
       "      <th>10</th>\n",
       "      <td>1.0</td>\n",
       "      <td>0.0100</td>\n",
       "      <td>0.99675</td>\n",
       "      <td>0.961</td>\n",
       "    </tr>\n",
       "    <tr>\n",
       "      <th>11</th>\n",
       "      <td>1.0</td>\n",
       "      <td>0.1000</td>\n",
       "      <td>1.00000</td>\n",
       "      <td>0.480</td>\n",
       "    </tr>\n",
       "    <tr>\n",
       "      <th>12</th>\n",
       "      <td>2.5</td>\n",
       "      <td>0.0001</td>\n",
       "      <td>0.91375</td>\n",
       "      <td>0.900</td>\n",
       "    </tr>\n",
       "    <tr>\n",
       "      <th>13</th>\n",
       "      <td>2.5</td>\n",
       "      <td>0.0010</td>\n",
       "      <td>0.96425</td>\n",
       "      <td>0.938</td>\n",
       "    </tr>\n",
       "    <tr>\n",
       "      <th>14</th>\n",
       "      <td>2.5</td>\n",
       "      <td>0.0100</td>\n",
       "      <td>1.00000</td>\n",
       "      <td>0.962</td>\n",
       "    </tr>\n",
       "    <tr>\n",
       "      <th>15</th>\n",
       "      <td>2.5</td>\n",
       "      <td>0.1000</td>\n",
       "      <td>1.00000</td>\n",
       "      <td>0.520</td>\n",
       "    </tr>\n",
       "    <tr>\n",
       "      <th>16</th>\n",
       "      <td>5.0</td>\n",
       "      <td>0.0001</td>\n",
       "      <td>0.92600</td>\n",
       "      <td>0.911</td>\n",
       "    </tr>\n",
       "    <tr>\n",
       "      <th>17</th>\n",
       "      <td>5.0</td>\n",
       "      <td>0.0010</td>\n",
       "      <td>0.97475</td>\n",
       "      <td>0.938</td>\n",
       "    </tr>\n",
       "    <tr>\n",
       "      <th>18</th>\n",
       "      <td>5.0</td>\n",
       "      <td>0.0100</td>\n",
       "      <td>1.00000</td>\n",
       "      <td>0.962</td>\n",
       "    </tr>\n",
       "    <tr>\n",
       "      <th>19</th>\n",
       "      <td>5.0</td>\n",
       "      <td>0.1000</td>\n",
       "      <td>1.00000</td>\n",
       "      <td>0.520</td>\n",
       "    </tr>\n",
       "  </tbody>\n",
       "</table>\n",
       "</div>"
      ],
      "text/plain": [
       "      C   gamma  acc_train  acc_val\n",
       "0   0.1  0.0001    0.70800    0.686\n",
       "1   0.1  0.0010    0.88625    0.877\n",
       "2   0.1  0.0100    0.94450    0.911\n",
       "3   0.1  0.1000    0.94125    0.156\n",
       "4   0.5  0.0001    0.84725    0.828\n",
       "5   0.5  0.0010    0.93300    0.917\n",
       "6   0.5  0.0100    0.99000    0.949\n",
       "7   0.5  0.1000    0.99125    0.198\n",
       "8   1.0  0.0001    0.88600    0.869\n",
       "9   1.0  0.0010    0.94600    0.934\n",
       "10  1.0  0.0100    0.99675    0.961\n",
       "11  1.0  0.1000    1.00000    0.480\n",
       "12  2.5  0.0001    0.91375    0.900\n",
       "13  2.5  0.0010    0.96425    0.938\n",
       "14  2.5  0.0100    1.00000    0.962\n",
       "15  2.5  0.1000    1.00000    0.520\n",
       "16  5.0  0.0001    0.92600    0.911\n",
       "17  5.0  0.0010    0.97475    0.938\n",
       "18  5.0  0.0100    1.00000    0.962\n",
       "19  5.0  0.1000    1.00000    0.520"
      ]
     },
     "execution_count": 16,
     "metadata": {},
     "output_type": "execute_result"
    }
   ],
   "source": [
    "c_rbf = [0.1, 0.5, 1, 2.5, 5]\n",
    "gamma = [0.0001, 0.001, 0.01, 0.1]\n",
    "acc_train_rbf = []\n",
    "acc_val_rbf = []\n",
    "\n",
    "results = []\n",
    "\n",
    "s_time_t = time.time()\n",
    "for c in c_rbf:\n",
    "    for g in gamma:\n",
    "        s_time = time.time()\n",
    "        acc_train, acc_val = hyperpam_tuning(X_mnt, y_mini, c, g)\n",
    "        f_time = time.time()\n",
    "        d= f_time - s_time\n",
    "        print(f'Durration for C:{c} and gamma: {g} is {d} sec')\n",
    "\n",
    "        results.append({'C':c, 'gamma':g, 'acc_train':acc_train, 'acc_val': acc_val})\n",
    "\n",
    "f_time_t = time.time()\n",
    "dur = f_time_t - s_time_t\n",
    "print(f'Durration: {round(dur/60,2)} min')\n",
    "df =pd.DataFrame(results)\n",
    "df"
   ]
  },
  {
   "cell_type": "code",
   "execution_count": 33,
   "metadata": {},
   "outputs": [
    {
     "data": {
      "text/plain": [
       "14"
      ]
     },
     "execution_count": 33,
     "metadata": {},
     "output_type": "execute_result"
    }
   ],
   "source": [
    "idmax = df['acc_val'].idxmax()\n",
    "idmax"
   ]
  },
  {
   "cell_type": "code",
   "execution_count": null,
   "metadata": {},
   "outputs": [
    {
     "name": "stdout",
     "output_type": "stream",
     "text": [
      "Fitting time is: 0.5164265632629395\n",
      "Train accuracy: 0.999600\n",
      "Training time: 1.0007550716400146\n",
      "Validation accuracy: 0.962800\n",
      "Testing time: 2.0332841873168945\n"
     ]
    }
   ],
   "source": [
    "from sklearn.svm import SVC\n",
    "\n",
    "best_model = SVC(kernel='rbf',C=2.5, gamma=0.01)\n",
    "s_time = time.time()\n",
    "best_model.fit(X_mnt, y_mini)\n",
    "f_time = time.time()\n",
    "print(f'Fitting time is: {f_time - s_time}')\n",
    "s_t = time.time()\n",
    "y_pred_train = best_model.predict(X_mnt)\n",
    "acc_train = np.mean(y_pred_train == y_mini)\n",
    "f_t = time.time()\n",
    "print('Train accuracy: {0:f}'.format(acc_train))\n",
    "print(f'Training time: {f_t - s_t}')\n",
    "s_t = time.time()\n",
    "y_pred_test = best_model.predict(test_dnt)\n",
    "acc_test = np.mean(y_pred_test == test_labels)\n",
    "f_t = time.time()\n",
    "print('Test accuracy: {0:f}'.format(acc_test))\n",
    "print(f'Testing time: {f_t - s_t}')"
   ]
  },
  {
   "cell_type": "markdown",
   "metadata": {},
   "source": [
    "Durration difference from rbf C check without PCA and with PCA: 195.90 --> 52.97"
   ]
  },
  {
   "cell_type": "markdown",
   "metadata": {},
   "source": [
    "Γενικά φαίνεται ότι με μείωση της διάστασης των δεδομένων με την PCA τα μοντέλα SVC για όλου σχεδόν του kernels και για το ίδιο διάστημα C τιμών φτάνουν ποιό γρήγορα σε καλύτερη απόδοση από αυτά στα όποια τα δεδομένα δεν έχουν εφαρμοστεί η τεχνική της PCA.  Αυτό απόδιδεται λογικά στο ότι επειδή αφαιρείτε ο θόρυβος και υπάρχει μείωση υπερπροσαρμογής αφού το PCA μετατρέπει τα δεδομένα σε σύνολο γραμμικά μη συσχετισμένων μεταβλητών.  Τέλος, βελτιώνεται η απόδοση λόγο της ύπαρξης λιγότερων χαρακτηριστικών και λόγο της συγκέντρωσης της πληροφορίας σε λιγότερες διαστάσεις. Επίσης αποφεύγεται το overfitting των δεδομένων."
   ]
  },
  {
   "cell_type": "code",
   "execution_count": null,
   "metadata": {},
   "outputs": [
    {
     "name": "stdout",
     "output_type": "stream",
     "text": [
      "time: 138.12463760375977\n"
     ]
    }
   ],
   "source": [
    "from sklearn.svm import SVC\n",
    "from sklearn.model_selection import GridSearchCV\n",
    "\n",
    "Svc = SVC(kernel='rbf')\n",
    "param_grid = {\n",
    "    \"C\": [0.5, 1, 2.5, 5],\n",
    "    \"gamma\": [0.001, 0.01, 0.1, 1]\n",
    "}\n",
    "s_t = time.time()\n",
    "grid_search = GridSearchCV(Svc, param_grid, return_train_score= True)\n",
    "grid_search.fit(X_mnt, y_mini)\n",
    "f_t = time.time()\n",
    "dur= f_t -s_t\n",
    "print(f'time: {dur}')\n"
   ]
  },
  {
   "cell_type": "code",
   "execution_count": 32,
   "metadata": {},
   "outputs": [
    {
     "name": "stdout",
     "output_type": "stream",
     "text": [
      "The best params are: {'C': 2.5, 'gamma': 0.01}, their score is: 0.9629999999999999\n"
     ]
    }
   ],
   "source": [
    "print(f'The best params are: {grid_search.best_params_}, their score is: {grid_search.best_score_}')"
   ]
  },
  {
   "cell_type": "markdown",
   "metadata": {},
   "source": [
    "###  SVC on whole dataset."
   ]
  },
  {
   "cell_type": "code",
   "execution_count": 22,
   "metadata": {},
   "outputs": [
    {
     "name": "stdout",
     "output_type": "stream",
     "text": [
      "(60000, 784) (60000,)\n",
      "(10000, 784) (10000,)\n"
     ]
    }
   ],
   "source": [
    "print(train_data.shape, train_labels.shape)\n",
    "print(test_data.shape, test_labels.shape)"
   ]
  },
  {
   "cell_type": "code",
   "execution_count": 23,
   "metadata": {},
   "outputs": [
    {
     "name": "stdout",
     "output_type": "stream",
     "text": [
      "(60000, 87) (60000,)\n",
      "(10000, 87) (10000,)\n"
     ]
    }
   ],
   "source": [
    "from sklearn.decomposition import PCA\n",
    "\n",
    "#normalize the dataset:\n",
    "X_tr = normal(train_data)\n",
    "X_tst = normal(test_data)\n",
    "\n",
    "#apply PCA\n",
    "pca = PCA(n_components=0.9)\n",
    "pca.fit(X_tr)\n",
    "X_train = pca.transform(X_tr)\n",
    "X_test = pca.transform(X_tst)\n",
    "\n",
    "print(X_train.shape, train_labels.shape)\n",
    "print(X_test.shape, test_labels.shape)"
   ]
  },
  {
   "cell_type": "code",
   "execution_count": 24,
   "metadata": {},
   "outputs": [],
   "source": [
    "from sklearn.svm import SVC\n",
    "\n",
    "def svc(c,Kernel,g=None):\n",
    "\n",
    "    if Kernel == 'linear':\n",
    "        svc = SVC(kernel= Kernel, C = c)\n",
    "        svc.fit(X_train, train_labels)\n",
    "\n",
    "        #pred values and accuracy on training\n",
    "        y_pred_train = svc.predict(X_train)\n",
    "        acc_train = np.mean(y_pred_train == train_labels)\n",
    "        acc_train_linear.append(acc_train)\n",
    "        print('Train accuracy: {0:f}'.format(acc_train))\n",
    "\n",
    "        #pred values and accuracy on test\n",
    "        y_pred_test = svc.predict(X_test)\n",
    "        acc_test = np.mean(y_pred_test == test_labels)\n",
    "        acc_test_linear.append(acc_test)\n",
    "        print('Test accuracy: {0:f}'.format(acc_test))\n",
    "        print(f'This accuracy scores are for C: {c}')\n",
    "\n",
    "    elif Kernel == 'poly':\n",
    "        svc_poly = SVC(kernel= Kernel, C = c)\n",
    "        svc_poly.fit(X_train, train_labels)\n",
    "\n",
    "        #pred values and accuracy on training\n",
    "        y_pred_train = svc_poly.predict(X_train)\n",
    "        acc_train = np.mean(y_pred_train == train_labels)\n",
    "        acc_train_poly.append(acc_train)\n",
    "        print('Train accuracy: {0:f}'.format(acc_train))\n",
    "\n",
    "        #pred values and accuracy on test\n",
    "        y_pred_test = svc_poly.predict(X_test)\n",
    "        acc_test = np.mean(y_pred_test == test_labels)\n",
    "        acc_test_poly.append(acc_test)\n",
    "        print('Test accuracy: {0:f}'.format(acc_test))\n",
    "        print(f'This accuracy scores are for C: {c}')\n",
    "        \n",
    "    elif Kernel == 'rbf':\n",
    "        svc_rbf = SVC(kernel=Kernel, C=c, gamma=g)\n",
    "        svc_rbf.fit(X_train, train_labels)\n",
    "\n",
    "        #pred values and accuracy on train\n",
    "        y_pred_train = svc_rbf.predict(X_train)\n",
    "        acc_train = np.mean(y_pred_train == train_labels)\n",
    "        acc_train_rbf.append(acc_train)\n",
    "        print('Train accuracy: {0:f}'.format(acc_train))\n",
    "\n",
    "        #pred values and accuracy on test\n",
    "        y_pred_test = svc_rbf.predict(X_test)\n",
    "        acc_test = np.mean(y_pred_test == test_labels)\n",
    "        acc_test_rbf.append(acc_test)\n",
    "        print('Test accuracy: {0:f}'.format(acc_test))\n",
    "        print(f'The C is: {c} and the gamma is: {g}')\n",
    "\n",
    "    return acc_train, acc_test\n"
   ]
  },
  {
   "cell_type": "code",
   "execution_count": 44,
   "metadata": {},
   "outputs": [
    {
     "name": "stdout",
     "output_type": "stream",
     "text": [
      "Train accuracy: 0.913533\n",
      "Test accuracy: 0.918300\n",
      "This accuracy scores are for C: 0.0001\n",
      "Train accuracy: 0.934667\n",
      "Test accuracy: 0.938200\n",
      "This accuracy scores are for C: 0.001\n",
      "Train accuracy: 0.943450\n",
      "Test accuracy: 0.942900\n",
      "This accuracy scores are for C: 0.01\n",
      "Train accuracy: 0.947400\n",
      "Test accuracy: 0.945300\n",
      "This accuracy scores are for C: 0.1\n",
      "Train accuracy: 0.948350\n",
      "Test accuracy: 0.943800\n",
      "This accuracy scores are for C: 1\n",
      "Train accuracy: 0.948500\n",
      "Test accuracy: 0.943700\n",
      "This accuracy scores are for C: 2.5\n",
      "Train accuracy: 0.948550\n",
      "Test accuracy: 0.943900\n",
      "This accuracy scores are for C: 5\n",
      "duration was: 543.02\n"
     ]
    },
    {
     "data": {
      "image/png": "[encoded data removed]",
      "text/plain": [
       "<Figure size 640x480 with 1 Axes>"
      ]
     },
     "metadata": {},
     "output_type": "display_data"
    }
   ],
   "source": [
    "c_linear = [0.0001, 0.001, 0.01, 0.1, 1, 2.5, 5]\n",
    "acc_train_linear = []\n",
    "acc_test_linear = []\n",
    "\n",
    "s_time = time.time()\n",
    "for c in c_linear:\n",
    "    svc(c, Kernel='linear')\n",
    "f_time = time.time()\n",
    "dur = f_time - s_time\n",
    "print(f'duration was: {dur:.2f}')\n",
    "\n",
    "plt.plot(c_linear, acc_train_linear, '.-', color='red')\n",
    "plt.plot(c_linear, acc_test_linear, '.-', color='blue')\n",
    "plt.xlabel('c')\n",
    "plt.ylabel('acc')\n",
    "plt.suptitle('SVC kernel: Linear', fontsize=16)\n",
    "plt.title('Acc vs c for traing and test data')\n",
    "plt.grid()"
   ]
  },
  {
   "cell_type": "code",
   "execution_count": null,
   "metadata": {},
   "outputs": [
    {
     "name": "stdout",
     "output_type": "stream",
     "text": [
      "Train accuracy: 0.112367\n",
      "Test accuracy: 0.113500\n",
      "This accuracy scores are for C: 0.0001\n",
      "Durration for C: 0.0001 is 336.98627185821533sec\n",
      "Train accuracy: 0.337217\n",
      "Test accuracy: 0.345500\n",
      "This accuracy scores are for C: 0.001\n",
      "Durration for C: 0.001 is 329.048823595047sec\n",
      "Train accuracy: 0.910900\n",
      "Test accuracy: 0.913700\n",
      "This accuracy scores are for C: 0.01\n",
      "Durration for C: 0.01 is 202.16910767555237sec\n",
      "Train accuracy: 0.963133\n",
      "Test accuracy: 0.961400\n",
      "This accuracy scores are for C: 0.05\n",
      "Durration for C: 0.05 is 91.31310749053955sec\n",
      "Train accuracy: 0.974350\n",
      "Test accuracy: 0.970100\n",
      "This accuracy scores are for C: 0.1\n",
      "Durration for C: 0.1 is 72.26267647743225sec\n",
      "Train accuracy: 0.990783\n",
      "Test accuracy: 0.980900\n",
      "This accuracy scores are for C: 0.5\n",
      "Durration for C: 0.5 is 41.14816665649414sec\n",
      "Train accuracy: 0.995400\n",
      "Test accuracy: 0.983300\n",
      "This accuracy scores are for C: 1\n",
      "Durration for C: 1 is 37.06775760650635sec\n",
      "Train accuracy: 0.998533\n",
      "Test accuracy: 0.984500\n",
      "This accuracy scores are for C: 2.5\n",
      "Durration for C: 2.5 is 34.00536036491394sec\n",
      "Durration: 34.01\n"
     ]
    },
    {
     "data": {
      "image/png": "[encoded data removed]",
      "text/plain": [
       "<Figure size 640x480 with 1 Axes>"
      ]
     },
     "metadata": {},
     "output_type": "display_data"
    }
   ],
   "source": [
    "c_poly_optimize = [0.0001, 0.001, 0.01, 0.05, 0.1, 0.5, 1, 2.5]\n",
    "acc_train_poly = []\n",
    "acc_test_poly = []\n",
    "\n",
    "s_time_f = time.time()\n",
    "for c in c_poly_optimize:\n",
    "    s_time = time.time()\n",
    "    svc(c,Kernel='poly')\n",
    "    f_time = time.time()\n",
    "    d=f_time - s_time\n",
    "    print(f'Durration for C: {c} is {d}sec')\n",
    "f_time_f = time.time()\n",
    "dur = f_time_f - s_time_f\n",
    "print(f'Durration: {dur:.2f}')\n",
    "\n",
    "plt.plot(c_poly_optimize, acc_train_poly, '.-', color='red')\n",
    "plt.plot(c_poly_optimize, acc_test_poly, '.-', color='blue')\n",
    "plt.xlabel('c')\n",
    "plt.ylabel('acc')\n",
    "plt.title('Acc vs c for traing and test data')\n",
    "plt.grid()"
   ]
  },
  {
   "cell_type": "code",
   "execution_count": 17,
   "metadata": {},
   "outputs": [
    {
     "name": "stdout",
     "output_type": "stream",
     "text": [
      "Train accuracy: 0.112367\n",
      "Test accuracy: 0.113500\n",
      "The C is: 0.0001 and the gamma is: auto\n",
      "Durration for C: 0.0001 is 540.5078716278076sec\n",
      "Train accuracy: 0.243333\n",
      "Test accuracy: 0.246100\n",
      "The C is: 0.001 and the gamma is: auto\n",
      "Durration for C: 0.001 is 540.8874006271362sec\n",
      "Train accuracy: 0.919917\n",
      "Test accuracy: 0.925300\n",
      "The C is: 0.01 and the gamma is: auto\n",
      "Durration for C: 0.01 is 369.2283265590668sec\n",
      "Train accuracy: 0.965217\n",
      "Test accuracy: 0.961200\n",
      "The C is: 0.05 and the gamma is: auto\n",
      "Durration for C: 0.05 is 203.77809977531433sec\n",
      "Train accuracy: 0.976367\n",
      "Test accuracy: 0.969600\n",
      "The C is: 0.1 and the gamma is: auto\n",
      "Durration for C: 0.1 is 158.82093811035156sec\n",
      "Train accuracy: 0.994150\n",
      "Test accuracy: 0.982400\n",
      "The C is: 0.5 and the gamma is: auto\n",
      "Durration for C: 0.5 is 111.5102927684784sec\n",
      "Train accuracy: 0.998183\n",
      "Test accuracy: 0.986000\n",
      "The C is: 1 and the gamma is: auto\n",
      "Durration for C: 1 is 107.72950458526611sec\n",
      "Train accuracy: 0.999750\n",
      "Test accuracy: 0.986900\n",
      "The C is: 2.5 and the gamma is: auto\n",
      "Durration for C: 2.5 is 109.7172794342041sec\n",
      "Durration: 2142.18\n"
     ]
    },
    {
     "data": {
      "image/png": "[encoded data removed]",
      "text/plain": [
       "<Figure size 640x480 with 1 Axes>"
      ]
     },
     "metadata": {},
     "output_type": "display_data"
    }
   ],
   "source": [
    "#Gia eksikonomisi xronou den tha to trexw gia ton rbf auto giati mporei na parei para poly xrono. \n",
    "#Tha trextoun merika paradeigmata poy kseroume oti exoume kalh apodosi apo to proigoymeno meiweno dataset\n",
    "# c_rbf= [0.0001, 0.001, 0.01, 0.1, 0.5, 1, 2.5, 5]\n",
    "\n",
    "c_rbf= [0.0001, 0.001, 0.01, 0.05, 0.1, 0.5, 1, 2.5]\n",
    "acc_train_rbf = []\n",
    "acc_test_rbf = []\n",
    "\n",
    "s_time_t = time.time()\n",
    "for c in c_rbf:\n",
    "    s_time = time.time()\n",
    "    svc(c, Kernel='rbf', g='auto')\n",
    "    f_time = time.time()\n",
    "    d=f_time - s_time\n",
    "    print(f'Durration for C: {c} is {d}sec')\n",
    "f_time_t = time.time()\n",
    "dur = f_time_t - s_time_t\n",
    "print(f'Durration: {dur:.2f}')\n",
    "\n",
    "plt.plot(c_rbf, acc_train_rbf, '.-', color='red')\n",
    "plt.plot(c_rbf, acc_test_rbf, '.-', color='blue')\n",
    "plt.xlabel('c')\n",
    "plt.ylabel('acc')\n",
    "plt.title('Acc vs c for traing and test data')\n",
    "plt.grid()"
   ]
  },
  {
   "cell_type": "code",
   "execution_count": 27,
   "metadata": {},
   "outputs": [
    {
     "name": "stdout",
     "output_type": "stream",
     "text": [
      "Train accuracy: 0.955783\n",
      "Test accuracy: 0.956400\n",
      "The C is: 0.5 and the gamma is: 0.001\n",
      "Durration for gamma: 0.001 is 113.36810517311096sec\n",
      "Train accuracy: 0.993017\n",
      "Test accuracy: 0.982700\n",
      "The C is: 0.5 and the gamma is: 0.01\n",
      "Durration for gamma: 0.01 is 103.8061752319336sec\n",
      "Train accuracy: 0.986317\n",
      "Test accuracy: 0.681400\n",
      "The C is: 0.5 and the gamma is: 0.05\n",
      "Durration for gamma: 0.05 is 597.0157406330109sec\n",
      "Train accuracy: 0.722717\n",
      "Test accuracy: 0.241900\n",
      "The C is: 0.5 and the gamma is: 0.1\n",
      "Durration for gamma: 0.1 is 617.5493957996368sec\n",
      "Durration: 1431.74\n"
     ]
    },
    {
     "data": {
      "image/png": "[encoded data removed]",
      "text/plain": [
       "<Figure size 640x480 with 1 Axes>"
      ]
     },
     "metadata": {},
     "output_type": "display_data"
    }
   ],
   "source": [
    "gamma= [0.001, 0.01, 0.05, 0.1]\n",
    "acc_train_rbf = []\n",
    "acc_test_rbf = []\n",
    "\n",
    "s_time_t = time.time()\n",
    "for g in gamma:\n",
    "    s_time = time.time()\n",
    "    svc(c = 0.5, Kernel='rbf', g= g)\n",
    "    f_time = time.time()\n",
    "    d=f_time - s_time\n",
    "    print(f'Durration for gamma: {g} is {d}sec')\n",
    "f_time_t = time.time()\n",
    "dur = f_time_t - s_time_t\n",
    "print(f'Durration: {dur:.2f}')\n",
    "\n",
    "plt.plot(gamma, acc_train_rbf, '.-', color='red')\n",
    "plt.plot(gamma, acc_test_rbf, '.-', color='blue')\n",
    "plt.xlabel('c')\n",
    "plt.ylabel('acc')\n",
    "plt.title('Acc vs c for traing and test data')\n",
    "plt.grid()"
   ]
  },
  {
   "cell_type": "code",
   "execution_count": 44,
   "metadata": {},
   "outputs": [
    {
     "data": {
      "text/plain": [
       "(60000, 87)"
      ]
     },
     "execution_count": 44,
     "metadata": {},
     "output_type": "execute_result"
    }
   ],
   "source": [
    "X_train.shape"
   ]
  },
  {
   "cell_type": "code",
   "execution_count": 46,
   "metadata": {},
   "outputs": [
    {
     "data": {
      "text/plain": [
       "(60000,)"
      ]
     },
     "execution_count": 46,
     "metadata": {},
     "output_type": "execute_result"
    }
   ],
   "source": [
    "train_labels.shape"
   ]
  },
  {
   "cell_type": "code",
   "execution_count": 25,
   "metadata": {},
   "outputs": [
    {
     "name": "stdout",
     "output_type": "stream",
     "text": [
      "Train accuracy: 0.996271\n",
      "Validation accuracy: 0.984333\n",
      "The C is: 1 and the gamma is: 0.008\n",
      "Durration for C:1 and gamma: 0.008 is 68.61493921279907 sec\n",
      "Train accuracy: 0.997646\n",
      "Validation accuracy: 0.984917\n",
      "The C is: 1 and the gamma is: 0.01\n",
      "Durration for C:1 and gamma: 0.01 is 79.29347658157349 sec\n",
      "Train accuracy: 0.999750\n",
      "Validation accuracy: 0.976833\n",
      "The C is: 1 and the gamma is: 0.025\n",
      "Durration for C:1 and gamma: 0.025 is 236.85847401618958 sec\n",
      "Train accuracy: 0.999354\n",
      "Validation accuracy: 0.986500\n",
      "The C is: 2.5 and the gamma is: 0.008\n",
      "Durration for C:2.5 and gamma: 0.008 is 65.27624750137329 sec\n",
      "Train accuracy: 0.999625\n",
      "Validation accuracy: 0.986583\n",
      "The C is: 2.5 and the gamma is: 0.01\n",
      "Durration for C:2.5 and gamma: 0.01 is 79.36044812202454 sec\n",
      "Train accuracy: 0.999979\n",
      "Validation accuracy: 0.977583\n",
      "The C is: 2.5 and the gamma is: 0.025\n",
      "Durration for C:2.5 and gamma: 0.025 is 228.2300944328308 sec\n",
      "Train accuracy: 0.999875\n",
      "Validation accuracy: 0.986750\n",
      "The C is: 5 and the gamma is: 0.008\n",
      "Durration for C:5 and gamma: 0.008 is 63.760112047195435 sec\n",
      "Train accuracy: 0.999938\n",
      "Validation accuracy: 0.986750\n",
      "The C is: 5 and the gamma is: 0.01\n",
      "Durration for C:5 and gamma: 0.01 is 75.46753525733948 sec\n",
      "Train accuracy: 1.000000\n",
      "Validation accuracy: 0.977583\n",
      "The C is: 5 and the gamma is: 0.025\n",
      "Durration for C:5 and gamma: 0.025 is 235.2042362689972 sec\n",
      "Durration: 1132.0655634403229 sec\n"
     ]
    },
    {
     "data": {
      "text/html": [
       "<div>\n",
       "<style scoped>\n",
       "    .dataframe tbody tr th:only-of-type {\n",
       "        vertical-align: middle;\n",
       "    }\n",
       "\n",
       "    .dataframe tbody tr th {\n",
       "        vertical-align: top;\n",
       "    }\n",
       "\n",
       "    .dataframe thead th {\n",
       "        text-align: right;\n",
       "    }\n",
       "</style>\n",
       "<table border=\"1\" class=\"dataframe\">\n",
       "  <thead>\n",
       "    <tr style=\"text-align: right;\">\n",
       "      <th></th>\n",
       "      <th>C</th>\n",
       "      <th>gamma</th>\n",
       "      <th>acc_train</th>\n",
       "      <th>acc_val</th>\n",
       "    </tr>\n",
       "  </thead>\n",
       "  <tbody>\n",
       "    <tr>\n",
       "      <th>0</th>\n",
       "      <td>1.0</td>\n",
       "      <td>0.008</td>\n",
       "      <td>0.996271</td>\n",
       "      <td>0.984333</td>\n",
       "    </tr>\n",
       "    <tr>\n",
       "      <th>1</th>\n",
       "      <td>1.0</td>\n",
       "      <td>0.010</td>\n",
       "      <td>0.997646</td>\n",
       "      <td>0.984917</td>\n",
       "    </tr>\n",
       "    <tr>\n",
       "      <th>2</th>\n",
       "      <td>1.0</td>\n",
       "      <td>0.025</td>\n",
       "      <td>0.999750</td>\n",
       "      <td>0.976833</td>\n",
       "    </tr>\n",
       "    <tr>\n",
       "      <th>3</th>\n",
       "      <td>2.5</td>\n",
       "      <td>0.008</td>\n",
       "      <td>0.999354</td>\n",
       "      <td>0.986500</td>\n",
       "    </tr>\n",
       "    <tr>\n",
       "      <th>4</th>\n",
       "      <td>2.5</td>\n",
       "      <td>0.010</td>\n",
       "      <td>0.999625</td>\n",
       "      <td>0.986583</td>\n",
       "    </tr>\n",
       "    <tr>\n",
       "      <th>5</th>\n",
       "      <td>2.5</td>\n",
       "      <td>0.025</td>\n",
       "      <td>0.999979</td>\n",
       "      <td>0.977583</td>\n",
       "    </tr>\n",
       "    <tr>\n",
       "      <th>6</th>\n",
       "      <td>5.0</td>\n",
       "      <td>0.008</td>\n",
       "      <td>0.999875</td>\n",
       "      <td>0.986750</td>\n",
       "    </tr>\n",
       "    <tr>\n",
       "      <th>7</th>\n",
       "      <td>5.0</td>\n",
       "      <td>0.010</td>\n",
       "      <td>0.999938</td>\n",
       "      <td>0.986750</td>\n",
       "    </tr>\n",
       "    <tr>\n",
       "      <th>8</th>\n",
       "      <td>5.0</td>\n",
       "      <td>0.025</td>\n",
       "      <td>1.000000</td>\n",
       "      <td>0.977583</td>\n",
       "    </tr>\n",
       "  </tbody>\n",
       "</table>\n",
       "</div>"
      ],
      "text/plain": [
       "     C  gamma  acc_train   acc_val\n",
       "0  1.0  0.008   0.996271  0.984333\n",
       "1  1.0  0.010   0.997646  0.984917\n",
       "2  1.0  0.025   0.999750  0.976833\n",
       "3  2.5  0.008   0.999354  0.986500\n",
       "4  2.5  0.010   0.999625  0.986583\n",
       "5  2.5  0.025   0.999979  0.977583\n",
       "6  5.0  0.008   0.999875  0.986750\n",
       "7  5.0  0.010   0.999938  0.986750\n",
       "8  5.0  0.025   1.000000  0.977583"
      ]
     },
     "execution_count": 25,
     "metadata": {},
     "output_type": "execute_result"
    }
   ],
   "source": [
    "c_rbf = [1, 2.5, 5]\n",
    "gamma = [0.008, 0.01, 0.025]\n",
    "acc_train_rbf = []\n",
    "acc_val_rbf = []\n",
    "results = []\n",
    "\n",
    "s_time_t = time.time()\n",
    "for c in c_rbf:\n",
    "    for g in gamma:\n",
    "        s_time = time.time()\n",
    "        acc_train, acc_val = hyperpam_tuning(X_train, train_labels, c, g)\n",
    "        f_time = time.time()\n",
    "        d= f_time - s_time\n",
    "        print(f'Durration for C:{c} and gamma: {g} is {d} sec')\n",
    "\n",
    "        results.append({'C':c, 'gamma':g, 'acc_train':acc_train, 'acc_val': acc_val})\n",
    "\n",
    "f_time_t = time.time()\n",
    "dur = f_time_t - s_time_t\n",
    "print(f'Durration: {dur} sec')\n",
    "df =pd.DataFrame(results)\n",
    "df"
   ]
  },
  {
   "cell_type": "code",
   "execution_count": 26,
   "metadata": {},
   "outputs": [
    {
     "data": {
      "text/plain": [
       "6"
      ]
     },
     "execution_count": 26,
     "metadata": {},
     "output_type": "execute_result"
    }
   ],
   "source": [
    "idmax = df['acc_val'].idxmax()\n",
    "idmax"
   ]
  },
  {
   "cell_type": "code",
   "execution_count": 21,
   "metadata": {},
   "outputs": [
    {
     "name": "stdout",
     "output_type": "stream",
     "text": [
      "time: 5101.270339012146\n",
      "The best params are: {'C': 0.5, 'gamma': 0.01}, their score is: 0.9810333333333332\n"
     ]
    }
   ],
   "source": [
    "# Θα κάνω και ένα grid search για τα καλά C για να βρούμε και το καλύτερο gamma, den exei nohma na allazei to C, giati oso megalytero C toso kalyterh apodosi opote pairnoyme to C=0.5\n",
    "from sklearn.svm import SVC\n",
    "from sklearn.model_selection import GridSearchCV\n",
    "\n",
    "Svc = SVC(kernel='rbf')\n",
    "param_grid = {\n",
    "    \"C\": [0.5],\n",
    "    \"gamma\": [0.001, 0.01, 0.1, 1]\n",
    "}\n",
    "s_t = time.time()\n",
    "grid_search = GridSearchCV(Svc, param_grid, return_train_score= True)\n",
    "grid_search.fit(X_train, train_labels)\n",
    "f_t = time.time()\n",
    "dur= f_t -s_t\n",
    "print(f'time: {dur}')\n",
    "\n",
    "print(f'The best params are: {grid_search.best_params_}, their score is: {grid_search.best_score_}')"
   ]
  },
  {
   "cell_type": "markdown",
   "metadata": {},
   "source": [
    "### Best model"
   ]
  },
  {
   "cell_type": "markdown",
   "metadata": {},
   "source": [
    "Από τα παραπάνω παραδείγματα φαίνεται ότι ο linear kernel αν και πιο γρήγορος (επειδή είναι και πιο απλός), καταφέρνει την μικρότερη απόδοση σε σχέση με τους υπολοίπους με αυτή να είναι: Train accuracy: 0.947400 Test accuracy: 0.945300 για C = 0.1\n",
    "\n",
    "O poly αν και λίγο πιο αργός από τον linear πετυχαίνει καλύτερη απόδοση για λίγο μεγαλύτερο C με αυτή να ανεβαίνει όσο το ανεβάζουμε, πράγμα που βγάζει και νόημα αφού πιέζουμε το μοντέλο να εφαρμόσει τις γκαυσιανές πιο πιεσμένες για τα δεδομένα. Καλύτερα αποτελέσματα: Train accuracy: 0.990783 Test accuracy: 0.9809 για C=0.5 και χρόνο: 41.1481 sec\n",
    "\n",
    "Ο καλύτερος είναι ο rbf kernel αν και παίρνει πιο πολύ ώρα πετυχαίνει καλύτερη απόδοση για το ίδιο C με το poly. Τα αποτελέσματα είναι: Train accuracy: 0.994150, Test accuracy: 0.982400\n",
    "The C is: 0.5 and the gamma is: auto Durration for C: 0.5 is 111.5102927684784sec"
   ]
  },
  {
   "cell_type": "code",
   "execution_count": 20,
   "metadata": {},
   "outputs": [],
   "source": [
    "from sklearn.svm import SVC\n",
    "\n",
    "svc_rbf = SVC(kernel='rbf', C=5, gamma=0.008)\n",
    "s_t = time.time()\n",
    "svc_rbf.fit(X_train, train_labels)\n",
    "f_t = time.time()\n",
    "d = f_t - s_t"
   ]
  },
  {
   "cell_type": "code",
   "execution_count": 21,
   "metadata": {},
   "outputs": [
    {
     "name": "stdout",
     "output_type": "stream",
     "text": [
      "Train accuracy: 0.999850\n"
     ]
    }
   ],
   "source": [
    "y_pred_train = svc_rbf.predict(X_train)\n",
    "acc_train = np.mean(y_pred_train == train_labels)\n",
    "print('Train accuracy: {0:f}'.format(acc_train))"
   ]
  },
  {
   "cell_type": "code",
   "execution_count": 22,
   "metadata": {},
   "outputs": [
    {
     "name": "stdout",
     "output_type": "stream",
     "text": [
      "Test accuracy: 0.986200\n"
     ]
    }
   ],
   "source": [
    "y_pred_test = svc_rbf.predict(X_test)\n",
    "acc_test = np.mean(y_pred_test == test_labels)\n",
    "print('Test accuracy: {0:f}'.format(acc_test))"
   ]
  },
  {
   "cell_type": "markdown",
   "metadata": {},
   "source": [
    "Train accuracy: 0.994150, Test accuracy: 0.982400, time: 1m 54sec"
   ]
  },
  {
   "cell_type": "markdown",
   "metadata": {},
   "source": [
    "### Best model without normalization + PCA"
   ]
  },
  {
   "cell_type": "code",
   "execution_count": 27,
   "metadata": {},
   "outputs": [
    {
     "name": "stdout",
     "output_type": "stream",
     "text": [
      "(60000, 784) (60000,)\n",
      "(10000, 784) (10000,)\n",
      "255\n",
      "33.318421449829934\n"
     ]
    }
   ],
   "source": [
    "print(train_data.shape, train_labels.shape)\n",
    "print(test_data.shape, test_labels.shape)\n",
    "max_value = np.max(train_data)\n",
    "mean_value = np.mean(train_data)\n",
    "print(max_value)\n",
    "print(mean_value)"
   ]
  },
  {
   "cell_type": "code",
   "execution_count": 28,
   "metadata": {},
   "outputs": [],
   "source": [
    "from sklearn.svm import SVC\n",
    "\n",
    "svc_rbf = SVC(kernel='rbf', C=0.5, gamma='auto')\n",
    "s_t = time.time()\n",
    "svc_rbf.fit(train_data, train_labels)\n",
    "f_t = time.time()\n",
    "d = f_t - s_t"
   ]
  },
  {
   "cell_type": "code",
   "execution_count": 29,
   "metadata": {},
   "outputs": [
    {
     "name": "stdout",
     "output_type": "stream",
     "text": [
      "Train accuracy: 0.112367\n",
      "Test accuracy: 0.113500\n"
     ]
    }
   ],
   "source": [
    "y_pred_train = svc_rbf.predict(train_data)\n",
    "acc_train = np.mean(y_pred_train == train_labels)\n",
    "print('Train accuracy: {0:f}'.format(acc_train))\n",
    "y_pred_test = svc_rbf.predict(test_data)\n",
    "acc_test = np.mean(y_pred_test == test_labels)\n",
    "print('Test accuracy: {0:f}'.format(acc_test))"
   ]
  },
  {
   "cell_type": "code",
   "execution_count": 31,
   "metadata": {},
   "outputs": [
    {
     "data": {
      "text/plain": [
       "72.92130468289058"
      ]
     },
     "execution_count": 31,
     "metadata": {},
     "output_type": "execute_result"
    }
   ],
   "source": [
    "d/60"
   ]
  },
  {
   "cell_type": "markdown",
   "metadata": {},
   "source": [
    "Train accuracy: 0.112367, Test accuracy: 0.113500, fitting 72.92min, else 31min"
   ]
  },
  {
   "cell_type": "markdown",
   "metadata": {},
   "source": [
    "### Best model without normalization"
   ]
  },
  {
   "cell_type": "code",
   "execution_count": 17,
   "metadata": {},
   "outputs": [
    {
     "name": "stdout",
     "output_type": "stream",
     "text": [
      "(60000, 784) (60000,)\n",
      "(10000, 784) (10000,)\n",
      "1.0\n",
      "-0.7349707883153258\n"
     ]
    }
   ],
   "source": [
    "train_data_n = normal(train_data)\n",
    "test_data_n = normal(test_data)\n",
    "print(train_data_n.shape, train_labels.shape)\n",
    "print(test_data_n.shape, test_labels.shape)\n",
    "max_value = np.max(train_data_n)\n",
    "mean_value = np.mean(test_data_n)\n",
    "print(max_value)\n",
    "print(mean_value)"
   ]
  },
  {
   "cell_type": "code",
   "execution_count": 18,
   "metadata": {},
   "outputs": [],
   "source": [
    "from sklearn.svm import SVC\n",
    "\n",
    "svc_rbf = SVC(kernel='rbf', C=5, gamma=0.008)\n",
    "s_t = time.time()\n",
    "svc_rbf.fit(train_data_n, train_labels)\n",
    "f_t = time.time()\n",
    "d = f_t - s_t"
   ]
  },
  {
   "cell_type": "code",
   "execution_count": 19,
   "metadata": {},
   "outputs": [
    {
     "name": "stdout",
     "output_type": "stream",
     "text": [
      "Train accuracy: 0.999983\n",
      "Test accuracy: 0.985900\n"
     ]
    }
   ],
   "source": [
    "y_pred_train = svc_rbf.predict(train_data_n)\n",
    "acc_train = np.mean(y_pred_train == train_labels)\n",
    "print('Train accuracy: {0:f}'.format(acc_train))\n",
    "y_pred_test = svc_rbf.predict(test_data_n)\n",
    "acc_test = np.mean(y_pred_test == test_labels)\n",
    "print('Test accuracy: {0:f}'.format(acc_test))"
   ]
  },
  {
   "cell_type": "markdown",
   "metadata": {},
   "source": [
    "Train accuracy: 0.964000\n",
    "Test accuracy: 0.960500\n",
    "time: 8m 15sec"
   ]
  },
  {
   "cell_type": "markdown",
   "metadata": {},
   "source": [
    "### Compare with Nearest Neighbor and Nearest Class Centroid"
   ]
  },
  {
   "cell_type": "code",
   "execution_count": 25,
   "metadata": {},
   "outputs": [
    {
     "name": "stdout",
     "output_type": "stream",
     "text": [
      "KNN with n_neighbors=1 training time: 0.005621671676635742 sec\n",
      "KNN with n_neighbors=1 test time: 0.8995907306671143 sec\n",
      "Accuracy for k_neighbors=1 is, acc = 97.34\n",
      "KNN with n_neighbors=3 training time: 0.008337974548339844 sec\n",
      "KNN with n_neighbors=3 test time: 0.7124502658843994 sec\n",
      "Accuracy for k_neighbors=3 is, acc = 97.35\n",
      "KNN with n_neighbors=5 training time: 0.00930929183959961 sec\n",
      "KNN with n_neighbors=5 test time: 0.7532098293304443 sec\n",
      "Accuracy for k_neighbors=5 is, acc = 97.28\n",
      "KNN with n_neighbors=7 training time: 0.00879526138305664 sec\n",
      "KNN with n_neighbors=7 test time: 0.7245044708251953 sec\n",
      "Accuracy for k_neighbors=7 is, acc = 97.41\n",
      "KNN with n_neighbors=9 training time: 0.008335113525390625 sec\n",
      "KNN with n_neighbors=9 test time: 0.7385234832763672 sec\n",
      "Accuracy for k_neighbors=9 is, acc = 97.27\n",
      "KNN with n_neighbors=11 training time: 0.00592350959777832 sec\n",
      "KNN with n_neighbors=11 test time: 0.7375080585479736 sec\n",
      "Accuracy for k_neighbors=11 is, acc = 97.03\n",
      "KNN with n_neighbors=13 training time: 0.004190206527709961 sec\n",
      "KNN with n_neighbors=13 test time: 0.7582945823669434 sec\n",
      "Accuracy for k_neighbors=13 is, acc = 96.97\n",
      "KNN with n_neighbors=15 training time: 0.008326292037963867 sec\n",
      "KNN with n_neighbors=15 test time: 0.7701609134674072 sec\n",
      "Accuracy for k_neighbors=15 is, acc = 96.86\n",
      "KNN with n_neighbors=17 training time: 0.007479667663574219 sec\n",
      "KNN with n_neighbors=17 test time: 0.7431929111480713 sec\n",
      "Accuracy for k_neighbors=17 is, acc = 96.84\n",
      "KNN with n_neighbors=19 training time: 0.010500907897949219 sec\n",
      "KNN with n_neighbors=19 test time: 0.7646512985229492 sec\n",
      "Accuracy for k_neighbors=19 is, acc = 96.74\n"
     ]
    }
   ],
   "source": [
    "from sklearn.neighbors import KNeighborsClassifier as KNN\n",
    "\n",
    "acc_KNN = []\n",
    "\n",
    "for k in range(1,20,2):\n",
    "    knn = KNN(n_neighbors=k, n_jobs=-1)\n",
    "\n",
    "    s_t = time.time()\n",
    "    knn.fit(X_train, train_labels)\n",
    "    f_t = time.time()\n",
    "    print(f'KNN with n_neighbors={k} training time: {f_t - s_t} sec')\n",
    "\n",
    "    s_t = time.time()\n",
    "    score = knn.score(X_test, test_labels)\n",
    "    f_t = time.time()\n",
    "    print(f'KNN with n_neighbors={k} test time: {f_t - s_t} sec')\n",
    "\n",
    "    print(f'Accuracy for k_neighbors={k} is, acc = {round(score*100,2)}')\n",
    "    acc_KNN.append(score)"
   ]
  },
  {
   "cell_type": "code",
   "execution_count": 20,
   "metadata": {},
   "outputs": [
    {
     "name": "stdout",
     "output_type": "stream",
     "text": [
      "The best accuracy is 97.41% with n_neighbors = 7\n"
     ]
    }
   ],
   "source": [
    "best_acc = max(acc_KNN)\n",
    "best_k = acc_KNN.index(best_acc)\n",
    "best_k_value = range(1,20,2)[best_k]\n",
    "\n",
    "print(f'The best accuracy is {best_acc*100:.2f}% with n_neighbors = {best_k_value}')"
   ]
  },
  {
   "cell_type": "code",
   "execution_count": 27,
   "metadata": {},
   "outputs": [
    {
     "name": "stdout",
     "output_type": "stream",
     "text": [
      "Train accuracy is: 98.20%\n"
     ]
    }
   ],
   "source": [
    "knn = KNN(n_neighbors=7, n_jobs=-1).fit(X_train, train_labels)\n",
    "train_score = knn.score(X_train, train_labels)\n",
    "print(f'Train accuracy is: {train_score*100:.2f}%')"
   ]
  },
  {
   "cell_type": "code",
   "execution_count": 28,
   "metadata": {},
   "outputs": [
    {
     "name": "stdout",
     "output_type": "stream",
     "text": [
      "Accuracy for Nearset Centroid is, acc = 81.96\n"
     ]
    }
   ],
   "source": [
    "from sklearn.neighbors import NearestCentroid\n",
    "\n",
    "clf = NearestCentroid()\n",
    "s_t = time.time()\n",
    "clf.fit(X_train, train_labels)\n",
    "f_t = time.time()\n",
    "# print(f'Nearset Centroid training time: {f_t - s_t} sec')\n",
    "\n",
    "s_t = time.time()\n",
    "score = clf.score(X_test, test_labels)\n",
    "f_t = time.time()\n",
    "# print(f'Nearset Centroid test time: {f_t - s_t} sec')\n",
    "\n",
    "print(f'Accuracy for Nearset Centroid is, acc = {round(score*100,2)}')"
   ]
  },
  {
   "cell_type": "code",
   "execution_count": 29,
   "metadata": {},
   "outputs": [
    {
     "name": "stdout",
     "output_type": "stream",
     "text": [
      "Train accuracy is: 80.75%\n"
     ]
    }
   ],
   "source": [
    "train_score = clf.score(X_train, train_labels)\n",
    "print(f'Train accuracy is: {train_score*100:.2f}%')"
   ]
  },
  {
   "cell_type": "markdown",
   "metadata": {},
   "source": [
    "### And now apply the knowledge from above to the Cifar-10"
   ]
  },
  {
   "cell_type": "code",
   "execution_count": 30,
   "metadata": {},
   "outputs": [
    {
     "name": "stdout",
     "output_type": "stream",
     "text": [
      "Shape of x_train: (50000, 32, 32, 3)\n",
      "Shape of y_train: (50000, 1)\n",
      "Shape of x_test: (10000, 32, 32, 3)\n",
      "Shape of y_test: (10000, 1)\n"
     ]
    }
   ],
   "source": [
    "import tensorflow as tf \n",
    "from tensorflow.keras.datasets import cifar10\n",
    "\n",
    "# Load CIFAR-10 dataset \n",
    "(x_train, y_train), (x_test, y_test) = cifar10.load_data()\n",
    "\n",
    "print(\"Shape of x_train:\", x_train.shape) \n",
    "print(\"Shape of y_train:\", y_train.shape) \n",
    "print(\"Shape of x_test:\", x_test.shape)\n",
    "print(\"Shape of y_test:\", y_test.shape)"
   ]
  },
  {
   "cell_type": "code",
   "execution_count": 31,
   "metadata": {},
   "outputs": [
    {
     "name": "stdout",
     "output_type": "stream",
     "text": [
      "(50000, 32, 32, 3)\n"
     ]
    },
    {
     "data": {
      "image/png": "[encoded data removed]",
      "text/plain": [
       "<Figure size 640x480 with 6 Axes>"
      ]
     },
     "metadata": {},
     "output_type": "display_data"
    }
   ],
   "source": [
    "import matplotlib.pyplot as plt\n",
    "import matplotlib as mpl\n",
    "\n",
    "# show some images \n",
    "print(x_train.shape)\n",
    "\n",
    "plt.subplot(321)\n",
    "plt.imshow(x_train[100])\n",
    "plt.axis('off')\n",
    "plt.title(y_train[100])\n",
    "plt.subplot(322)\n",
    "plt.imshow(x_train[700])\n",
    "plt.axis('off')\n",
    "plt.title(y_train[700])\n",
    "plt.subplot(323)\n",
    "plt.imshow(x_train[2000])\n",
    "plt.axis('off')\n",
    "plt.title(y_train[2000])\n",
    "plt.subplot(324)\n",
    "plt.imshow(x_train[4000])\n",
    "plt.axis('off')\n",
    "plt.title(y_train[4000])\n",
    "plt.subplot(325)\n",
    "plt.imshow(x_train[10000])\n",
    "plt.axis('off')\n",
    "plt.title(y_train[10000])\n",
    "plt.subplot(326)\n",
    "plt.imshow(x_train[30000])\n",
    "plt.axis('off')\n",
    "plt.title(y_train[30000])\n",
    "\n",
    "plt.show()"
   ]
  },
  {
   "cell_type": "code",
   "execution_count": 32,
   "metadata": {},
   "outputs": [
    {
     "name": "stdout",
     "output_type": "stream",
     "text": [
      "(10000, 3072)\n",
      "(10000,)\n",
      "(10000, 3072)\n",
      "(10000,)\n"
     ]
    }
   ],
   "source": [
    "x_train_mini = x_train[0:10000]\n",
    "y_train_mini = y_train[0:10000]\n",
    "x_train_m = x_train_mini.reshape(x_train_mini.shape[0], -1)\n",
    "y_train_m = y_train_mini.reshape(y_train_mini.shape[0])\n",
    "x_test = x_test.reshape(x_test.shape[0], -1)\n",
    "y_test = y_test.reshape(y_test.shape[0])\n",
    "print(x_train_m.shape)\n",
    "print(y_train_m.shape)\n",
    "print(x_test.shape)\n",
    "print(y_test.shape)"
   ]
  },
  {
   "cell_type": "markdown",
   "metadata": {},
   "source": [
    "#### Normalization and PCA application"
   ]
  },
  {
   "cell_type": "code",
   "execution_count": 33,
   "metadata": {},
   "outputs": [
    {
     "name": "stdout",
     "output_type": "stream",
     "text": [
      "1.0\n",
      "-1.0\n",
      "-0.0468301588031046\n"
     ]
    }
   ],
   "source": [
    "import numpy as np\n",
    "\n",
    "def normal(X_mini):\n",
    "    #dedomeno oti einai eikones, max(xi)=255, min(xi)=0\n",
    "    X_norm = 2*(X_mini/255) - 1\n",
    "    return X_norm\n",
    "\n",
    "x_train_nm = normal(x_train_m)\n",
    "x_test_nm = normal(x_test)\n",
    "\n",
    "max_value = np.max(x_test_nm)\n",
    "min_value = np.min(x_test_nm)\n",
    "mean_value = np.mean(x_test_nm)\n",
    "print(max_value)\n",
    "print(min_value)\n",
    "print(mean_value)"
   ]
  },
  {
   "cell_type": "code",
   "execution_count": 34,
   "metadata": {},
   "outputs": [],
   "source": [
    "l_svc = SVC(kernel='linear', C=2.5).fit(x_train_nm, y_train_m)"
   ]
  },
  {
   "cell_type": "code",
   "execution_count": 35,
   "metadata": {},
   "outputs": [
    {
     "name": "stdout",
     "output_type": "stream",
     "text": [
      "(10000, 96)\n",
      "(10000,)\n",
      "(10000, 96)\n",
      "(10000,)\n",
      "(10000, 3072)\n"
     ]
    }
   ],
   "source": [
    "from sklearn.decomposition import PCA\n",
    "\n",
    "pca = PCA(n_components=0.9)\n",
    "pca.fit(x_train_nm)\n",
    "\n",
    "#X_mnt = X_mini_normalized_PCAtransformed, test_dnt = test_data_normalized_PCAtransformed\n",
    "X_mnt = pca.transform(x_train_nm)\n",
    "test_dnt = pca.transform(x_test_nm)\n",
    "\n",
    "print(X_mnt.shape)\n",
    "print(y_train_m.shape)\n",
    "print(test_dnt.shape)\n",
    "print(y_test.shape)\n",
    "print(x_train_nm.shape)"
   ]
  },
  {
   "cell_type": "code",
   "execution_count": 37,
   "metadata": {},
   "outputs": [],
   "source": [
    "l_svc_p = SVC(kernel='linear', C=2.5).fit(X_mnt, y_train_m)"
   ]
  },
  {
   "cell_type": "markdown",
   "metadata": {},
   "source": [
    "SVC Linear, Poly and rbf for mini "
   ]
  },
  {
   "cell_type": "code",
   "execution_count": 32,
   "metadata": {},
   "outputs": [],
   "source": [
    "from sklearn.svm import SVC\n",
    "\n",
    "def svc(c,Kernel,g=None):\n",
    "\n",
    "    if Kernel == 'linear':\n",
    "        svc = SVC(kernel= Kernel, C = c)\n",
    "        svc.fit(X_mnt, y_train_m)\n",
    "\n",
    "        #pred values and accuracy on training\n",
    "        y_pred_train = svc.predict(X_mnt)\n",
    "        acc_train = np.mean(y_pred_train == y_train_m)\n",
    "        acc_train_linear.append(acc_train)\n",
    "        print('Train accuracy: {0:f}'.format(acc_train))\n",
    "\n",
    "        #pred values and accuracy on test\n",
    "        y_pred_test = svc.predict(test_dnt)\n",
    "        acc_test = np.mean(y_pred_test == y_test)\n",
    "        acc_test_linear.append(acc_test)\n",
    "        print('Test accuracy: {0:f}'.format(acc_test))\n",
    "        print(f'This accuracy scores are for C: {c}')\n",
    "\n",
    "    elif Kernel == 'poly':\n",
    "        svc_poly = SVC(kernel= Kernel, C = c)\n",
    "        svc_poly.fit(X_mnt, y_train_m)\n",
    "\n",
    "        #pred values and accuracy on training\n",
    "        y_pred_train = svc_poly.predict(X_mnt)\n",
    "        acc_train = np.mean(y_pred_train == y_train_m)\n",
    "        acc_train_poly.append(acc_train)\n",
    "        print('Train accuracy: {0:f}'.format(acc_train))\n",
    "\n",
    "        #pred values and accuracy on test\n",
    "        y_pred_test = svc_poly.predict(test_dnt)\n",
    "        acc_test = np.mean(y_pred_test == y_test)\n",
    "        acc_test_poly.append(acc_test)\n",
    "        print('Test accuracy: {0:f}'.format(acc_test))\n",
    "        print(f'This accuracy scores are for C: {c}')\n",
    "        \n",
    "    elif Kernel == 'rbf':\n",
    "        svc_rbf = SVC(kernel=Kernel, C=c, gamma=g)\n",
    "        svc_rbf.fit(X_mnt, y_train_m)\n",
    "\n",
    "        #pred values and accuracy on train\n",
    "        y_pred_train = svc_rbf.predict(X_mnt)\n",
    "        acc_train = np.mean(y_pred_train == y_train_m)\n",
    "        acc_train_rbf.append(acc_train)\n",
    "        print('Train accuracy: {0:f}'.format(acc_train))\n",
    "\n",
    "        #pred values and accuracy on test\n",
    "        y_pred_test = svc_rbf.predict(test_dnt)\n",
    "        acc_test = np.mean(y_pred_test == y_test)\n",
    "        acc_test_rbf.append(acc_test)\n",
    "        print('Test accuracy: {0:f}'.format(acc_test))\n",
    "        print(f'The C is: {c} and the gamma is: {g}')\n",
    "\n",
    "    else:\n",
    "        print(f'The kernel: {Kernel}, doesnt match any SVC')\n",
    "\n",
    "    return acc_train, acc_test\n"
   ]
  },
  {
   "cell_type": "code",
   "execution_count": 28,
   "metadata": {},
   "outputs": [
    {
     "name": "stdout",
     "output_type": "stream",
     "text": [
      "Train accuracy: 0.376100\n",
      "Test accuracy: 0.362600\n",
      "This accuracy scores are for C: 0.0001\n",
      "Train accuracy: 0.424300\n",
      "Test accuracy: 0.394800\n",
      "This accuracy scores are for C: 0.001\n",
      "Train accuracy: 0.445900\n",
      "Test accuracy: 0.388300\n",
      "This accuracy scores are for C: 0.01\n",
      "Train accuracy: 0.450000\n",
      "Test accuracy: 0.382900\n",
      "This accuracy scores are for C: 0.1\n",
      "Train accuracy: 0.447900\n",
      "Test accuracy: 0.381800\n",
      "This accuracy scores are for C: 1\n",
      "Train accuracy: 0.448400\n",
      "Test accuracy: 0.382400\n",
      "This accuracy scores are for C: 5\n",
      "duration was: 938.26\n"
     ]
    },
    {
     "data": {
      "image/png": "[encoded data removed]",
      "text/plain": [
       "<Figure size 640x480 with 1 Axes>"
      ]
     },
     "metadata": {},
     "output_type": "display_data"
    }
   ],
   "source": [
    "c_linear = [0.0001, 0.001, 0.01, 0.1, 1, 5]\n",
    "acc_train_linear = []\n",
    "acc_test_linear = []\n",
    "\n",
    "s_time = time.time()\n",
    "for c in c_linear:\n",
    "    svc(c, Kernel='linear')\n",
    "f_time = time.time()\n",
    "dur = f_time - s_time\n",
    "print(f'duration was: {dur:.2f}')\n",
    "\n",
    "plt.plot(c_linear, acc_train_linear, '.-', color='red')\n",
    "plt.plot(c_linear, acc_test_linear, '.-', color='blue')\n",
    "plt.xlabel('c')\n",
    "plt.ylabel('acc')\n",
    "plt.title('Acc vs c for traing and test data')\n",
    "plt.grid()\n",
    "# phre 170 lepta gia na vgalei mexri t0 c10"
   ]
  },
  {
   "cell_type": "code",
   "execution_count": 31,
   "metadata": {},
   "outputs": [
    {
     "name": "stdout",
     "output_type": "stream",
     "text": [
      "Train accuracy: 0.103200\n",
      "Test accuracy: 0.100000\n",
      "This accuracy scores are for C: 0.0001\n",
      "Durration for C: 0.0001 is 9.358635425567627sec\n",
      "Train accuracy: 0.115000\n",
      "Test accuracy: 0.111500\n",
      "This accuracy scores are for C: 0.001\n",
      "Durration for C: 0.001 is 9.227784395217896sec\n",
      "Train accuracy: 0.200400\n",
      "Test accuracy: 0.187400\n",
      "This accuracy scores are for C: 0.01\n",
      "Durration for C: 0.01 is 8.921199560165405sec\n",
      "Train accuracy: 0.325000\n",
      "Test accuracy: 0.279200\n",
      "This accuracy scores are for C: 0.05\n",
      "Durration for C: 0.05 is 8.701112747192383sec\n",
      "Train accuracy: 0.377700\n",
      "Test accuracy: 0.310700\n",
      "This accuracy scores are for C: 0.1\n",
      "Durration for C: 0.1 is 8.54944109916687sec\n",
      "Train accuracy: 0.557200\n",
      "Test accuracy: 0.368200\n",
      "This accuracy scores are for C: 0.5\n",
      "Durration for C: 0.5 is 8.32156252861023sec\n",
      "Train accuracy: 0.655000\n",
      "Test accuracy: 0.383900\n",
      "This accuracy scores are for C: 1\n",
      "Durration for C: 1 is 8.345109939575195sec\n",
      "Train accuracy: 0.785500\n",
      "Test accuracy: 0.394600\n",
      "This accuracy scores are for C: 2.5\n",
      "Durration for C: 2.5 is 8.651354551315308sec\n",
      "Train accuracy: 0.865500\n",
      "Test accuracy: 0.396600\n",
      "This accuracy scores are for C: 5\n",
      "Durration for C: 5 is 9.533019065856934sec\n",
      "Train accuracy: 0.925200\n",
      "Test accuracy: 0.399300\n",
      "This accuracy scores are for C: 10\n",
      "Durration for C: 10 is 9.784425020217896sec\n",
      "Train accuracy: 0.961400\n",
      "Test accuracy: 0.398300\n",
      "This accuracy scores are for C: 20\n",
      "Durration for C: 20 is 9.890987396240234sec\n",
      "Durration: 99.28\n"
     ]
    },
    {
     "data": {
      "image/png": "[encoded data removed]",
      "text/plain": [
       "<Figure size 640x480 with 1 Axes>"
      ]
     },
     "metadata": {},
     "output_type": "display_data"
    }
   ],
   "source": [
    "c_poly_optimize = [0.0001, 0.001, 0.01, 0.05, 0.1, 0.5, 1, 2.5, 5, 10, 20]\n",
    "acc_train_poly = []\n",
    "acc_test_poly = []\n",
    "\n",
    "s_time_f = time.time()\n",
    "for c in c_poly_optimize:\n",
    "    s_time = time.time()\n",
    "    svc(c,Kernel='poly')\n",
    "    f_time = time.time()\n",
    "    d=f_time - s_time\n",
    "    print(f'Durration for C: {c} is {d}sec')\n",
    "f_time_f = time.time()\n",
    "dur = f_time_f - s_time_f\n",
    "print(f'Durration: {dur:.2f}')\n",
    "\n",
    "plt.plot(c_poly_optimize, acc_train_poly, '.-', color='red')\n",
    "plt.plot(c_poly_optimize, acc_test_poly, '.-', color='blue')\n",
    "plt.xlabel('c')\n",
    "plt.ylabel('acc')\n",
    "plt.title('Acc vs c for traing and test data')\n",
    "plt.grid()"
   ]
  },
  {
   "cell_type": "code",
   "execution_count": 34,
   "metadata": {},
   "outputs": [
    {
     "name": "stdout",
     "output_type": "stream",
     "text": [
      "         acc_train  acc_test\n",
      "C                           \n",
      "0.0001      0.1032    0.1000\n",
      "0.0010      0.1150    0.1115\n",
      "0.0100      0.2004    0.1874\n",
      "0.0500      0.3250    0.2792\n",
      "0.1000      0.3777    0.3107\n",
      "0.5000      0.5572    0.3682\n",
      "1.0000      0.6550    0.3839\n",
      "2.5000      0.7855    0.3946\n",
      "5.0000      0.8655    0.3966\n",
      "10.0000     0.9252    0.3993\n",
      "20.0000     0.9614    0.3983\n"
     ]
    }
   ],
   "source": [
    "import pandas as pd\n",
    "\n",
    "data = { 'C': c_poly_optimize, 'acc_train': acc_train_poly, 'acc_test': acc_test_poly }\n",
    "acc_poly = pd.DataFrame(data)\n",
    "acc_poly.set_index('C', inplace=True)\n",
    "print(acc_poly)"
   ]
  },
  {
   "cell_type": "code",
   "execution_count": null,
   "metadata": {},
   "outputs": [
    {
     "name": "stdout",
     "output_type": "stream",
     "text": [
      "Train accuracy: 0.103200\n",
      "Test accuracy: 0.100000\n",
      "The C is: 0.0001 and the gamma is: auto\n",
      "Durration for C: 0.0001 is 19.859712839126587sec\n",
      "Train accuracy: 0.103200\n",
      "Test accuracy: 0.100000\n",
      "The C is: 0.001 and the gamma is: auto\n",
      "Durration for C: 0.001 is 20.24194598197937sec\n",
      "Train accuracy: 0.103200\n",
      "Test accuracy: 0.100000\n",
      "The C is: 0.01 and the gamma is: auto\n",
      "Durration for C: 0.01 is 21.098862409591675sec\n",
      "Train accuracy: 0.135000\n",
      "Test accuracy: 0.126600\n",
      "The C is: 0.05 and the gamma is: auto\n",
      "Durration for C: 0.05 is 20.381120920181274sec\n",
      "Train accuracy: 0.175200\n",
      "Test accuracy: 0.147900\n",
      "The C is: 0.1 and the gamma is: auto\n",
      "Durration for C: 0.1 is 20.1096088886261sec\n",
      "Train accuracy: 0.809200\n",
      "Test accuracy: 0.253500\n",
      "The C is: 0.5 and the gamma is: auto\n",
      "Durration for C: 0.5 is 20.06342124938965sec\n",
      "Train accuracy: 0.987000\n",
      "Test accuracy: 0.378700\n",
      "The C is: 1 and the gamma is: auto\n",
      "Durration for C: 1 is 20.745718717575073sec\n",
      "Train accuracy: 0.999800\n",
      "Test accuracy: 0.389600\n",
      "The C is: 2.5 and the gamma is: auto\n",
      "Durration for C: 2.5 is 20.780850172042847sec\n",
      "Train accuracy: 1.000000\n",
      "Test accuracy: 0.389300\n",
      "The C is: 5 and the gamma is: auto\n",
      "Durration for C: 5 is 20.807453632354736sec\n",
      "Train accuracy: 1.000000\n",
      "Test accuracy: 0.389200\n",
      "The C is: 10 and the gamma is: auto\n",
      "Durration for C: 10 is 20.702685832977295sec\n",
      "Train accuracy: 1.000000\n",
      "Test accuracy: 0.389200\n",
      "The C is: 20 and the gamma is: auto\n",
      "Durration for C: 20 is 20.488455057144165sec\n",
      "Durration: 225.28\n"
     ]
    },
    {
     "data": {
      "image/png": "[encoded data removed]",
      "text/plain": [
       "<Figure size 640x480 with 1 Axes>"
      ]
     },
     "metadata": {},
     "output_type": "display_data"
    }
   ],
   "source": [
    "c_rbf= [0.0001, 0.001, 0.01, 0.05, 0.1, 0.5, 1, 2.5, 5, 10, 20]\n",
    "acc_train_rbf = []\n",
    "acc_test_rbf = []\n",
    "\n",
    "s_time_t = time.time()\n",
    "for c in c_rbf:\n",
    "    s_time = time.time()\n",
    "    svc(c, Kernel='rbf', g='scale')\n",
    "    f_time = time.time()\n",
    "    d=f_time - s_time\n",
    "    print(f'Durration for C: {c} is {d}sec')\n",
    "f_time_t = time.time()\n",
    "dur = f_time_t - s_time_t\n",
    "print(f'Durration: {dur:.2f}')\n",
    "\n",
    "plt.plot(c_rbf, acc_train_rbf, '.-', color='red')\n",
    "plt.plot(c_rbf, acc_test_rbf, '.-', color='blue')\n",
    "plt.xlabel('c')\n",
    "plt.ylabel('acc')\n",
    "plt.title('Acc vs c for traing and test data')\n",
    "plt.grid()"
   ]
  },
  {
   "cell_type": "code",
   "execution_count": 35,
   "metadata": {},
   "outputs": [
    {
     "name": "stdout",
     "output_type": "stream",
     "text": [
      "         acc_train  acc_test\n",
      "C                           \n",
      "0.0001      0.1032    0.1000\n",
      "0.0010      0.1032    0.1000\n",
      "0.0100      0.1032    0.1000\n",
      "0.0500      0.1350    0.1266\n",
      "0.1000      0.1752    0.1479\n",
      "0.5000      0.8092    0.2535\n",
      "1.0000      0.9870    0.3787\n",
      "2.5000      0.9998    0.3896\n",
      "5.0000      1.0000    0.3893\n",
      "10.0000     1.0000    0.3892\n",
      "20.0000     1.0000    0.3892\n"
     ]
    }
   ],
   "source": [
    "data = { 'C': c_rbf, 'acc_train': acc_train_rbf, 'acc_test': acc_test_rbf }\n",
    "acc_rbf = pd.DataFrame(data)\n",
    "acc_rbf.set_index('C', inplace=True)\n",
    "print(acc_rbf)"
   ]
  },
  {
   "cell_type": "code",
   "execution_count": 42,
   "metadata": {},
   "outputs": [
    {
     "name": "stdout",
     "output_type": "stream",
     "text": [
      "Train accuracy: 0.442800\n",
      "Test accuracy: 0.411000\n",
      "The C is: 2.5 and the gamma is: 0.0001\n",
      "Durration for gamma: 0.0001 is 17.35572624206543sec\n",
      "Train accuracy: 0.717500\n",
      "Test accuracy: 0.476700\n",
      "The C is: 2.5 and the gamma is: 0.001\n",
      "Durration for gamma: 0.001 is 16.5245304107666sec\n",
      "Train accuracy: 0.999600\n",
      "Test accuracy: 0.395300\n",
      "The C is: 2.5 and the gamma is: 0.01\n",
      "Durration for gamma: 0.01 is 20.55509877204895sec\n",
      "Train accuracy: 1.000000\n",
      "Test accuracy: 0.133800\n",
      "The C is: 2.5 and the gamma is: 0.05\n",
      "Durration for gamma: 0.05 is 20.955024242401123sec\n",
      "Train accuracy: 1.000000\n",
      "Test accuracy: 0.102400\n",
      "The C is: 2.5 and the gamma is: 0.1\n",
      "Durration for gamma: 0.1 is 20.886874675750732sec\n",
      "Train accuracy: 1.000000\n",
      "Test accuracy: 0.100100\n",
      "The C is: 2.5 and the gamma is: 0.5\n",
      "Durration for gamma: 0.5 is 26.453882455825806sec\n",
      "Train accuracy: 1.000000\n",
      "Test accuracy: 0.100000\n",
      "The C is: 2.5 and the gamma is: 1\n",
      "Durration for gamma: 1 is 34.27358651161194sec\n",
      "Train accuracy: 1.000000\n",
      "Test accuracy: 0.100000\n",
      "The C is: 2.5 and the gamma is: 2.5\n",
      "Durration for gamma: 2.5 is 34.86019706726074sec\n",
      "Durration: 191.87\n"
     ]
    },
    {
     "data": {
      "image/png": "[encoded data removed]",
      "text/plain": [
       "<Figure size 640x480 with 1 Axes>"
      ]
     },
     "metadata": {},
     "output_type": "display_data"
    }
   ],
   "source": [
    "g_rbf= [0.0001, 0.001, 0.01, 0.05, 0.1, 0.5, 1, 2.5]\n",
    "acc_train_rbf = []\n",
    "acc_test_rbf = []\n",
    "\n",
    "s_time_t = time.time()\n",
    "for g in g_rbf:\n",
    "    s_time = time.time()\n",
    "    svc(2.5, Kernel='rbf', g=g)\n",
    "    f_time = time.time()\n",
    "    d=f_time - s_time\n",
    "    print(f'Durration for gamma: {g} is {d}sec')\n",
    "f_time_t = time.time()\n",
    "dur = f_time_t - s_time_t\n",
    "print(f'Durration: {dur:.2f}')\n",
    "\n",
    "plt.plot(g_rbf, acc_train_rbf, '.-', color='red')\n",
    "plt.plot(g_rbf, acc_test_rbf, '.-', color='blue')\n",
    "plt.xlabel('g')\n",
    "plt.ylabel('acc')\n",
    "plt.title('Acc vs g for traing and test data')\n",
    "plt.grid()"
   ]
  },
  {
   "cell_type": "code",
   "execution_count": 39,
   "metadata": {},
   "outputs": [
    {
     "name": "stdout",
     "output_type": "stream",
     "text": [
      "Train accuracy: 0.442800\n",
      "Test accuracy: 0.411000\n",
      "The C is: 2.5 and the gamma is: 0.0001\n",
      "Durration for gamma: 0.0001 is 17.110239267349243sec\n",
      "Train accuracy: 0.717500\n",
      "Test accuracy: 0.476700\n",
      "The C is: 2.5 and the gamma is: 0.001\n",
      "Durration for gamma: 0.001 is 16.361647844314575sec\n",
      "Train accuracy: 0.929800\n",
      "Test accuracy: 0.479800\n",
      "The C is: 2.5 and the gamma is: 0.0025\n",
      "Durration for gamma: 0.0025 is 18.50993013381958sec\n",
      "Train accuracy: 0.989400\n",
      "Test accuracy: 0.464000\n",
      "The C is: 2.5 and the gamma is: 0.005\n",
      "Durration for gamma: 0.005 is 20.119889974594116sec\n",
      "Train accuracy: 0.998200\n",
      "Test accuracy: 0.429500\n",
      "The C is: 2.5 and the gamma is: 0.0075\n",
      "Durration for gamma: 0.0075 is 20.401609420776367sec\n",
      "Train accuracy: 0.999600\n",
      "Test accuracy: 0.395300\n",
      "The C is: 2.5 and the gamma is: 0.01\n",
      "Durration for gamma: 0.01 is 20.541269779205322sec\n",
      "Durration: 113.05\n"
     ]
    },
    {
     "data": {
      "image/png": "[encoded data removed]",
      "text/plain": [
       "<Figure size 640x480 with 1 Axes>"
      ]
     },
     "metadata": {},
     "output_type": "display_data"
    }
   ],
   "source": [
    "g_rbf= [0.0001, 0.001, 0.0025, 0.005, 0.0075, 0.01]\n",
    "acc_train_rbf = []\n",
    "acc_test_rbf = []\n",
    "\n",
    "s_time_t = time.time()\n",
    "for g in g_rbf:\n",
    "    s_time = time.time()\n",
    "    svc(2.5, Kernel='rbf', g=g)\n",
    "    f_time = time.time()\n",
    "    d=f_time - s_time\n",
    "    print(f'Durration for gamma: {g} is {d}sec')\n",
    "f_time_t = time.time()\n",
    "dur = f_time_t - s_time_t\n",
    "print(f'Durration: {dur:.2f}')\n",
    "\n",
    "plt.plot(g_rbf, acc_train_rbf, '.-', color='red')\n",
    "plt.plot(g_rbf, acc_test_rbf, '.-', color='blue')\n",
    "plt.xlabel('g')\n",
    "plt.ylabel('acc')\n",
    "plt.title('Acc vs g for traing and test data')\n",
    "plt.grid()"
   ]
  },
  {
   "cell_type": "code",
   "execution_count": 40,
   "metadata": {},
   "outputs": [
    {
     "name": "stdout",
     "output_type": "stream",
     "text": [
      "Train accuracy: 0.103200\n",
      "Test accuracy: 0.100000\n",
      "The C is: 0.001 and the gamma is: 0.0025\n",
      "Durration for C: 0.001 is 20.101094961166382sec\n",
      "Train accuracy: 0.207800\n",
      "Test accuracy: 0.200600\n",
      "The C is: 0.01 and the gamma is: 0.0025\n",
      "Durration for C: 0.01 is 19.765626192092896sec\n",
      "Train accuracy: 0.429200\n",
      "Test accuracy: 0.383200\n",
      "The C is: 0.1 and the gamma is: 0.0025\n",
      "Durration for C: 0.1 is 18.329660654067993sec\n",
      "Train accuracy: 0.643600\n",
      "Test accuracy: 0.453500\n",
      "The C is: 0.5 and the gamma is: 0.0025\n",
      "Durration for C: 0.5 is 17.45900535583496sec\n",
      "Train accuracy: 0.785200\n",
      "Test accuracy: 0.474100\n",
      "The C is: 1 and the gamma is: 0.0025\n",
      "Durration for C: 1 is 17.42333197593689sec\n",
      "Train accuracy: 0.929800\n",
      "Test accuracy: 0.479800\n",
      "The C is: 2.5 and the gamma is: 0.0025\n",
      "Durration for C: 2.5 is 18.596127033233643sec\n",
      "Train accuracy: 0.976400\n",
      "Test accuracy: 0.474700\n",
      "The C is: 5 and the gamma is: 0.0025\n",
      "Durration for C: 5 is 19.44240975379944sec\n",
      "Train accuracy: 0.993900\n",
      "Test accuracy: 0.467200\n",
      "The C is: 10 and the gamma is: 0.0025\n",
      "Durration for C: 10 is 19.440669775009155sec\n",
      "Train accuracy: 0.998900\n",
      "Test accuracy: 0.462300\n",
      "The C is: 20 and the gamma is: 0.0025\n",
      "Durration for C: 20 is 19.599542379379272sec\n",
      "Durration: 170.16\n"
     ]
    },
    {
     "data": {
      "image/png": "[encoded data removed]",
      "text/plain": [
       "<Figure size 640x480 with 1 Axes>"
      ]
     },
     "metadata": {},
     "output_type": "display_data"
    }
   ],
   "source": [
    "c_rbf= [0.001, 0.01, 0.1, 0.5, 1, 2.5, 5, 10, 20]\n",
    "acc_train_rbf = []\n",
    "acc_test_rbf = []\n",
    "\n",
    "s_time_t = time.time()\n",
    "for c in c_rbf:\n",
    "    s_time = time.time()\n",
    "    svc(c, Kernel='rbf', g=0.0025)\n",
    "    f_time = time.time()\n",
    "    d=f_time - s_time\n",
    "    print(f'Durration for C: {c} is {d}sec')\n",
    "f_time_t = time.time()\n",
    "dur = f_time_t - s_time_t\n",
    "print(f'Durration: {dur:.2f}')\n",
    "\n",
    "plt.plot(c_rbf, acc_train_rbf, '.-', color='red')\n",
    "plt.plot(c_rbf, acc_test_rbf, '.-', color='blue')\n",
    "plt.xlabel('c')\n",
    "plt.ylabel('acc')\n",
    "plt.title('Acc vs c for traing and test data')\n",
    "plt.grid()"
   ]
  },
  {
   "cell_type": "code",
   "execution_count": 41,
   "metadata": {},
   "outputs": [
    {
     "name": "stdout",
     "output_type": "stream",
     "text": [
      "        acc_train  acc_test\n",
      "C                          \n",
      "0.001      0.1032    0.1000\n",
      "0.010      0.2078    0.2006\n",
      "0.100      0.4292    0.3832\n",
      "0.500      0.6436    0.4535\n",
      "1.000      0.7852    0.4741\n",
      "2.500      0.9298    0.4798\n",
      "5.000      0.9764    0.4747\n",
      "10.000     0.9939    0.4672\n",
      "20.000     0.9989    0.4623\n"
     ]
    }
   ],
   "source": [
    "data = { 'C': c_rbf, 'acc_train': acc_train_rbf, 'acc_test': acc_test_rbf }\n",
    "acc_rbf = pd.DataFrame(data)\n",
    "acc_rbf.set_index('C', inplace=True)\n",
    "print(acc_rbf)"
   ]
  },
  {
   "cell_type": "code",
   "execution_count": 33,
   "metadata": {},
   "outputs": [
    {
     "name": "stdout",
     "output_type": "stream",
     "text": [
      "Train accuracy: 0.242875\n",
      "Validation accuracy: 0.212500\n",
      "The C is: 0.05 and the gamma is: 0.0001\n",
      "Durration for C: 0.05 and gamma: 0.0001 is 8.982173681259155sec\n",
      "Train accuracy: 0.358125\n",
      "Validation accuracy: 0.319000\n",
      "The C is: 0.05 and the gamma is: 0.001\n",
      "Durration for C: 0.05 and gamma: 0.001 is 8.46035122871399sec\n",
      "Train accuracy: 0.147375\n",
      "Validation accuracy: 0.136000\n",
      "The C is: 0.05 and the gamma is: 0.01\n",
      "Durration for C: 0.05 and gamma: 0.01 is 9.286137819290161sec\n",
      "Train accuracy: 0.103250\n",
      "Validation accuracy: 0.103000\n",
      "The C is: 0.05 and the gamma is: 0.1\n",
      "Durration for C: 0.05 and gamma: 0.1 is 9.630160808563232sec\n",
      "Train accuracy: 0.285500\n",
      "Validation accuracy: 0.252500\n",
      "The C is: 0.1 and the gamma is: 0.0001\n",
      "Durration for C: 0.1 and gamma: 0.0001 is 8.874886989593506sec\n",
      "Train accuracy: 0.400875\n",
      "Validation accuracy: 0.360000\n",
      "The C is: 0.1 and the gamma is: 0.001\n",
      "Durration for C: 0.1 and gamma: 0.001 is 8.233171701431274sec\n",
      "Train accuracy: 0.189625\n",
      "Validation accuracy: 0.151000\n",
      "The C is: 0.1 and the gamma is: 0.01\n",
      "Durration for C: 0.1 and gamma: 0.01 is 9.296621561050415sec\n",
      "Train accuracy: 0.103250\n",
      "Validation accuracy: 0.103000\n",
      "The C is: 0.1 and the gamma is: 0.1\n",
      "Durration for C: 0.1 and gamma: 0.1 is 9.664734363555908sec\n",
      "Train accuracy: 0.381625\n",
      "Validation accuracy: 0.351500\n",
      "The C is: 0.5 and the gamma is: 0.0001\n",
      "Durration for C: 0.5 and gamma: 0.0001 is 8.204095602035522sec\n",
      "Train accuracy: 0.516250\n",
      "Validation accuracy: 0.427000\n",
      "The C is: 0.5 and the gamma is: 0.001\n",
      "Durration for C: 0.5 and gamma: 0.001 is 7.629674196243286sec\n",
      "Train accuracy: 0.773125\n",
      "Validation accuracy: 0.249500\n",
      "The C is: 0.5 and the gamma is: 0.01\n",
      "Durration for C: 0.5 and gamma: 0.01 is 9.452909469604492sec\n",
      "Train accuracy: 0.105875\n",
      "Validation accuracy: 0.103000\n",
      "The C is: 0.5 and the gamma is: 0.1\n",
      "Durration for C: 0.5 and gamma: 0.1 is 9.717608213424683sec\n",
      "Train accuracy: 0.405500\n",
      "Validation accuracy: 0.374000\n",
      "The C is: 1 and the gamma is: 0.0001\n",
      "Durration for C: 1 and gamma: 0.0001 is 8.059143781661987sec\n",
      "Train accuracy: 0.589875\n",
      "Validation accuracy: 0.454000\n",
      "The C is: 1 and the gamma is: 0.001\n",
      "Durration for C: 1 and gamma: 0.001 is 7.507365703582764sec\n",
      "Train accuracy: 0.987125\n",
      "Validation accuracy: 0.368500\n",
      "The C is: 1 and the gamma is: 0.01\n",
      "Durration for C: 1 and gamma: 0.01 is 9.808178663253784sec\n",
      "Train accuracy: 1.000000\n",
      "Validation accuracy: 0.105500\n",
      "The C is: 1 and the gamma is: 0.1\n",
      "Durration for C: 1 and gamma: 0.1 is 10.017071723937988sec\n",
      "Train accuracy: 0.442250\n",
      "Validation accuracy: 0.401500\n",
      "The C is: 2.5 and the gamma is: 0.0001\n",
      "Durration for C: 2.5 and gamma: 0.0001 is 7.7875893115997314sec\n",
      "Train accuracy: 0.728750\n",
      "Validation accuracy: 0.465500\n",
      "The C is: 2.5 and the gamma is: 0.001\n",
      "Durration for C: 2.5 and gamma: 0.001 is 7.505238056182861sec\n",
      "Train accuracy: 0.999750\n",
      "Validation accuracy: 0.375500\n",
      "The C is: 2.5 and the gamma is: 0.01\n",
      "Durration for C: 2.5 and gamma: 0.01 is 9.688128232955933sec\n",
      "Train accuracy: 1.000000\n",
      "Validation accuracy: 0.106000\n",
      "The C is: 2.5 and the gamma is: 0.1\n",
      "Durration for C: 2.5 and gamma: 0.1 is 9.90410304069519sec\n",
      "Train accuracy: 0.469750\n",
      "Validation accuracy: 0.414500\n",
      "The C is: 5 and the gamma is: 0.0001\n",
      "Durration for C: 5 and gamma: 0.0001 is 7.547142505645752sec\n",
      "Train accuracy: 0.832375\n",
      "Validation accuracy: 0.470500\n",
      "The C is: 5 and the gamma is: 0.001\n",
      "Durration for C: 5 and gamma: 0.001 is 7.49186110496521sec\n",
      "Train accuracy: 1.000000\n",
      "Validation accuracy: 0.373500\n",
      "The C is: 5 and the gamma is: 0.01\n",
      "Durration for C: 5 and gamma: 0.01 is 9.857383728027344sec\n",
      "Train accuracy: 1.000000\n",
      "Validation accuracy: 0.106000\n",
      "The C is: 5 and the gamma is: 0.1\n",
      "Durration for C: 5 and gamma: 0.1 is 9.90665316581726sec\n",
      "Durration: 212.51\n"
     ]
    },
    {
     "data": {
      "text/html": [
       "<div>\n",
       "<style scoped>\n",
       "    .dataframe tbody tr th:only-of-type {\n",
       "        vertical-align: middle;\n",
       "    }\n",
       "\n",
       "    .dataframe tbody tr th {\n",
       "        vertical-align: top;\n",
       "    }\n",
       "\n",
       "    .dataframe thead th {\n",
       "        text-align: right;\n",
       "    }\n",
       "</style>\n",
       "<table border=\"1\" class=\"dataframe\">\n",
       "  <thead>\n",
       "    <tr style=\"text-align: right;\">\n",
       "      <th></th>\n",
       "      <th>C</th>\n",
       "      <th>gamma</th>\n",
       "      <th>acc_train</th>\n",
       "      <th>acc_val</th>\n",
       "    </tr>\n",
       "  </thead>\n",
       "  <tbody>\n",
       "    <tr>\n",
       "      <th>0</th>\n",
       "      <td>0.05</td>\n",
       "      <td>0.0001</td>\n",
       "      <td>0.242875</td>\n",
       "      <td>0.2125</td>\n",
       "    </tr>\n",
       "    <tr>\n",
       "      <th>1</th>\n",
       "      <td>0.05</td>\n",
       "      <td>0.0010</td>\n",
       "      <td>0.358125</td>\n",
       "      <td>0.3190</td>\n",
       "    </tr>\n",
       "    <tr>\n",
       "      <th>2</th>\n",
       "      <td>0.05</td>\n",
       "      <td>0.0100</td>\n",
       "      <td>0.147375</td>\n",
       "      <td>0.1360</td>\n",
       "    </tr>\n",
       "    <tr>\n",
       "      <th>3</th>\n",
       "      <td>0.05</td>\n",
       "      <td>0.1000</td>\n",
       "      <td>0.103250</td>\n",
       "      <td>0.1030</td>\n",
       "    </tr>\n",
       "    <tr>\n",
       "      <th>4</th>\n",
       "      <td>0.10</td>\n",
       "      <td>0.0001</td>\n",
       "      <td>0.285500</td>\n",
       "      <td>0.2525</td>\n",
       "    </tr>\n",
       "    <tr>\n",
       "      <th>5</th>\n",
       "      <td>0.10</td>\n",
       "      <td>0.0010</td>\n",
       "      <td>0.400875</td>\n",
       "      <td>0.3600</td>\n",
       "    </tr>\n",
       "    <tr>\n",
       "      <th>6</th>\n",
       "      <td>0.10</td>\n",
       "      <td>0.0100</td>\n",
       "      <td>0.189625</td>\n",
       "      <td>0.1510</td>\n",
       "    </tr>\n",
       "    <tr>\n",
       "      <th>7</th>\n",
       "      <td>0.10</td>\n",
       "      <td>0.1000</td>\n",
       "      <td>0.103250</td>\n",
       "      <td>0.1030</td>\n",
       "    </tr>\n",
       "    <tr>\n",
       "      <th>8</th>\n",
       "      <td>0.50</td>\n",
       "      <td>0.0001</td>\n",
       "      <td>0.381625</td>\n",
       "      <td>0.3515</td>\n",
       "    </tr>\n",
       "    <tr>\n",
       "      <th>9</th>\n",
       "      <td>0.50</td>\n",
       "      <td>0.0010</td>\n",
       "      <td>0.516250</td>\n",
       "      <td>0.4270</td>\n",
       "    </tr>\n",
       "    <tr>\n",
       "      <th>10</th>\n",
       "      <td>0.50</td>\n",
       "      <td>0.0100</td>\n",
       "      <td>0.773125</td>\n",
       "      <td>0.2495</td>\n",
       "    </tr>\n",
       "    <tr>\n",
       "      <th>11</th>\n",
       "      <td>0.50</td>\n",
       "      <td>0.1000</td>\n",
       "      <td>0.105875</td>\n",
       "      <td>0.1030</td>\n",
       "    </tr>\n",
       "    <tr>\n",
       "      <th>12</th>\n",
       "      <td>1.00</td>\n",
       "      <td>0.0001</td>\n",
       "      <td>0.405500</td>\n",
       "      <td>0.3740</td>\n",
       "    </tr>\n",
       "    <tr>\n",
       "      <th>13</th>\n",
       "      <td>1.00</td>\n",
       "      <td>0.0010</td>\n",
       "      <td>0.589875</td>\n",
       "      <td>0.4540</td>\n",
       "    </tr>\n",
       "    <tr>\n",
       "      <th>14</th>\n",
       "      <td>1.00</td>\n",
       "      <td>0.0100</td>\n",
       "      <td>0.987125</td>\n",
       "      <td>0.3685</td>\n",
       "    </tr>\n",
       "    <tr>\n",
       "      <th>15</th>\n",
       "      <td>1.00</td>\n",
       "      <td>0.1000</td>\n",
       "      <td>1.000000</td>\n",
       "      <td>0.1055</td>\n",
       "    </tr>\n",
       "    <tr>\n",
       "      <th>16</th>\n",
       "      <td>2.50</td>\n",
       "      <td>0.0001</td>\n",
       "      <td>0.442250</td>\n",
       "      <td>0.4015</td>\n",
       "    </tr>\n",
       "    <tr>\n",
       "      <th>17</th>\n",
       "      <td>2.50</td>\n",
       "      <td>0.0010</td>\n",
       "      <td>0.728750</td>\n",
       "      <td>0.4655</td>\n",
       "    </tr>\n",
       "    <tr>\n",
       "      <th>18</th>\n",
       "      <td>2.50</td>\n",
       "      <td>0.0100</td>\n",
       "      <td>0.999750</td>\n",
       "      <td>0.3755</td>\n",
       "    </tr>\n",
       "    <tr>\n",
       "      <th>19</th>\n",
       "      <td>2.50</td>\n",
       "      <td>0.1000</td>\n",
       "      <td>1.000000</td>\n",
       "      <td>0.1060</td>\n",
       "    </tr>\n",
       "    <tr>\n",
       "      <th>20</th>\n",
       "      <td>5.00</td>\n",
       "      <td>0.0001</td>\n",
       "      <td>0.469750</td>\n",
       "      <td>0.4145</td>\n",
       "    </tr>\n",
       "    <tr>\n",
       "      <th>21</th>\n",
       "      <td>5.00</td>\n",
       "      <td>0.0010</td>\n",
       "      <td>0.832375</td>\n",
       "      <td>0.4705</td>\n",
       "    </tr>\n",
       "    <tr>\n",
       "      <th>22</th>\n",
       "      <td>5.00</td>\n",
       "      <td>0.0100</td>\n",
       "      <td>1.000000</td>\n",
       "      <td>0.3735</td>\n",
       "    </tr>\n",
       "    <tr>\n",
       "      <th>23</th>\n",
       "      <td>5.00</td>\n",
       "      <td>0.1000</td>\n",
       "      <td>1.000000</td>\n",
       "      <td>0.1060</td>\n",
       "    </tr>\n",
       "  </tbody>\n",
       "</table>\n",
       "</div>"
      ],
      "text/plain": [
       "       C   gamma  acc_train  acc_val\n",
       "0   0.05  0.0001   0.242875   0.2125\n",
       "1   0.05  0.0010   0.358125   0.3190\n",
       "2   0.05  0.0100   0.147375   0.1360\n",
       "3   0.05  0.1000   0.103250   0.1030\n",
       "4   0.10  0.0001   0.285500   0.2525\n",
       "5   0.10  0.0010   0.400875   0.3600\n",
       "6   0.10  0.0100   0.189625   0.1510\n",
       "7   0.10  0.1000   0.103250   0.1030\n",
       "8   0.50  0.0001   0.381625   0.3515\n",
       "9   0.50  0.0010   0.516250   0.4270\n",
       "10  0.50  0.0100   0.773125   0.2495\n",
       "11  0.50  0.1000   0.105875   0.1030\n",
       "12  1.00  0.0001   0.405500   0.3740\n",
       "13  1.00  0.0010   0.589875   0.4540\n",
       "14  1.00  0.0100   0.987125   0.3685\n",
       "15  1.00  0.1000   1.000000   0.1055\n",
       "16  2.50  0.0001   0.442250   0.4015\n",
       "17  2.50  0.0010   0.728750   0.4655\n",
       "18  2.50  0.0100   0.999750   0.3755\n",
       "19  2.50  0.1000   1.000000   0.1060\n",
       "20  5.00  0.0001   0.469750   0.4145\n",
       "21  5.00  0.0010   0.832375   0.4705\n",
       "22  5.00  0.0100   1.000000   0.3735\n",
       "23  5.00  0.1000   1.000000   0.1060"
      ]
     },
     "execution_count": 33,
     "metadata": {},
     "output_type": "execute_result"
    }
   ],
   "source": [
    "c_rbf= [0.05, 0.1, 0.5, 1, 2.5, 5]\n",
    "gamma= [0.0001, 0.001, 0.01, 0.1]\n",
    "acc_train_rbf = []\n",
    "acc_val_rbf = []\n",
    "\n",
    "results = []\n",
    "\n",
    "s_time_t = time.time()\n",
    "for c in c_rbf:\n",
    "    for g in gamma:\n",
    "        s_time = time.time()\n",
    "        acc_train, acc_val = hyperpam_tuning(X_mnt, y_train_m, c, g)\n",
    "        f_time = time.time()\n",
    "        d=f_time - s_time\n",
    "        print(f'Durration for C: {c} and gamma: {g} is {d}sec')\n",
    "\n",
    "        results.append({'C': c, 'gamma': g, 'acc_train': acc_train, 'acc_val': acc_val})\n",
    "        \n",
    "f_time_t = time.time()\n",
    "dur = f_time_t - s_time_t\n",
    "print(f'Durration: {dur:.2f}')\n",
    "\n",
    "df = pd.DataFrame(results)\n",
    "df"
   ]
  },
  {
   "cell_type": "code",
   "execution_count": 35,
   "metadata": {},
   "outputs": [
    {
     "data": {
      "text/plain": [
       "21"
      ]
     },
     "execution_count": 35,
     "metadata": {},
     "output_type": "execute_result"
    }
   ],
   "source": [
    "idmax = df['acc_val'].idxmax()\n",
    "idmax"
   ]
  },
  {
   "cell_type": "code",
   "execution_count": 36,
   "metadata": {},
   "outputs": [
    {
     "name": "stdout",
     "output_type": "stream",
     "text": [
      "Train accuracy: 0.589875\n",
      "Validation accuracy: 0.454000\n",
      "The C is: 1 and the gamma is: 0.001\n",
      "Durration for C: 1 and gamma: 0.001 is 8.021928548812866sec\n",
      "Train accuracy: 0.797000\n",
      "Validation accuracy: 0.463000\n",
      "The C is: 1 and the gamma is: 0.0025\n",
      "Durration for C: 1 and gamma: 0.0025 is 7.906992673873901sec\n",
      "Train accuracy: 0.931625\n",
      "Validation accuracy: 0.441000\n",
      "The C is: 1 and the gamma is: 0.005\n",
      "Durration for C: 1 and gamma: 0.005 is 9.29281497001648sec\n",
      "Train accuracy: 0.972875\n",
      "Validation accuracy: 0.405000\n",
      "The C is: 1 and the gamma is: 0.0075\n",
      "Durration for C: 1 and gamma: 0.0075 is 10.119662284851074sec\n",
      "Train accuracy: 0.728750\n",
      "Validation accuracy: 0.465500\n",
      "The C is: 2.5 and the gamma is: 0.001\n",
      "Durration for C: 2.5 and gamma: 0.001 is 7.343165397644043sec\n",
      "Train accuracy: 0.936125\n",
      "Validation accuracy: 0.470500\n",
      "The C is: 2.5 and the gamma is: 0.0025\n",
      "Durration for C: 2.5 and gamma: 0.0025 is 8.74564003944397sec\n",
      "Train accuracy: 0.992625\n",
      "Validation accuracy: 0.451500\n",
      "The C is: 2.5 and the gamma is: 0.005\n",
      "Durration for C: 2.5 and gamma: 0.005 is 9.442882776260376sec\n",
      "Train accuracy: 0.998625\n",
      "Validation accuracy: 0.413500\n",
      "The C is: 2.5 and the gamma is: 0.0075\n",
      "Durration for C: 2.5 and gamma: 0.0075 is 9.504799365997314sec\n",
      "Train accuracy: 0.832375\n",
      "Validation accuracy: 0.470500\n",
      "The C is: 5 and the gamma is: 0.001\n",
      "Durration for C: 5 and gamma: 0.001 is 7.4210968017578125sec\n",
      "Train accuracy: 0.979750\n",
      "Validation accuracy: 0.464000\n",
      "The C is: 5 and the gamma is: 0.0025\n",
      "Durration for C: 5 and gamma: 0.0025 is 8.954788446426392sec\n",
      "Train accuracy: 0.998750\n",
      "Validation accuracy: 0.445000\n",
      "The C is: 5 and the gamma is: 0.005\n",
      "Durration for C: 5 and gamma: 0.005 is 9.42599630355835sec\n",
      "Train accuracy: 1.000000\n",
      "Validation accuracy: 0.413000\n",
      "The C is: 5 and the gamma is: 0.0075\n",
      "Durration for C: 5 and gamma: 0.0075 is 9.542116403579712sec\n",
      "Durration: 105.72\n"
     ]
    },
    {
     "data": {
      "text/html": [
       "<div>\n",
       "<style scoped>\n",
       "    .dataframe tbody tr th:only-of-type {\n",
       "        vertical-align: middle;\n",
       "    }\n",
       "\n",
       "    .dataframe tbody tr th {\n",
       "        vertical-align: top;\n",
       "    }\n",
       "\n",
       "    .dataframe thead th {\n",
       "        text-align: right;\n",
       "    }\n",
       "</style>\n",
       "<table border=\"1\" class=\"dataframe\">\n",
       "  <thead>\n",
       "    <tr style=\"text-align: right;\">\n",
       "      <th></th>\n",
       "      <th>C</th>\n",
       "      <th>gamma</th>\n",
       "      <th>acc_train</th>\n",
       "      <th>acc_val</th>\n",
       "    </tr>\n",
       "  </thead>\n",
       "  <tbody>\n",
       "    <tr>\n",
       "      <th>0</th>\n",
       "      <td>1.0</td>\n",
       "      <td>0.0010</td>\n",
       "      <td>0.589875</td>\n",
       "      <td>0.4540</td>\n",
       "    </tr>\n",
       "    <tr>\n",
       "      <th>1</th>\n",
       "      <td>1.0</td>\n",
       "      <td>0.0025</td>\n",
       "      <td>0.797000</td>\n",
       "      <td>0.4630</td>\n",
       "    </tr>\n",
       "    <tr>\n",
       "      <th>2</th>\n",
       "      <td>1.0</td>\n",
       "      <td>0.0050</td>\n",
       "      <td>0.931625</td>\n",
       "      <td>0.4410</td>\n",
       "    </tr>\n",
       "    <tr>\n",
       "      <th>3</th>\n",
       "      <td>1.0</td>\n",
       "      <td>0.0075</td>\n",
       "      <td>0.972875</td>\n",
       "      <td>0.4050</td>\n",
       "    </tr>\n",
       "    <tr>\n",
       "      <th>4</th>\n",
       "      <td>2.5</td>\n",
       "      <td>0.0010</td>\n",
       "      <td>0.728750</td>\n",
       "      <td>0.4655</td>\n",
       "    </tr>\n",
       "    <tr>\n",
       "      <th>5</th>\n",
       "      <td>2.5</td>\n",
       "      <td>0.0025</td>\n",
       "      <td>0.936125</td>\n",
       "      <td>0.4705</td>\n",
       "    </tr>\n",
       "    <tr>\n",
       "      <th>6</th>\n",
       "      <td>2.5</td>\n",
       "      <td>0.0050</td>\n",
       "      <td>0.992625</td>\n",
       "      <td>0.4515</td>\n",
       "    </tr>\n",
       "    <tr>\n",
       "      <th>7</th>\n",
       "      <td>2.5</td>\n",
       "      <td>0.0075</td>\n",
       "      <td>0.998625</td>\n",
       "      <td>0.4135</td>\n",
       "    </tr>\n",
       "    <tr>\n",
       "      <th>8</th>\n",
       "      <td>5.0</td>\n",
       "      <td>0.0010</td>\n",
       "      <td>0.832375</td>\n",
       "      <td>0.4705</td>\n",
       "    </tr>\n",
       "    <tr>\n",
       "      <th>9</th>\n",
       "      <td>5.0</td>\n",
       "      <td>0.0025</td>\n",
       "      <td>0.979750</td>\n",
       "      <td>0.4640</td>\n",
       "    </tr>\n",
       "    <tr>\n",
       "      <th>10</th>\n",
       "      <td>5.0</td>\n",
       "      <td>0.0050</td>\n",
       "      <td>0.998750</td>\n",
       "      <td>0.4450</td>\n",
       "    </tr>\n",
       "    <tr>\n",
       "      <th>11</th>\n",
       "      <td>5.0</td>\n",
       "      <td>0.0075</td>\n",
       "      <td>1.000000</td>\n",
       "      <td>0.4130</td>\n",
       "    </tr>\n",
       "  </tbody>\n",
       "</table>\n",
       "</div>"
      ],
      "text/plain": [
       "      C   gamma  acc_train  acc_val\n",
       "0   1.0  0.0010   0.589875   0.4540\n",
       "1   1.0  0.0025   0.797000   0.4630\n",
       "2   1.0  0.0050   0.931625   0.4410\n",
       "3   1.0  0.0075   0.972875   0.4050\n",
       "4   2.5  0.0010   0.728750   0.4655\n",
       "5   2.5  0.0025   0.936125   0.4705\n",
       "6   2.5  0.0050   0.992625   0.4515\n",
       "7   2.5  0.0075   0.998625   0.4135\n",
       "8   5.0  0.0010   0.832375   0.4705\n",
       "9   5.0  0.0025   0.979750   0.4640\n",
       "10  5.0  0.0050   0.998750   0.4450\n",
       "11  5.0  0.0075   1.000000   0.4130"
      ]
     },
     "execution_count": 36,
     "metadata": {},
     "output_type": "execute_result"
    }
   ],
   "source": [
    "c_rbf= [1, 2.5, 5]\n",
    "gamma= [0.001, 0.0025, 0.005, 0.0075]\n",
    "acc_train_rbf = []\n",
    "acc_test_rbf = []\n",
    "\n",
    "results = []\n",
    "\n",
    "s_time_t = time.time()\n",
    "for c in c_rbf:\n",
    "    for g in gamma:\n",
    "        s_time = time.time()\n",
    "        acc_train, acc_val = hyperpam_tuning(X_mnt, y_train_m, c, g)\n",
    "        f_time = time.time()\n",
    "        d=f_time - s_time\n",
    "        print(f'Durration for C: {c} and gamma: {g} is {d}sec')\n",
    "\n",
    "        results.append({'C': c, 'gamma': g, 'acc_train': acc_train, 'acc_val': acc_val})\n",
    "        \n",
    "f_time_t = time.time()\n",
    "dur = f_time_t - s_time_t\n",
    "print(f'Durration: {dur:.2f}')\n",
    "\n",
    "df = pd.DataFrame(results)\n",
    "df"
   ]
  },
  {
   "cell_type": "code",
   "execution_count": 37,
   "metadata": {},
   "outputs": [
    {
     "data": {
      "text/plain": [
       "5"
      ]
     },
     "execution_count": 37,
     "metadata": {},
     "output_type": "execute_result"
    }
   ],
   "source": [
    "idmax = df['acc_val'].idxmax()\n",
    "idmax"
   ]
  },
  {
   "cell_type": "code",
   "execution_count": 38,
   "metadata": {},
   "outputs": [
    {
     "name": "stdout",
     "output_type": "stream",
     "text": [
      "Fitting time is: 5.0788304805755615\n",
      "Train accuracy: 0.929800\n",
      "Training time: 6.472093105316162\n",
      "Test accuracy: 0.479800\n",
      "Testing time: 6.473865747451782\n"
     ]
    }
   ],
   "source": [
    "from sklearn.svm import SVC\n",
    "\n",
    "best_model = SVC(kernel='rbf',C=2.5, gamma=0.0025)\n",
    "s_time = time.time()\n",
    "best_model.fit(X_mnt, y_train_m)\n",
    "f_time = time.time()\n",
    "print(f'Fitting time is: {f_time - s_time}')\n",
    "s_t = time.time()\n",
    "y_pred_train = best_model.predict(X_mnt)\n",
    "acc_train = np.mean(y_pred_train == y_train_m)\n",
    "f_t = time.time()\n",
    "print('Train accuracy: {0:f}'.format(acc_train))\n",
    "print(f'Training time: {f_t - s_t}')\n",
    "s_t = time.time()\n",
    "y_pred_test = best_model.predict(test_dnt)\n",
    "acc_test = np.mean(y_pred_test == y_test)\n",
    "f_t = time.time()\n",
    "print('Test accuracy: {0:f}'.format(acc_test))\n",
    "print(f'Testing time: {f_t - s_t}')"
   ]
  },
  {
   "cell_type": "markdown",
   "metadata": {},
   "source": [
    "#### For whole dataset"
   ]
  },
  {
   "cell_type": "code",
   "execution_count": 39,
   "metadata": {},
   "outputs": [
    {
     "name": "stdout",
     "output_type": "stream",
     "text": [
      "(50000, 3072) (50000,)\n",
      "(10000, 3072) (10000,)\n"
     ]
    }
   ],
   "source": [
    "x_train = x_train.reshape(x_train.shape[0], -1)\n",
    "y_train = y_train.reshape(y_train.shape[0])\n",
    "x_test = x_test.reshape(x_test.shape[0], -1)\n",
    "y_test = y_test.reshape(y_test.shape[0])\n",
    "\n",
    "print(x_train.shape, y_train.shape)\n",
    "print(x_test.shape, y_test.shape)"
   ]
  },
  {
   "cell_type": "code",
   "execution_count": 40,
   "metadata": {},
   "outputs": [
    {
     "name": "stdout",
     "output_type": "stream",
     "text": [
      "1.0\n",
      "-0.0468301588031046\n",
      "(50000, 99)\n",
      "(50000,)\n",
      "(10000, 99)\n",
      "(10000,)\n",
      "(10000, 99)\n",
      "(10000, 96)\n"
     ]
    }
   ],
   "source": [
    "from sklearn.decomposition import PCA\n",
    "\n",
    "x_train_n = normal(x_train)\n",
    "x_test_n = normal(x_test)\n",
    "\n",
    "max_value = np.max(x_test_n)\n",
    "mean_value = np.mean(x_test_n)\n",
    "print(max_value)\n",
    "print(mean_value)\n",
    "\n",
    "pca = PCA(n_components=0.9)\n",
    "pca.fit(x_train_n)\n",
    "\n",
    "#X_mnt = X_mini_normalized_PCAtransformed, test_dnt = test_data_normalized_PCAtransformed\n",
    "X_train = pca.transform(x_train_n)\n",
    "X_test = pca.transform(x_test_n)\n",
    "X_mnt = pca.transform(x_train_nm)\n",
    "\n",
    "print(X_train.shape)\n",
    "print(y_train.shape)\n",
    "print(X_test.shape)\n",
    "print(y_test.shape)\n",
    "print(X_mnt.shape)\n",
    "print(test_dnt.shape)"
   ]
  },
  {
   "cell_type": "code",
   "execution_count": 41,
   "metadata": {},
   "outputs": [],
   "source": [
    "from sklearn.svm import SVC\n",
    "\n",
    "def svc(c,Kernel,g=None, mini_data=False):\n",
    "    if mini_data == True:\n",
    "        x_tr = X_mnt\n",
    "        y_tr = y_train_m\n",
    "    else:\n",
    "        x_tr = X_train \n",
    "        y_tr = y_train\n",
    "\n",
    "    if Kernel == 'linear':\n",
    "        svc = SVC(kernel= Kernel, C = c)\n",
    "        svc.fit(x_tr, y_tr)\n",
    "\n",
    "        #pred values and accuracy on training\n",
    "        y_pred_train = svc.predict(x_tr)\n",
    "        acc_train = np.mean(y_pred_train == y_tr)\n",
    "        acc_train_linear.append(acc_train)\n",
    "        print('Train accuracy: {0:f}'.format(acc_train))\n",
    "\n",
    "        #pred values and accuracy on test\n",
    "        y_pred_test = svc.predict(X_test)\n",
    "        acc_test = np.mean(y_pred_test == y_test)\n",
    "        acc_test_linear.append(acc_test)\n",
    "        print('Test accuracy: {0:f}'.format(acc_test))\n",
    "        print(f'This accuracy scores are for C: {c}')\n",
    "\n",
    "    elif Kernel == 'poly':\n",
    "        svc_poly = SVC(kernel= Kernel, C = c)\n",
    "        svc_poly.fit(x_tr, y_tr)\n",
    "\n",
    "        #pred values and accuracy on training\n",
    "        y_pred_train = svc_poly.predict(x_tr)\n",
    "        acc_train = np.mean(y_pred_train == y_tr)\n",
    "        acc_train_poly.append(acc_train)\n",
    "        print('Train accuracy: {0:f}'.format(acc_train))\n",
    "\n",
    "        #pred values and accuracy on test\n",
    "        y_pred_test = svc_poly.predict(X_test)\n",
    "        acc_test = np.mean(y_pred_test == y_test)\n",
    "        acc_test_poly.append(acc_test)\n",
    "        print('Test accuracy: {0:f}'.format(acc_test))\n",
    "        print(f'This accuracy scores are for C: {c}')\n",
    "        \n",
    "    elif Kernel == 'rbf':\n",
    "        svc_rbf = SVC(kernel=Kernel, C=c, gamma=g)\n",
    "        svc_rbf.fit(x_tr, y_tr)\n",
    "\n",
    "        #pred values and accuracy on train\n",
    "        y_pred_train = svc_rbf.predict(x_tr)\n",
    "        acc_train = np.mean(y_pred_train == y_tr)\n",
    "        acc_train_rbf.append(acc_train)\n",
    "        print('Train accuracy: {0:f}'.format(acc_train))\n",
    "\n",
    "        #pred values and accuracy on test\n",
    "        y_pred_test = svc_rbf.predict(X_test)\n",
    "        acc_test = np.mean(y_pred_test == y_test)\n",
    "        acc_test_rbf.append(acc_test)\n",
    "        print('Test accuracy: {0:f}'.format(acc_test))\n",
    "        print(f'The C is: {c} and the gamma is: {g}')\n",
    "\n",
    "    else:\n",
    "        print(f'The kernel: {Kernel}, doesnt match any SVC')\n",
    "\n",
    "    return acc_train, acc_test"
   ]
  },
  {
   "cell_type": "code",
   "execution_count": 41,
   "metadata": {},
   "outputs": [
    {
     "name": "stdout",
     "output_type": "stream",
     "text": [
      "Train accuracy: 0.412775\n",
      "Validation accuracy: 0.416000\n",
      "The C is: 0.5 and the gamma is: 0.0001\n",
      "Durration for C: 0.5 and gamma: 0.0001 is 230.29330730438232sec\n",
      "Train accuracy: 0.545650\n",
      "Validation accuracy: 0.499300\n",
      "The C is: 0.5 and the gamma is: 0.001\n",
      "Durration for C: 0.5 and gamma: 0.001 is 202.7106897830963sec\n",
      "Train accuracy: 0.798200\n",
      "Validation accuracy: 0.368700\n",
      "The C is: 0.5 and the gamma is: 0.01\n",
      "Durration for C: 0.5 and gamma: 0.01 is 266.9207081794739sec\n",
      "Train accuracy: 0.433725\n",
      "Validation accuracy: 0.431300\n",
      "The C is: 1 and the gamma is: 0.0001\n",
      "Durration for C: 1 and gamma: 0.0001 is 221.60554337501526sec\n",
      "Train accuracy: 0.598250\n",
      "Validation accuracy: 0.520100\n",
      "The C is: 1 and the gamma is: 0.001\n",
      "Durration for C: 1 and gamma: 0.001 is 200.87916111946106sec\n",
      "Train accuracy: 0.973650\n",
      "Validation accuracy: 0.460400\n",
      "The C is: 1 and the gamma is: 0.01\n",
      "Durration for C: 1 and gamma: 0.01 is 300.4807331562042sec\n",
      "Train accuracy: 0.459050\n",
      "Validation accuracy: 0.451400\n",
      "The C is: 2.5 and the gamma is: 0.0001\n",
      "Durration for C: 2.5 and gamma: 0.0001 is 212.5792112350464sec\n",
      "Train accuracy: 0.685400\n",
      "Validation accuracy: 0.540000\n",
      "The C is: 2.5 and the gamma is: 0.001\n",
      "Durration for C: 2.5 and gamma: 0.001 is 198.16836547851562sec\n",
      "Train accuracy: 0.998200\n",
      "Validation accuracy: 0.477100\n",
      "The C is: 2.5 and the gamma is: 0.01\n",
      "Durration for C: 2.5 and gamma: 0.01 is 328.6407561302185sec\n",
      "Train accuracy: 0.477300\n",
      "Validation accuracy: 0.465800\n",
      "The C is: 5 and the gamma is: 0.0001\n",
      "Durration for C: 5 and gamma: 0.0001 is 205.1344611644745sec\n",
      "Train accuracy: 0.767825\n",
      "Validation accuracy: 0.551700\n",
      "The C is: 5 and the gamma is: 0.001\n",
      "Durration for C: 5 and gamma: 0.001 is 197.11608362197876sec\n",
      "Train accuracy: 0.999950\n",
      "Validation accuracy: 0.476500\n",
      "The C is: 5 and the gamma is: 0.01\n",
      "Durration for C: 5 and gamma: 0.01 is 326.48747539520264sec\n",
      "Durration: 2891.02\n"
     ]
    },
    {
     "data": {
      "text/html": [
       "<div>\n",
       "<style scoped>\n",
       "    .dataframe tbody tr th:only-of-type {\n",
       "        vertical-align: middle;\n",
       "    }\n",
       "\n",
       "    .dataframe tbody tr th {\n",
       "        vertical-align: top;\n",
       "    }\n",
       "\n",
       "    .dataframe thead th {\n",
       "        text-align: right;\n",
       "    }\n",
       "</style>\n",
       "<table border=\"1\" class=\"dataframe\">\n",
       "  <thead>\n",
       "    <tr style=\"text-align: right;\">\n",
       "      <th></th>\n",
       "      <th>C</th>\n",
       "      <th>gamma</th>\n",
       "      <th>acc_train</th>\n",
       "      <th>acc_val</th>\n",
       "    </tr>\n",
       "  </thead>\n",
       "  <tbody>\n",
       "    <tr>\n",
       "      <th>0</th>\n",
       "      <td>0.5</td>\n",
       "      <td>0.0001</td>\n",
       "      <td>0.412775</td>\n",
       "      <td>0.4160</td>\n",
       "    </tr>\n",
       "    <tr>\n",
       "      <th>1</th>\n",
       "      <td>0.5</td>\n",
       "      <td>0.0010</td>\n",
       "      <td>0.545650</td>\n",
       "      <td>0.4993</td>\n",
       "    </tr>\n",
       "    <tr>\n",
       "      <th>2</th>\n",
       "      <td>0.5</td>\n",
       "      <td>0.0100</td>\n",
       "      <td>0.798200</td>\n",
       "      <td>0.3687</td>\n",
       "    </tr>\n",
       "    <tr>\n",
       "      <th>3</th>\n",
       "      <td>1.0</td>\n",
       "      <td>0.0001</td>\n",
       "      <td>0.433725</td>\n",
       "      <td>0.4313</td>\n",
       "    </tr>\n",
       "    <tr>\n",
       "      <th>4</th>\n",
       "      <td>1.0</td>\n",
       "      <td>0.0010</td>\n",
       "      <td>0.598250</td>\n",
       "      <td>0.5201</td>\n",
       "    </tr>\n",
       "    <tr>\n",
       "      <th>5</th>\n",
       "      <td>1.0</td>\n",
       "      <td>0.0100</td>\n",
       "      <td>0.973650</td>\n",
       "      <td>0.4604</td>\n",
       "    </tr>\n",
       "    <tr>\n",
       "      <th>6</th>\n",
       "      <td>2.5</td>\n",
       "      <td>0.0001</td>\n",
       "      <td>0.459050</td>\n",
       "      <td>0.4514</td>\n",
       "    </tr>\n",
       "    <tr>\n",
       "      <th>7</th>\n",
       "      <td>2.5</td>\n",
       "      <td>0.0010</td>\n",
       "      <td>0.685400</td>\n",
       "      <td>0.5400</td>\n",
       "    </tr>\n",
       "    <tr>\n",
       "      <th>8</th>\n",
       "      <td>2.5</td>\n",
       "      <td>0.0100</td>\n",
       "      <td>0.998200</td>\n",
       "      <td>0.4771</td>\n",
       "    </tr>\n",
       "    <tr>\n",
       "      <th>9</th>\n",
       "      <td>5.0</td>\n",
       "      <td>0.0001</td>\n",
       "      <td>0.477300</td>\n",
       "      <td>0.4658</td>\n",
       "    </tr>\n",
       "    <tr>\n",
       "      <th>10</th>\n",
       "      <td>5.0</td>\n",
       "      <td>0.0010</td>\n",
       "      <td>0.767825</td>\n",
       "      <td>0.5517</td>\n",
       "    </tr>\n",
       "    <tr>\n",
       "      <th>11</th>\n",
       "      <td>5.0</td>\n",
       "      <td>0.0100</td>\n",
       "      <td>0.999950</td>\n",
       "      <td>0.4765</td>\n",
       "    </tr>\n",
       "  </tbody>\n",
       "</table>\n",
       "</div>"
      ],
      "text/plain": [
       "      C   gamma  acc_train  acc_val\n",
       "0   0.5  0.0001   0.412775   0.4160\n",
       "1   0.5  0.0010   0.545650   0.4993\n",
       "2   0.5  0.0100   0.798200   0.3687\n",
       "3   1.0  0.0001   0.433725   0.4313\n",
       "4   1.0  0.0010   0.598250   0.5201\n",
       "5   1.0  0.0100   0.973650   0.4604\n",
       "6   2.5  0.0001   0.459050   0.4514\n",
       "7   2.5  0.0010   0.685400   0.5400\n",
       "8   2.5  0.0100   0.998200   0.4771\n",
       "9   5.0  0.0001   0.477300   0.4658\n",
       "10  5.0  0.0010   0.767825   0.5517\n",
       "11  5.0  0.0100   0.999950   0.4765"
      ]
     },
     "execution_count": 41,
     "metadata": {},
     "output_type": "execute_result"
    }
   ],
   "source": [
    "#Efarmozw thn anazithsh se pedio poy exv kales times\n",
    "\n",
    "c_rbf= [0.5, 1, 2.5, 5]\n",
    "gamma= [0.0001, 0.001, 0.01]\n",
    "acc_train_rbf = []\n",
    "acc_test_rbf = []\n",
    "\n",
    "results = []\n",
    "\n",
    "s_time_t = time.time()\n",
    "for c in c_rbf:\n",
    "    for g in gamma:\n",
    "        s_time = time.time()\n",
    "        acc_train, acc_val = hyperpam_tuning(X_train, y_train, c, g)\n",
    "        f_time = time.time()\n",
    "        d=f_time - s_time\n",
    "        print(f'Durration for C: {c} and gamma: {g} is {d}sec')\n",
    "\n",
    "        results.append({'C': c, 'gamma': g, 'acc_train': acc_train, 'acc_val': acc_val})\n",
    "        \n",
    "f_time_t = time.time()\n",
    "dur = f_time_t - s_time_t\n",
    "print(f'Durration: {dur:.2f}')\n",
    "\n",
    "df = pd.DataFrame(results)\n",
    "df"
   ]
  },
  {
   "cell_type": "code",
   "execution_count": 42,
   "metadata": {},
   "outputs": [
    {
     "data": {
      "text/plain": [
       "10"
      ]
     },
     "execution_count": 42,
     "metadata": {},
     "output_type": "execute_result"
    }
   ],
   "source": [
    "idmax = df['acc_val'].idxmax()\n",
    "idmax"
   ]
  },
  {
   "cell_type": "code",
   "execution_count": 43,
   "metadata": {},
   "outputs": [
    {
     "name": "stdout",
     "output_type": "stream",
     "text": [
      "Train accuracy: 0.685400\n",
      "Validation accuracy: 0.540000\n",
      "The C is: 2.5 and the gamma is: 0.001\n",
      "Durration for C: 2.5 and gamma: 0.001 is 193.7186725139618sec\n",
      "Train accuracy: 0.894275\n",
      "Validation accuracy: 0.556400\n",
      "The C is: 2.5 and the gamma is: 0.0025\n",
      "Durration for C: 2.5 and gamma: 0.0025 is 216.8417203426361sec\n",
      "Train accuracy: 0.978850\n",
      "Validation accuracy: 0.548200\n",
      "The C is: 2.5 and the gamma is: 0.005\n",
      "Durration for C: 2.5 and gamma: 0.005 is 271.8093407154083sec\n",
      "Train accuracy: 0.767825\n",
      "Validation accuracy: 0.551700\n",
      "The C is: 5 and the gamma is: 0.001\n",
      "Durration for C: 5 and gamma: 0.001 is 195.71112656593323sec\n",
      "Train accuracy: 0.953875\n",
      "Validation accuracy: 0.555400\n",
      "The C is: 5 and the gamma is: 0.0025\n",
      "Durration for C: 5 and gamma: 0.0025 is 231.7367057800293sec\n",
      "Train accuracy: 0.995175\n",
      "Validation accuracy: 0.546600\n",
      "The C is: 5 and the gamma is: 0.005\n",
      "Durration for C: 5 and gamma: 0.005 is 275.9376029968262sec\n",
      "Durration: 1385.76\n"
     ]
    },
    {
     "data": {
      "text/html": [
       "<div>\n",
       "<style scoped>\n",
       "    .dataframe tbody tr th:only-of-type {\n",
       "        vertical-align: middle;\n",
       "    }\n",
       "\n",
       "    .dataframe tbody tr th {\n",
       "        vertical-align: top;\n",
       "    }\n",
       "\n",
       "    .dataframe thead th {\n",
       "        text-align: right;\n",
       "    }\n",
       "</style>\n",
       "<table border=\"1\" class=\"dataframe\">\n",
       "  <thead>\n",
       "    <tr style=\"text-align: right;\">\n",
       "      <th></th>\n",
       "      <th>C</th>\n",
       "      <th>gamma</th>\n",
       "      <th>acc_train</th>\n",
       "      <th>acc_val</th>\n",
       "    </tr>\n",
       "  </thead>\n",
       "  <tbody>\n",
       "    <tr>\n",
       "      <th>0</th>\n",
       "      <td>2.5</td>\n",
       "      <td>0.0010</td>\n",
       "      <td>0.685400</td>\n",
       "      <td>0.5400</td>\n",
       "    </tr>\n",
       "    <tr>\n",
       "      <th>1</th>\n",
       "      <td>2.5</td>\n",
       "      <td>0.0025</td>\n",
       "      <td>0.894275</td>\n",
       "      <td>0.5564</td>\n",
       "    </tr>\n",
       "    <tr>\n",
       "      <th>2</th>\n",
       "      <td>2.5</td>\n",
       "      <td>0.0050</td>\n",
       "      <td>0.978850</td>\n",
       "      <td>0.5482</td>\n",
       "    </tr>\n",
       "    <tr>\n",
       "      <th>3</th>\n",
       "      <td>5.0</td>\n",
       "      <td>0.0010</td>\n",
       "      <td>0.767825</td>\n",
       "      <td>0.5517</td>\n",
       "    </tr>\n",
       "    <tr>\n",
       "      <th>4</th>\n",
       "      <td>5.0</td>\n",
       "      <td>0.0025</td>\n",
       "      <td>0.953875</td>\n",
       "      <td>0.5554</td>\n",
       "    </tr>\n",
       "    <tr>\n",
       "      <th>5</th>\n",
       "      <td>5.0</td>\n",
       "      <td>0.0050</td>\n",
       "      <td>0.995175</td>\n",
       "      <td>0.5466</td>\n",
       "    </tr>\n",
       "  </tbody>\n",
       "</table>\n",
       "</div>"
      ],
      "text/plain": [
       "     C   gamma  acc_train  acc_val\n",
       "0  2.5  0.0010   0.685400   0.5400\n",
       "1  2.5  0.0025   0.894275   0.5564\n",
       "2  2.5  0.0050   0.978850   0.5482\n",
       "3  5.0  0.0010   0.767825   0.5517\n",
       "4  5.0  0.0025   0.953875   0.5554\n",
       "5  5.0  0.0050   0.995175   0.5466"
      ]
     },
     "execution_count": 43,
     "metadata": {},
     "output_type": "execute_result"
    }
   ],
   "source": [
    "c_rbf= [2.5, 5]\n",
    "gamma= [0.001, 0.0025, 0.005]\n",
    "acc_train_rbf = []\n",
    "acc_test_rbf = []\n",
    "\n",
    "results = []\n",
    "\n",
    "s_time_t = time.time()\n",
    "for c in c_rbf:\n",
    "    for g in gamma:\n",
    "        s_time = time.time()\n",
    "        acc_train, acc_val = hyperpam_tuning(X_train, y_train, c, g)\n",
    "        f_time = time.time()\n",
    "        d=f_time - s_time\n",
    "        print(f'Durration for C: {c} and gamma: {g} is {d}sec')\n",
    "\n",
    "        results.append({'C': c, 'gamma': g, 'acc_train': acc_train, 'acc_val': acc_val})\n",
    "        \n",
    "f_time_t = time.time()\n",
    "dur = f_time_t - s_time_t\n",
    "print(f'Durration: {dur:.2f}')\n",
    "\n",
    "df = pd.DataFrame(results)\n",
    "df"
   ]
  },
  {
   "cell_type": "code",
   "execution_count": 44,
   "metadata": {},
   "outputs": [
    {
     "data": {
      "text/plain": [
       "1"
      ]
     },
     "execution_count": 44,
     "metadata": {},
     "output_type": "execute_result"
    }
   ],
   "source": [
    "idmax = df['acc_val'].idxmax()\n",
    "idmax"
   ]
  },
  {
   "cell_type": "markdown",
   "metadata": {},
   "source": [
    "Με τα παραπάνω αποτελέσμτα φαίνεταιι ότι το καλύτερο μοντέλο για όλο το dataset είναι για το ίδιο C και g με το μικρό dataset. \n",
    "\n",
    "Θα γίνει μια μικρή αναζήτηση για τις καλύτερες παραμέτρους στο μικρό dataset και να δούμε αν αυξάνουν την απόδοσο στο ολόκληρο."
   ]
  },
  {
   "cell_type": "markdown",
   "metadata": {},
   "source": [
    "Το καλήτερο μοντέλο για classification παραμένει αυτό με C=2.5 και gamma = 0.0025"
   ]
  },
  {
   "cell_type": "code",
   "execution_count": 52,
   "metadata": {},
   "outputs": [
    {
     "name": "stdout",
     "output_type": "stream",
     "text": [
      "Fitting time is: 151.23955512046814\n",
      "Train accuracy: 0.890540\n",
      "Training time: 197.3227756023407\n",
      "Test accuracy: 0.564800\n",
      "Testing time: 38.54053807258606\n"
     ]
    }
   ],
   "source": [
    "from sklearn.svm import SVC\n",
    "\n",
    "best_model = SVC(kernel='rbf',C=2.5, gamma=0.0025)\n",
    "s_time = time.time()\n",
    "best_model.fit(X_train, y_train)\n",
    "f_time = time.time()\n",
    "print(f'Fitting time is: {f_time - s_time}')\n",
    "s_t = time.time()\n",
    "y_pred_train = best_model.predict(X_train)\n",
    "acc_train = np.mean(y_pred_train == y_train)\n",
    "f_t = time.time()\n",
    "print('Train accuracy: {0:f}'.format(acc_train))\n",
    "print(f'Training time: {f_t - s_t}')\n",
    "s_t = time.time()\n",
    "y_pred_test = best_model.predict(X_test)\n",
    "acc_test = np.mean(y_pred_test == y_test)\n",
    "f_t = time.time()\n",
    "print('Test accuracy: {0:f}'.format(acc_test))\n",
    "print(f'Testing time: {f_t - s_t}')"
   ]
  },
  {
   "cell_type": "markdown",
   "metadata": {},
   "source": [
    "Σύγκριση με τον kNN."
   ]
  },
  {
   "cell_type": "code",
   "execution_count": 42,
   "metadata": {},
   "outputs": [
    {
     "name": "stdout",
     "output_type": "stream",
     "text": [
      "Accuracy for k_neighbors=1 is, acc = 38.58\n",
      "Accuracy for k_neighbors=3 is, acc = 36.59\n",
      "Accuracy for k_neighbors=5 is, acc = 38.08\n",
      "Accuracy for k_neighbors=7 is, acc = 38.13\n",
      "Accuracy for k_neighbors=9 is, acc = 38.45\n",
      "Accuracy for k_neighbors=11 is, acc = 38.46\n",
      "Accuracy for k_neighbors=13 is, acc = 38.52\n",
      "Accuracy for k_neighbors=15 is, acc = 38.59\n",
      "Accuracy for k_neighbors=17 is, acc = 38.47\n",
      "Accuracy for k_neighbors=19 is, acc = 38.27\n",
      "Accuracy for k_neighbors=21 is, acc = 38.15\n",
      "Accuracy for k_neighbors=23 is, acc = 38.13\n",
      "Accuracy for k_neighbors=25 is, acc = 37.73\n",
      "Accuracy for k_neighbors=27 is, acc = 37.59\n",
      "Accuracy for k_neighbors=29 is, acc = 37.6\n"
     ]
    }
   ],
   "source": [
    "from sklearn.neighbors import KNeighborsClassifier as KNN\n",
    "\n",
    "acc_KNN = []\n",
    "\n",
    "for k in range(1,30,2):\n",
    "    knn = KNN(n_neighbors=k, n_jobs=-1)\n",
    "\n",
    "    s_t = time.time()\n",
    "    knn.fit(X_train, y_train)\n",
    "    f_t = time.time()\n",
    "    # print(f'KNN with n_neighbors={k} training time: {f_t - s_t} sec')\n",
    "\n",
    "    s_t = time.time()\n",
    "    score = knn.score(X_test, y_test)\n",
    "    f_t = time.time()\n",
    "    # print(f'KNN with n_neighbors={k} test time: {f_t - s_t} sec')\n",
    "\n",
    "    print(f'Accuracy for k_neighbors={k} is, acc = {round(score*100,2)}')\n",
    "    acc_KNN.append(score)"
   ]
  },
  {
   "cell_type": "code",
   "execution_count": 43,
   "metadata": {},
   "outputs": [
    {
     "name": "stdout",
     "output_type": "stream",
     "text": [
      "Train accuracy is: 45.19%\n"
     ]
    }
   ],
   "source": [
    "knn = KNN(n_neighbors=15, n_jobs=-1).fit(X_train, y_train)\n",
    "train_score = knn.score(X_train, y_train)\n",
    "print(f'Train accuracy is: {train_score*100:.2f}%')"
   ]
  },
  {
   "cell_type": "code",
   "execution_count": 19,
   "metadata": {},
   "outputs": [
    {
     "name": "stdout",
     "output_type": "stream",
     "text": [
      "The best accuracy is 38.59% with n_neighbors = 15\n"
     ]
    }
   ],
   "source": [
    "best_acc = max(acc_KNN)\n",
    "best_k = acc_KNN.index(best_acc)\n",
    "best_k_value = range(1,30,2)[best_k]\n",
    "\n",
    "print(f'The best accuracy is {best_acc*100:.2f}% with n_neighbors = {best_k_value}')"
   ]
  },
  {
   "cell_type": "markdown",
   "metadata": {},
   "source": [
    "Σύγκριση με Nearest Centroid"
   ]
  },
  {
   "cell_type": "code",
   "execution_count": 44,
   "metadata": {},
   "outputs": [
    {
     "name": "stdout",
     "output_type": "stream",
     "text": [
      "Accuracy for Nearset Centroid is, acc = 27.66\n"
     ]
    }
   ],
   "source": [
    "from sklearn.neighbors import NearestCentroid\n",
    "import time \n",
    "\n",
    "clf = NearestCentroid()\n",
    "s_t = time.time()\n",
    "clf.fit(X_train, y_train)\n",
    "f_t = time.time()\n",
    "# print(f'Nearset Centroid training time: {f_t - s_t} sec')\n",
    "\n",
    "s_t = time.time()\n",
    "score = clf.score(X_test, y_test)\n",
    "f_t = time.time()\n",
    "# print(f'Nearset Centroid test time: {f_t - s_t} sec')\n",
    "\n",
    "print(f'Accuracy for Nearset Centroid is, acc = {round(score*100,2)}')"
   ]
  },
  {
   "cell_type": "code",
   "execution_count": 45,
   "metadata": {},
   "outputs": [
    {
     "name": "stdout",
     "output_type": "stream",
     "text": [
      "Train accuracy is: 26.93%\n"
     ]
    }
   ],
   "source": [
    "train_score = clf.score(X_train, y_train)\n",
    "print(f'Train accuracy is: {train_score*100:.2f}%')"
   ]
  },
  {
   "cell_type": "code",
   "execution_count": 47,
   "metadata": {},
   "outputs": [
    {
     "name": "stdout",
     "output_type": "stream",
     "text": [
      "Accuracy for Nearset Centroid is, acc = 27.66\n"
     ]
    }
   ],
   "source": [
    "score_tr = clf.score(X_train, y_train)\n",
    "print(f'Accuracy for Nearset Centroid is, acc = {round(score*100,2)}')"
   ]
  },
  {
   "cell_type": "markdown",
   "metadata": {},
   "source": [
    "#### Gray scale the images "
   ]
  },
  {
   "cell_type": "code",
   "execution_count": null,
   "metadata": {},
   "outputs": [],
   "source": [
    "from tensorflow.keras.datasets import cifar10\n",
    "\n",
    "(x_train, y_train), (x_test, y_test) = cifar10.load_data()"
   ]
  },
  {
   "cell_type": "code",
   "execution_count": null,
   "metadata": {},
   "outputs": [],
   "source": [
    "from PIL import Image\n",
    "import numpy as np\n",
    "\n",
    "def rgb_to_grayscale(img):\n",
    "    pil_image = Image.fromarray(img)  \n",
    "    gray_image = pil_image.convert('L')  \n",
    "    return np.array(gray_image)"
   ]
  },
  {
   "cell_type": "code",
   "execution_count": 55,
   "metadata": {},
   "outputs": [
    {
     "name": "stdout",
     "output_type": "stream",
     "text": [
      "(50000, 32, 32) (10000, 32, 32)\n"
     ]
    }
   ],
   "source": [
    "x_train_gray = np.array([rgb_to_grayscale(img) for img in x_train])\n",
    "x_test_gray = np.array([rgb_to_grayscale(img) for img in x_test])\n",
    "print(x_train_gray.shape, x_test_gray.shape)"
   ]
  },
  {
   "cell_type": "code",
   "execution_count": 25,
   "metadata": {},
   "outputs": [
    {
     "name": "stdout",
     "output_type": "stream",
     "text": [
      "(5000, 32, 32) (5000, 1)\n"
     ]
    }
   ],
   "source": [
    "x_train_gray = x_train_gray[:5000]\n",
    "y_train = y_train[:5000]\n",
    "print(x_train_gray.shape, y_train.shape)"
   ]
  },
  {
   "cell_type": "code",
   "execution_count": 56,
   "metadata": {},
   "outputs": [
    {
     "name": "stdout",
     "output_type": "stream",
     "text": [
      "(50000, 1024) (50000,)\n",
      "(10000, 1024) (10000,)\n"
     ]
    }
   ],
   "source": [
    "x_train_g = x_train_gray.reshape(x_train_gray.shape[0], -1)\n",
    "y_train = y_train.reshape(y_train.shape[0])\n",
    "x_test_g = x_test_gray.reshape(x_test_gray.shape[0], -1)\n",
    "y_test = y_test.reshape(y_test.shape[0])\n",
    "\n",
    "print(x_train_g.shape, y_train.shape)\n",
    "print(x_test_g.shape, y_test.shape)"
   ]
  },
  {
   "cell_type": "code",
   "execution_count": 41,
   "metadata": {},
   "outputs": [
    {
     "name": "stdout",
     "output_type": "stream",
     "text": [
      "1.0\n",
      "-0.03222031632965684\n",
      "(50000, 77)\n",
      "(50000,)\n",
      "(10000, 77)\n",
      "(10000,)\n"
     ]
    }
   ],
   "source": [
    "from sklearn.decomposition import PCA\n",
    "y_train = y_train.reshape(y_train.shape[0])\n",
    "x_train_ng = normal(x_train_g)\n",
    "x_test_ng = normal(x_test_g)\n",
    "\n",
    "max_value = np.max(x_test_ng)\n",
    "mean_value = np.mean(x_test_ng)\n",
    "print(max_value)\n",
    "print(mean_value)\n",
    "\n",
    "pca = PCA(n_components=0.9)\n",
    "pca.fit(x_train_ng)\n",
    "\n",
    "#X_mnt = X_mini_normalized_PCAtransformed, test_dnt = test_data_normalized_PCAtransformed\n",
    "X_train_g = pca.transform(x_train_ng)\n",
    "X_test_g = pca.transform(x_test_ng)\n",
    "\n",
    "print(X_train_g.shape)\n",
    "print(y_train.shape)\n",
    "print(X_test_g.shape)\n",
    "print(y_test.shape)\n"
   ]
  },
  {
   "cell_type": "code",
   "execution_count": 42,
   "metadata": {},
   "outputs": [],
   "source": [
    "from sklearn.svm import SVC\n",
    "\n",
    "def svc_G(c,g=None):\n",
    "    svc_rbf = SVC(kernel='rbf', C=c, gamma=g)\n",
    "    svc_rbf.fit(X_train_g, y_train)\n",
    "\n",
    "    #pred values and accuracy on train\n",
    "    y_pred_train = svc_rbf.predict(X_train_g)\n",
    "    acc_train = np.mean(y_pred_train == y_train)\n",
    "    acc_train_rbf.append(acc_train)\n",
    "    print('Train accuracy: {0:f}'.format(acc_train))\n",
    "\n",
    "    #pred values and accuracy on test\n",
    "    y_pred_test = svc_rbf.predict(X_test_g)\n",
    "    acc_test = np.mean(y_pred_test == y_test)\n",
    "    acc_test_rbf.append(acc_test)\n",
    "    print('Test accuracy: {0:f}'.format(acc_test))\n",
    "    print(f'The C is: {c} and the gamma is: {g}')\n",
    "\n",
    "    return acc_train, acc_test"
   ]
  },
  {
   "cell_type": "code",
   "execution_count": 34,
   "metadata": {},
   "outputs": [
    {
     "name": "stdout",
     "output_type": "stream",
     "text": [
      "Train accuracy: 0.381600\n",
      "Test accuracy: 0.324400\n",
      "The C is: 2.5 and the gamma is: 0.0005\n",
      "Durration for gamma: 0.0005 is 6.687644958496094sec\n",
      "Train accuracy: 0.435000\n",
      "Test accuracy: 0.342200\n",
      "The C is: 2.5 and the gamma is: 0.001\n",
      "Durration for gamma: 0.001 is 6.664484739303589sec\n",
      "Train accuracy: 0.914800\n",
      "Test accuracy: 0.374200\n",
      "The C is: 2.5 and the gamma is: 0.009\n",
      "Durration for gamma: 0.009 is 7.214831113815308sec\n",
      "Train accuracy: 0.926600\n",
      "Test accuracy: 0.375400\n",
      "The C is: 2.5 and the gamma is: 0.0095\n",
      "Durration for gamma: 0.0095 is 7.264744281768799sec\n",
      "Train accuracy: 0.934000\n",
      "Test accuracy: 0.374600\n",
      "The C is: 2.5 and the gamma is: 0.01\n",
      "Durration for gamma: 0.01 is 7.209015607833862sec\n",
      "Train accuracy: 0.969600\n",
      "Test accuracy: 0.370000\n",
      "The C is: 2.5 and the gamma is: auto\n",
      "Durration for gamma: auto is 7.281862497329712sec\n",
      "Durration: 42.32\n"
     ]
    },
    {
     "data": {
      "image/png": "[encoded data removed]",
      "text/plain": [
       "<Figure size 640x480 with 1 Axes>"
      ]
     },
     "metadata": {},
     "output_type": "display_data"
    }
   ],
   "source": [
    "g_range= [0.0005, 0.001, 0.009, 0.0095, 0.01, 'auto']\n",
    "acc_train_rbf = []\n",
    "acc_test_rbf = []\n",
    "\n",
    "s_time_t = time.time()\n",
    "for g in g_range:\n",
    "    s_time = time.time()\n",
    "    svc_G(c = 2.5, g= g)\n",
    "    f_time = time.time()\n",
    "    d=f_time - s_time\n",
    "    print(f'Durration for gamma: {g} is {d}sec')\n",
    "f_time_t = time.time()\n",
    "dur = f_time_t - s_time_t\n",
    "print(f'Durration: {dur:.2f}')\n",
    "\n",
    "plt.plot(g_range, acc_train_rbf, '.-', color='red')\n",
    "plt.plot(g_range, acc_test_rbf, '.-', color='blue')\n",
    "plt.xlabel('g')\n",
    "plt.ylabel('acc')\n",
    "plt.title('Acc vs g for traing and test data')\n",
    "plt.grid()"
   ]
  },
  {
   "cell_type": "code",
   "execution_count": 12,
   "metadata": {},
   "outputs": [
    {
     "name": "stdout",
     "output_type": "stream",
     "text": [
      "Train accuracy: 0.321000\n",
      "Test accuracy: 0.324000\n",
      "The C is: 1 and the gamma is: 0.0001\n",
      "Durration for C: 1 and gamma: 0.0001 is 418.5398066043854sec\n",
      "Train accuracy: 0.409840\n",
      "Test accuracy: 0.393600\n",
      "The C is: 1 and the gamma is: 0.001\n",
      "Durration for C: 1 and gamma: 0.001 is 373.0708634853363sec\n",
      "Train accuracy: 0.783700\n",
      "Test accuracy: 0.480000\n",
      "The C is: 1 and the gamma is: auto\n",
      "Durration for C: 1 and gamma: auto is 384.50564527511597sec\n",
      "Train accuracy: 0.335940\n",
      "Test accuracy: 0.334500\n",
      "The C is: 2.5 and the gamma is: 0.0001\n",
      "Durration for C: 2.5 and gamma: 0.0001 is 386.7293872833252sec\n",
      "Train accuracy: 0.445600\n",
      "Test accuracy: 0.417300\n",
      "The C is: 2.5 and the gamma is: 0.001\n",
      "Durration for C: 2.5 and gamma: 0.001 is 351.62561559677124sec\n",
      "Train accuracy: 0.920880\n",
      "Test accuracy: 0.490700\n",
      "The C is: 2.5 and the gamma is: auto\n",
      "Durration for C: 2.5 and gamma: auto is 519.0889716148376sec\n",
      "Train accuracy: 0.348220\n",
      "Test accuracy: 0.342800\n",
      "The C is: 5 and the gamma is: 0.0001\n",
      "Durration for C: 5 and gamma: 0.0001 is 370.41348457336426sec\n",
      "Train accuracy: 0.480340\n",
      "Test accuracy: 0.430200\n",
      "The C is: 5 and the gamma is: 0.001\n",
      "Durration for C: 5 and gamma: 0.001 is 337.768128156662sec\n",
      "Train accuracy: 0.966220\n",
      "Test accuracy: 0.489300\n",
      "The C is: 5 and the gamma is: auto\n",
      "Durration for C: 5 and gamma: auto is 553.8119761943817sec\n",
      "Train accuracy: 0.359900\n",
      "Test accuracy: 0.355900\n",
      "The C is: 10 and the gamma is: 0.0001\n",
      "Durration for C: 10 and gamma: 0.0001 is 362.46660709381104sec\n",
      "Train accuracy: 0.519200\n",
      "Test accuracy: 0.444500\n",
      "The C is: 10 and the gamma is: 0.001\n",
      "Durration for C: 10 and gamma: 0.001 is 337.42908930778503sec\n",
      "Train accuracy: 0.986640\n",
      "Test accuracy: 0.484000\n",
      "The C is: 10 and the gamma is: auto\n",
      "Durration for C: 10 and gamma: auto is 566.0589191913605sec\n",
      "Train accuracy: 0.374240\n",
      "Test accuracy: 0.366900\n",
      "The C is: 20 and the gamma is: 0.0001\n",
      "Durration for C: 20 and gamma: 0.0001 is 358.300874710083sec\n",
      "Train accuracy: 0.566540\n",
      "Test accuracy: 0.454800\n",
      "The C is: 20 and the gamma is: 0.001\n",
      "Durration for C: 20 and gamma: 0.001 is 346.2431147098541sec\n",
      "Train accuracy: 0.995420\n",
      "Test accuracy: 0.477500\n",
      "The C is: 20 and the gamma is: auto\n",
      "Durration for C: 20 and gamma: auto is 571.920637845993sec\n",
      "Durration: 6237.98\n"
     ]
    },
    {
     "data": {
      "text/html": [
       "<div>\n",
       "<style scoped>\n",
       "    .dataframe tbody tr th:only-of-type {\n",
       "        vertical-align: middle;\n",
       "    }\n",
       "\n",
       "    .dataframe tbody tr th {\n",
       "        vertical-align: top;\n",
       "    }\n",
       "\n",
       "    .dataframe thead th {\n",
       "        text-align: right;\n",
       "    }\n",
       "</style>\n",
       "<table border=\"1\" class=\"dataframe\">\n",
       "  <thead>\n",
       "    <tr style=\"text-align: right;\">\n",
       "      <th></th>\n",
       "      <th>C</th>\n",
       "      <th>gamma</th>\n",
       "      <th>acc_train</th>\n",
       "      <th>acc_test</th>\n",
       "      <th>duration</th>\n",
       "    </tr>\n",
       "  </thead>\n",
       "  <tbody>\n",
       "    <tr>\n",
       "      <th>0</th>\n",
       "      <td>1.0</td>\n",
       "      <td>0.0001</td>\n",
       "      <td>0.32100</td>\n",
       "      <td>0.3240</td>\n",
       "      <td>418.539807</td>\n",
       "    </tr>\n",
       "    <tr>\n",
       "      <th>1</th>\n",
       "      <td>1.0</td>\n",
       "      <td>0.001</td>\n",
       "      <td>0.40984</td>\n",
       "      <td>0.3936</td>\n",
       "      <td>373.070863</td>\n",
       "    </tr>\n",
       "    <tr>\n",
       "      <th>2</th>\n",
       "      <td>1.0</td>\n",
       "      <td>auto</td>\n",
       "      <td>0.78370</td>\n",
       "      <td>0.4800</td>\n",
       "      <td>384.505645</td>\n",
       "    </tr>\n",
       "    <tr>\n",
       "      <th>3</th>\n",
       "      <td>2.5</td>\n",
       "      <td>0.0001</td>\n",
       "      <td>0.33594</td>\n",
       "      <td>0.3345</td>\n",
       "      <td>386.729387</td>\n",
       "    </tr>\n",
       "    <tr>\n",
       "      <th>4</th>\n",
       "      <td>2.5</td>\n",
       "      <td>0.001</td>\n",
       "      <td>0.44560</td>\n",
       "      <td>0.4173</td>\n",
       "      <td>351.625616</td>\n",
       "    </tr>\n",
       "    <tr>\n",
       "      <th>5</th>\n",
       "      <td>2.5</td>\n",
       "      <td>auto</td>\n",
       "      <td>0.92088</td>\n",
       "      <td>0.4907</td>\n",
       "      <td>519.088972</td>\n",
       "    </tr>\n",
       "    <tr>\n",
       "      <th>6</th>\n",
       "      <td>5.0</td>\n",
       "      <td>0.0001</td>\n",
       "      <td>0.34822</td>\n",
       "      <td>0.3428</td>\n",
       "      <td>370.413485</td>\n",
       "    </tr>\n",
       "    <tr>\n",
       "      <th>7</th>\n",
       "      <td>5.0</td>\n",
       "      <td>0.001</td>\n",
       "      <td>0.48034</td>\n",
       "      <td>0.4302</td>\n",
       "      <td>337.768128</td>\n",
       "    </tr>\n",
       "    <tr>\n",
       "      <th>8</th>\n",
       "      <td>5.0</td>\n",
       "      <td>auto</td>\n",
       "      <td>0.96622</td>\n",
       "      <td>0.4893</td>\n",
       "      <td>553.811976</td>\n",
       "    </tr>\n",
       "    <tr>\n",
       "      <th>9</th>\n",
       "      <td>10.0</td>\n",
       "      <td>0.0001</td>\n",
       "      <td>0.35990</td>\n",
       "      <td>0.3559</td>\n",
       "      <td>362.466607</td>\n",
       "    </tr>\n",
       "    <tr>\n",
       "      <th>10</th>\n",
       "      <td>10.0</td>\n",
       "      <td>0.001</td>\n",
       "      <td>0.51920</td>\n",
       "      <td>0.4445</td>\n",
       "      <td>337.429089</td>\n",
       "    </tr>\n",
       "    <tr>\n",
       "      <th>11</th>\n",
       "      <td>10.0</td>\n",
       "      <td>auto</td>\n",
       "      <td>0.98664</td>\n",
       "      <td>0.4840</td>\n",
       "      <td>566.058919</td>\n",
       "    </tr>\n",
       "    <tr>\n",
       "      <th>12</th>\n",
       "      <td>20.0</td>\n",
       "      <td>0.0001</td>\n",
       "      <td>0.37424</td>\n",
       "      <td>0.3669</td>\n",
       "      <td>358.300875</td>\n",
       "    </tr>\n",
       "    <tr>\n",
       "      <th>13</th>\n",
       "      <td>20.0</td>\n",
       "      <td>0.001</td>\n",
       "      <td>0.56654</td>\n",
       "      <td>0.4548</td>\n",
       "      <td>346.243115</td>\n",
       "    </tr>\n",
       "    <tr>\n",
       "      <th>14</th>\n",
       "      <td>20.0</td>\n",
       "      <td>auto</td>\n",
       "      <td>0.99542</td>\n",
       "      <td>0.4775</td>\n",
       "      <td>571.920638</td>\n",
       "    </tr>\n",
       "  </tbody>\n",
       "</table>\n",
       "</div>"
      ],
      "text/plain": [
       "       C   gamma  acc_train  acc_test    duration\n",
       "0    1.0  0.0001    0.32100    0.3240  418.539807\n",
       "1    1.0   0.001    0.40984    0.3936  373.070863\n",
       "2    1.0    auto    0.78370    0.4800  384.505645\n",
       "3    2.5  0.0001    0.33594    0.3345  386.729387\n",
       "4    2.5   0.001    0.44560    0.4173  351.625616\n",
       "5    2.5    auto    0.92088    0.4907  519.088972\n",
       "6    5.0  0.0001    0.34822    0.3428  370.413485\n",
       "7    5.0   0.001    0.48034    0.4302  337.768128\n",
       "8    5.0    auto    0.96622    0.4893  553.811976\n",
       "9   10.0  0.0001    0.35990    0.3559  362.466607\n",
       "10  10.0   0.001    0.51920    0.4445  337.429089\n",
       "11  10.0    auto    0.98664    0.4840  566.058919\n",
       "12  20.0  0.0001    0.37424    0.3669  358.300875\n",
       "13  20.0   0.001    0.56654    0.4548  346.243115\n",
       "14  20.0    auto    0.99542    0.4775  571.920638"
      ]
     },
     "execution_count": 12,
     "metadata": {},
     "output_type": "execute_result"
    }
   ],
   "source": [
    "c_rbf= [1, 2.5, 5, 10, 20]\n",
    "gamma= [0.0001, 0.001, 'auto']\n",
    "acc_train_rbf = []\n",
    "acc_test_rbf = []\n",
    "\n",
    "results = []\n",
    "\n",
    "s_time_t = time.time()\n",
    "for c in c_rbf:\n",
    "    for g in gamma:\n",
    "        s_time = time.time()\n",
    "        acc_train, acc_test = svc_G(c, g= g)\n",
    "        f_time = time.time()\n",
    "        d=f_time - s_time\n",
    "        print(f'Durration for C: {c} and gamma: {g} is {d}sec')\n",
    "\n",
    "        results.append({'C': c, 'gamma': g, 'acc_train': acc_train, 'acc_test': acc_test, 'duration': d})\n",
    "        \n",
    "f_time_t = time.time()\n",
    "dur = f_time_t - s_time_t\n",
    "print(f'Durration: {dur:.2f}')\n",
    "\n",
    "df = pd.DataFrame(results)\n",
    "df"
   ]
  },
  {
   "cell_type": "code",
   "execution_count": 13,
   "metadata": {},
   "outputs": [
    {
     "data": {
      "text/plain": [
       "5"
      ]
     },
     "execution_count": 13,
     "metadata": {},
     "output_type": "execute_result"
    }
   ],
   "source": [
    "idmax = df['acc_test'].idxmax()\n",
    "idmax"
   ]
  },
  {
   "cell_type": "code",
   "execution_count": 14,
   "metadata": {},
   "outputs": [
    {
     "data": {
      "text/plain": [
       "0.012987012987012988"
      ]
     },
     "execution_count": 14,
     "metadata": {},
     "output_type": "execute_result"
    }
   ],
   "source": [
    "1/X_train_g.shape[1]"
   ]
  },
  {
   "cell_type": "code",
   "execution_count": 35,
   "metadata": {},
   "outputs": [
    {
     "name": "stdout",
     "output_type": "stream",
     "text": [
      "Train accuracy: 0.926600\n",
      "Test accuracy: 0.375400\n",
      "The C is: 2.5 and the gamma is: 0.0095\n",
      "Durration for C: 2.5 and gamma: 0.0095 is 7.460336208343506sec\n",
      "Train accuracy: 0.934000\n",
      "Test accuracy: 0.374600\n",
      "The C is: 2.5 and the gamma is: 0.01\n",
      "Durration for C: 2.5 and gamma: 0.01 is 7.598841905593872sec\n",
      "Train accuracy: 0.969600\n",
      "Test accuracy: 0.370000\n",
      "The C is: 2.5 and the gamma is: auto\n",
      "Durration for C: 2.5 and gamma: auto is 7.646691560745239sec\n",
      "Train accuracy: 0.976200\n",
      "Test accuracy: 0.366000\n",
      "The C is: 5 and the gamma is: 0.0095\n",
      "Durration for C: 5 and gamma: 0.0095 is 7.598882675170898sec\n",
      "Train accuracy: 0.981800\n",
      "Test accuracy: 0.367500\n",
      "The C is: 5 and the gamma is: 0.01\n",
      "Durration for C: 5 and gamma: 0.01 is 7.357379913330078sec\n",
      "Train accuracy: 0.994000\n",
      "Test accuracy: 0.366900\n",
      "The C is: 5 and the gamma is: auto\n",
      "Durration for C: 5 and gamma: auto is 7.34008526802063sec\n",
      "Train accuracy: 0.990800\n",
      "Test accuracy: 0.362700\n",
      "The C is: 7.5 and the gamma is: 0.0095\n",
      "Durration for C: 7.5 and gamma: 0.0095 is 7.309272289276123sec\n",
      "Train accuracy: 0.991800\n",
      "Test accuracy: 0.363200\n",
      "The C is: 7.5 and the gamma is: 0.01\n",
      "Durration for C: 7.5 and gamma: 0.01 is 7.411109447479248sec\n",
      "Train accuracy: 0.998200\n",
      "Test accuracy: 0.365800\n",
      "The C is: 7.5 and the gamma is: auto\n",
      "Durration for C: 7.5 and gamma: auto is 7.615678787231445sec\n",
      "Durration: 67.34\n"
     ]
    },
    {
     "data": {
      "text/html": [
       "<div>\n",
       "<style scoped>\n",
       "    .dataframe tbody tr th:only-of-type {\n",
       "        vertical-align: middle;\n",
       "    }\n",
       "\n",
       "    .dataframe tbody tr th {\n",
       "        vertical-align: top;\n",
       "    }\n",
       "\n",
       "    .dataframe thead th {\n",
       "        text-align: right;\n",
       "    }\n",
       "</style>\n",
       "<table border=\"1\" class=\"dataframe\">\n",
       "  <thead>\n",
       "    <tr style=\"text-align: right;\">\n",
       "      <th></th>\n",
       "      <th>C</th>\n",
       "      <th>gamma</th>\n",
       "      <th>acc_train</th>\n",
       "      <th>acc_test</th>\n",
       "      <th>duration</th>\n",
       "    </tr>\n",
       "  </thead>\n",
       "  <tbody>\n",
       "    <tr>\n",
       "      <th>0</th>\n",
       "      <td>2.5</td>\n",
       "      <td>0.0095</td>\n",
       "      <td>0.9266</td>\n",
       "      <td>0.3754</td>\n",
       "      <td>7.460336</td>\n",
       "    </tr>\n",
       "    <tr>\n",
       "      <th>1</th>\n",
       "      <td>2.5</td>\n",
       "      <td>0.01</td>\n",
       "      <td>0.9340</td>\n",
       "      <td>0.3746</td>\n",
       "      <td>7.598842</td>\n",
       "    </tr>\n",
       "    <tr>\n",
       "      <th>2</th>\n",
       "      <td>2.5</td>\n",
       "      <td>auto</td>\n",
       "      <td>0.9696</td>\n",
       "      <td>0.3700</td>\n",
       "      <td>7.646692</td>\n",
       "    </tr>\n",
       "    <tr>\n",
       "      <th>3</th>\n",
       "      <td>5.0</td>\n",
       "      <td>0.0095</td>\n",
       "      <td>0.9762</td>\n",
       "      <td>0.3660</td>\n",
       "      <td>7.598883</td>\n",
       "    </tr>\n",
       "    <tr>\n",
       "      <th>4</th>\n",
       "      <td>5.0</td>\n",
       "      <td>0.01</td>\n",
       "      <td>0.9818</td>\n",
       "      <td>0.3675</td>\n",
       "      <td>7.357380</td>\n",
       "    </tr>\n",
       "    <tr>\n",
       "      <th>5</th>\n",
       "      <td>5.0</td>\n",
       "      <td>auto</td>\n",
       "      <td>0.9940</td>\n",
       "      <td>0.3669</td>\n",
       "      <td>7.340085</td>\n",
       "    </tr>\n",
       "    <tr>\n",
       "      <th>6</th>\n",
       "      <td>7.5</td>\n",
       "      <td>0.0095</td>\n",
       "      <td>0.9908</td>\n",
       "      <td>0.3627</td>\n",
       "      <td>7.309272</td>\n",
       "    </tr>\n",
       "    <tr>\n",
       "      <th>7</th>\n",
       "      <td>7.5</td>\n",
       "      <td>0.01</td>\n",
       "      <td>0.9918</td>\n",
       "      <td>0.3632</td>\n",
       "      <td>7.411109</td>\n",
       "    </tr>\n",
       "    <tr>\n",
       "      <th>8</th>\n",
       "      <td>7.5</td>\n",
       "      <td>auto</td>\n",
       "      <td>0.9982</td>\n",
       "      <td>0.3658</td>\n",
       "      <td>7.615679</td>\n",
       "    </tr>\n",
       "  </tbody>\n",
       "</table>\n",
       "</div>"
      ],
      "text/plain": [
       "     C   gamma  acc_train  acc_test  duration\n",
       "0  2.5  0.0095     0.9266    0.3754  7.460336\n",
       "1  2.5    0.01     0.9340    0.3746  7.598842\n",
       "2  2.5    auto     0.9696    0.3700  7.646692\n",
       "3  5.0  0.0095     0.9762    0.3660  7.598883\n",
       "4  5.0    0.01     0.9818    0.3675  7.357380\n",
       "5  5.0    auto     0.9940    0.3669  7.340085\n",
       "6  7.5  0.0095     0.9908    0.3627  7.309272\n",
       "7  7.5    0.01     0.9918    0.3632  7.411109\n",
       "8  7.5    auto     0.9982    0.3658  7.615679"
      ]
     },
     "execution_count": 35,
     "metadata": {},
     "output_type": "execute_result"
    }
   ],
   "source": [
    "c_rbf= [2.5, 5, 7.5]\n",
    "gamma= [0.0095, 0.01,'auto']\n",
    "acc_train_rbf = []\n",
    "acc_test_rbf = []\n",
    "\n",
    "results = []\n",
    "\n",
    "s_time_t = time.time()\n",
    "for c in c_rbf:\n",
    "    for g in gamma:\n",
    "        s_time = time.time()\n",
    "        acc_train, acc_test = svc_G(c, g= g)\n",
    "        f_time = time.time()\n",
    "        d=f_time - s_time\n",
    "        print(f'Durration for C: {c} and gamma: {g} is {d}sec')\n",
    "\n",
    "        results.append({'C': c, 'gamma': g, 'acc_train': acc_train, 'acc_test': acc_test, 'duration': d})\n",
    "        \n",
    "f_time_t = time.time()\n",
    "dur = f_time_t - s_time_t\n",
    "print(f'Durration: {dur:.2f}')\n",
    "\n",
    "df = pd.DataFrame(results)\n",
    "df"
   ]
  },
  {
   "cell_type": "code",
   "execution_count": 36,
   "metadata": {},
   "outputs": [
    {
     "data": {
      "text/plain": [
       "0"
      ]
     },
     "execution_count": 36,
     "metadata": {},
     "output_type": "execute_result"
    }
   ],
   "source": [
    "idmax = df['acc_test'].idxmax()\n",
    "idmax"
   ]
  },
  {
   "cell_type": "markdown",
   "metadata": {},
   "source": [
    "Για όλα τα δεδομένα με C = 2.5 και gamma = 0.0095"
   ]
  },
  {
   "cell_type": "code",
   "execution_count": 43,
   "metadata": {},
   "outputs": [
    {
     "name": "stdout",
     "output_type": "stream",
     "text": [
      "Fitting time is: 169.8067181110382\n",
      "Train accuracy: 0.858700\n",
      "Training time: 196.58207774162292\n",
      "Test accuracy: 0.488300\n",
      "Testing time: 39.2997727394104\n"
     ]
    }
   ],
   "source": [
    "from sklearn.svm import SVC\n",
    "\n",
    "best_model = SVC(kernel='rbf',C=2.5, gamma=0.0095)\n",
    "s_time = time.time()\n",
    "best_model.fit(X_train_g, y_train)\n",
    "f_time = time.time()\n",
    "print(f'Fitting time is: {f_time - s_time}')\n",
    "s_t = time.time()\n",
    "y_pred_train = best_model.predict(X_train_g)\n",
    "acc_train = np.mean(y_pred_train == y_train)\n",
    "f_t = time.time()\n",
    "print('Train accuracy: {0:f}'.format(acc_train))\n",
    "print(f'Training time: {f_t - s_t}')\n",
    "s_t = time.time()\n",
    "y_pred_test = best_model.predict(X_test_g)\n",
    "acc_test = np.mean(y_pred_test == y_test)\n",
    "f_t = time.time()\n",
    "print('Test accuracy: {0:f}'.format(acc_test))\n",
    "print(f'Testing time: {f_t - s_t}')"
   ]
  }
 ],
 "metadata": {
  "kernelspec": {
   "display_name": "Python 3",
   "language": "python",
   "name": "python3"
  },
  "language_info": {
   "codemirror_mode": {
    "name": "ipython",
    "version": 3
   },
   "file_extension": ".py",
   "mimetype": "text/x-python",
   "name": "python",
   "nbconvert_exporter": "python",
   "pygments_lexer": "ipython3",
   "version": "3.12.7"
  }
 },
 "nbformat": 4,
 "nbformat_minor": 2
}
